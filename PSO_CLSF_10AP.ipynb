{
  "nbformat": 4,
  "nbformat_minor": 0,
  "metadata": {
    "colab": {
      "provenance": [],
      "gpuType": "T4"
    },
    "kernelspec": {
      "name": "python3",
      "display_name": "Python 3"
    },
    "language_info": {
      "name": "python"
    },
    "accelerator": "GPU"
  },
  "cells": [
    {
      "cell_type": "code",
      "execution_count": null,
      "metadata": {
        "colab": {
          "base_uri": "https://localhost:8080/"
        },
        "id": "I3snAWZFn0r2",
        "outputId": "9b05ac19-4107-413d-963f-9e48f4e527fa"
      },
      "outputs": [
        {
          "output_type": "stream",
          "name": "stdout",
          "text": [
            "Mounted at /content/drive\n"
          ]
        }
      ],
      "source": [
        "from google.colab import drive\n",
        "drive.mount(\"/content/drive\")"
      ]
    },
    {
      "cell_type": "code",
      "source": [
        "import multiprocessing\n",
        "\n",
        "num_processors = multiprocessing.cpu_count()\n",
        "print(\"Number of processors:\", num_processors)"
      ],
      "metadata": {
        "colab": {
          "base_uri": "https://localhost:8080/"
        },
        "id": "d4VxAAbgcO69",
        "outputId": "9b50562a-449c-44fa-867b-a365353dc635"
      },
      "execution_count": null,
      "outputs": [
        {
          "output_type": "stream",
          "name": "stdout",
          "text": [
            "Number of processors: 2\n"
          ]
        }
      ]
    },
    {
      "cell_type": "code",
      "source": [
        "import os\n",
        "\n",
        "cpu_info = os.popen(\"lscpu\").read()\n",
        "print(cpu_info)"
      ],
      "metadata": {
        "id": "WW63h8_pcn4t",
        "colab": {
          "base_uri": "https://localhost:8080/"
        },
        "outputId": "2e8b6b34-b52f-476e-8341-9f517315884c"
      },
      "execution_count": null,
      "outputs": [
        {
          "output_type": "stream",
          "name": "stdout",
          "text": [
            "Architecture:                    x86_64\n",
            "CPU op-mode(s):                  32-bit, 64-bit\n",
            "Byte Order:                      Little Endian\n",
            "Address sizes:                   46 bits physical, 48 bits virtual\n",
            "CPU(s):                          2\n",
            "On-line CPU(s) list:             0,1\n",
            "Thread(s) per core:              2\n",
            "Core(s) per socket:              1\n",
            "Socket(s):                       1\n",
            "NUMA node(s):                    1\n",
            "Vendor ID:                       GenuineIntel\n",
            "CPU family:                      6\n",
            "Model:                           79\n",
            "Model name:                      Intel(R) Xeon(R) CPU @ 2.20GHz\n",
            "Stepping:                        0\n",
            "CPU MHz:                         2199.998\n",
            "BogoMIPS:                        4399.99\n",
            "Hypervisor vendor:               KVM\n",
            "Virtualization type:             full\n",
            "L1d cache:                       32 KiB\n",
            "L1i cache:                       32 KiB\n",
            "L2 cache:                        256 KiB\n",
            "L3 cache:                        55 MiB\n",
            "NUMA node0 CPU(s):               0,1\n",
            "Vulnerability Itlb multihit:     Not affected\n",
            "Vulnerability L1tf:              Mitigation; PTE Inversion\n",
            "Vulnerability Mds:               Vulnerable; SMT Host state unknown\n",
            "Vulnerability Meltdown:          Vulnerable\n",
            "Vulnerability Mmio stale data:   Vulnerable\n",
            "Vulnerability Retbleed:          Vulnerable\n",
            "Vulnerability Spec store bypass: Vulnerable\n",
            "Vulnerability Spectre v1:        Vulnerable: __user pointer sanitization and usercopy barriers only; no swapgs barriers\n",
            "Vulnerability Spectre v2:        Vulnerable, IBPB: disabled, STIBP: disabled, PBRSB-eIBRS: Not affected\n",
            "Vulnerability Srbds:             Not affected\n",
            "Vulnerability Tsx async abort:   Vulnerable\n",
            "Flags:                           fpu vme de pse tsc msr pae mce cx8 apic sep mtrr pge mca cmov pat pse36 clflush mmx fxsr sse sse2 ss ht syscall nx pdpe1gb rdtscp lm constant_tsc rep_good nopl xtopology nonstop_tsc cpuid tsc_known_freq pni pclmulqdq ssse3 fma cx16 pcid sse4_1 sse4_2 x2apic movbe popcnt aes xsave avx f16c rdrand hypervisor lahf_lm abm 3dnowprefetch invpcid_single ssbd ibrs ibpb stibp fsgsbase tsc_adjust bmi1 hle avx2 smep bmi2 erms invpcid rtm rdseed adx smap xsaveopt arat md_clear arch_capabilities\n",
            "\n"
          ]
        }
      ]
    },
    {
      "cell_type": "code",
      "source": [
        "import numpy as np\n",
        "import pandas as pd"
      ],
      "metadata": {
        "id": "xWYMvlce0k77"
      },
      "execution_count": null,
      "outputs": []
    },
    {
      "cell_type": "code",
      "source": [
        "data = pd.read_csv('/content/drive/MyDrive/Colab Notebooks/INDOOR LOCALIZATION EXPERIMENTS/data_new.csv')"
      ],
      "metadata": {
        "id": "RPZFgis60oi6"
      },
      "execution_count": null,
      "outputs": []
    },
    {
      "cell_type": "code",
      "source": [
        "data.head()"
      ],
      "metadata": {
        "colab": {
          "base_uri": "https://localhost:8080/",
          "height": 560
        },
        "id": "ts98j8Og5RpF",
        "outputId": "d2351eaf-d646-4ca8-c48e-ec8e8f972d0d"
      },
      "execution_count": null,
      "outputs": [
        {
          "output_type": "execute_result",
          "data": {
            "text/plain": [
              "   00:02:6f:af:6c:11  00:1a:2a:e8:be:35  00:30:4f:9c:79:18  00:30:f1:fe:fa:7b  \\\n",
              "0              -96.0                0.0                0.0                0.0   \n",
              "1              -96.0                0.0                0.0                0.0   \n",
              "2              -96.0                0.0                0.0                0.0   \n",
              "3              -96.0                0.0                0.0                0.0   \n",
              "4              -96.0                0.0                0.0                0.0   \n",
              "\n",
              "   00:e0:4b:c8:0c:1e  02:17:c8:83:04:1a  02:2e:ce:7b:26:7b  04:bd:88:80:7e:40  \\\n",
              "0                0.0                0.0                0.0                  0   \n",
              "1                0.0                0.0                0.0                  0   \n",
              "2                0.0                0.0                0.0                  0   \n",
              "3                0.0                0.0                0.0                  0   \n",
              "4                0.0                0.0                0.0                  0   \n",
              "\n",
              "   04:bd:88:83:b8:a0  04:bd:88:83:c4:e0  ...  dc:ee:06:3a:ac:64  \\\n",
              "0                0.0                0.0  ...                0.0   \n",
              "1                0.0                0.0  ...                0.0   \n",
              "2                0.0                0.0  ...                0.0   \n",
              "3                0.0                0.0  ...                0.0   \n",
              "4                0.0                0.0  ...                0.0   \n",
              "\n",
              "   f2:d5:55:a6:2d:2b  f6:39:09:58:13:a9  f8:23:b2:b7:2a:3a  fe:01:7c:78:d3:d9  \\\n",
              "0                  0                0.0                  0                  0   \n",
              "1                  0                0.0                  0                  0   \n",
              "2                  0                0.0                  0                  0   \n",
              "3                  0                0.0                  0                  0   \n",
              "4                  0                0.0                  0                  0   \n",
              "\n",
              "     TIMESTAMPS        LAT        LON                                  ROOM  \\\n",
              "0  1.676569e+18  36.896472  30.648824  1e1b47d4-27c4-42c5-add2-e6ff16348b65   \n",
              "1  1.676569e+18  36.896472  30.648824  1e1b47d4-27c4-42c5-add2-e6ff16348b65   \n",
              "2  1.676569e+18  36.896472  30.648824  1e1b47d4-27c4-42c5-add2-e6ff16348b65   \n",
              "3  1.676569e+18  36.896472  30.648824  1e1b47d4-27c4-42c5-add2-e6ff16348b65   \n",
              "4  1.676569e+18  36.896472  30.648824  1e1b47d4-27c4-42c5-add2-e6ff16348b65   \n",
              "\n",
              "   FLOOR  \n",
              "0      2  \n",
              "1      2  \n",
              "2      2  \n",
              "3      2  \n",
              "4      2  \n",
              "\n",
              "[5 rows x 90 columns]"
            ],
            "text/html": [
              "\n",
              "  <div id=\"df-bd0a3017-faa4-48d0-9058-cee68741f83d\">\n",
              "    <div class=\"colab-df-container\">\n",
              "      <div>\n",
              "<style scoped>\n",
              "    .dataframe tbody tr th:only-of-type {\n",
              "        vertical-align: middle;\n",
              "    }\n",
              "\n",
              "    .dataframe tbody tr th {\n",
              "        vertical-align: top;\n",
              "    }\n",
              "\n",
              "    .dataframe thead th {\n",
              "        text-align: right;\n",
              "    }\n",
              "</style>\n",
              "<table border=\"1\" class=\"dataframe\">\n",
              "  <thead>\n",
              "    <tr style=\"text-align: right;\">\n",
              "      <th></th>\n",
              "      <th>00:02:6f:af:6c:11</th>\n",
              "      <th>00:1a:2a:e8:be:35</th>\n",
              "      <th>00:30:4f:9c:79:18</th>\n",
              "      <th>00:30:f1:fe:fa:7b</th>\n",
              "      <th>00:e0:4b:c8:0c:1e</th>\n",
              "      <th>02:17:c8:83:04:1a</th>\n",
              "      <th>02:2e:ce:7b:26:7b</th>\n",
              "      <th>04:bd:88:80:7e:40</th>\n",
              "      <th>04:bd:88:83:b8:a0</th>\n",
              "      <th>04:bd:88:83:c4:e0</th>\n",
              "      <th>...</th>\n",
              "      <th>dc:ee:06:3a:ac:64</th>\n",
              "      <th>f2:d5:55:a6:2d:2b</th>\n",
              "      <th>f6:39:09:58:13:a9</th>\n",
              "      <th>f8:23:b2:b7:2a:3a</th>\n",
              "      <th>fe:01:7c:78:d3:d9</th>\n",
              "      <th>TIMESTAMPS</th>\n",
              "      <th>LAT</th>\n",
              "      <th>LON</th>\n",
              "      <th>ROOM</th>\n",
              "      <th>FLOOR</th>\n",
              "    </tr>\n",
              "  </thead>\n",
              "  <tbody>\n",
              "    <tr>\n",
              "      <th>0</th>\n",
              "      <td>-96.0</td>\n",
              "      <td>0.0</td>\n",
              "      <td>0.0</td>\n",
              "      <td>0.0</td>\n",
              "      <td>0.0</td>\n",
              "      <td>0.0</td>\n",
              "      <td>0.0</td>\n",
              "      <td>0</td>\n",
              "      <td>0.0</td>\n",
              "      <td>0.0</td>\n",
              "      <td>...</td>\n",
              "      <td>0.0</td>\n",
              "      <td>0</td>\n",
              "      <td>0.0</td>\n",
              "      <td>0</td>\n",
              "      <td>0</td>\n",
              "      <td>1.676569e+18</td>\n",
              "      <td>36.896472</td>\n",
              "      <td>30.648824</td>\n",
              "      <td>1e1b47d4-27c4-42c5-add2-e6ff16348b65</td>\n",
              "      <td>2</td>\n",
              "    </tr>\n",
              "    <tr>\n",
              "      <th>1</th>\n",
              "      <td>-96.0</td>\n",
              "      <td>0.0</td>\n",
              "      <td>0.0</td>\n",
              "      <td>0.0</td>\n",
              "      <td>0.0</td>\n",
              "      <td>0.0</td>\n",
              "      <td>0.0</td>\n",
              "      <td>0</td>\n",
              "      <td>0.0</td>\n",
              "      <td>0.0</td>\n",
              "      <td>...</td>\n",
              "      <td>0.0</td>\n",
              "      <td>0</td>\n",
              "      <td>0.0</td>\n",
              "      <td>0</td>\n",
              "      <td>0</td>\n",
              "      <td>1.676569e+18</td>\n",
              "      <td>36.896472</td>\n",
              "      <td>30.648824</td>\n",
              "      <td>1e1b47d4-27c4-42c5-add2-e6ff16348b65</td>\n",
              "      <td>2</td>\n",
              "    </tr>\n",
              "    <tr>\n",
              "      <th>2</th>\n",
              "      <td>-96.0</td>\n",
              "      <td>0.0</td>\n",
              "      <td>0.0</td>\n",
              "      <td>0.0</td>\n",
              "      <td>0.0</td>\n",
              "      <td>0.0</td>\n",
              "      <td>0.0</td>\n",
              "      <td>0</td>\n",
              "      <td>0.0</td>\n",
              "      <td>0.0</td>\n",
              "      <td>...</td>\n",
              "      <td>0.0</td>\n",
              "      <td>0</td>\n",
              "      <td>0.0</td>\n",
              "      <td>0</td>\n",
              "      <td>0</td>\n",
              "      <td>1.676569e+18</td>\n",
              "      <td>36.896472</td>\n",
              "      <td>30.648824</td>\n",
              "      <td>1e1b47d4-27c4-42c5-add2-e6ff16348b65</td>\n",
              "      <td>2</td>\n",
              "    </tr>\n",
              "    <tr>\n",
              "      <th>3</th>\n",
              "      <td>-96.0</td>\n",
              "      <td>0.0</td>\n",
              "      <td>0.0</td>\n",
              "      <td>0.0</td>\n",
              "      <td>0.0</td>\n",
              "      <td>0.0</td>\n",
              "      <td>0.0</td>\n",
              "      <td>0</td>\n",
              "      <td>0.0</td>\n",
              "      <td>0.0</td>\n",
              "      <td>...</td>\n",
              "      <td>0.0</td>\n",
              "      <td>0</td>\n",
              "      <td>0.0</td>\n",
              "      <td>0</td>\n",
              "      <td>0</td>\n",
              "      <td>1.676569e+18</td>\n",
              "      <td>36.896472</td>\n",
              "      <td>30.648824</td>\n",
              "      <td>1e1b47d4-27c4-42c5-add2-e6ff16348b65</td>\n",
              "      <td>2</td>\n",
              "    </tr>\n",
              "    <tr>\n",
              "      <th>4</th>\n",
              "      <td>-96.0</td>\n",
              "      <td>0.0</td>\n",
              "      <td>0.0</td>\n",
              "      <td>0.0</td>\n",
              "      <td>0.0</td>\n",
              "      <td>0.0</td>\n",
              "      <td>0.0</td>\n",
              "      <td>0</td>\n",
              "      <td>0.0</td>\n",
              "      <td>0.0</td>\n",
              "      <td>...</td>\n",
              "      <td>0.0</td>\n",
              "      <td>0</td>\n",
              "      <td>0.0</td>\n",
              "      <td>0</td>\n",
              "      <td>0</td>\n",
              "      <td>1.676569e+18</td>\n",
              "      <td>36.896472</td>\n",
              "      <td>30.648824</td>\n",
              "      <td>1e1b47d4-27c4-42c5-add2-e6ff16348b65</td>\n",
              "      <td>2</td>\n",
              "    </tr>\n",
              "  </tbody>\n",
              "</table>\n",
              "<p>5 rows × 90 columns</p>\n",
              "</div>\n",
              "      <button class=\"colab-df-convert\" onclick=\"convertToInteractive('df-bd0a3017-faa4-48d0-9058-cee68741f83d')\"\n",
              "              title=\"Convert this dataframe to an interactive table.\"\n",
              "              style=\"display:none;\">\n",
              "        \n",
              "  <svg xmlns=\"http://www.w3.org/2000/svg\" height=\"24px\"viewBox=\"0 0 24 24\"\n",
              "       width=\"24px\">\n",
              "    <path d=\"M0 0h24v24H0V0z\" fill=\"none\"/>\n",
              "    <path d=\"M18.56 5.44l.94 2.06.94-2.06 2.06-.94-2.06-.94-.94-2.06-.94 2.06-2.06.94zm-11 1L8.5 8.5l.94-2.06 2.06-.94-2.06-.94L8.5 2.5l-.94 2.06-2.06.94zm10 10l.94 2.06.94-2.06 2.06-.94-2.06-.94-.94-2.06-.94 2.06-2.06.94z\"/><path d=\"M17.41 7.96l-1.37-1.37c-.4-.4-.92-.59-1.43-.59-.52 0-1.04.2-1.43.59L10.3 9.45l-7.72 7.72c-.78.78-.78 2.05 0 2.83L4 21.41c.39.39.9.59 1.41.59.51 0 1.02-.2 1.41-.59l7.78-7.78 2.81-2.81c.8-.78.8-2.07 0-2.86zM5.41 20L4 18.59l7.72-7.72 1.47 1.35L5.41 20z\"/>\n",
              "  </svg>\n",
              "      </button>\n",
              "      \n",
              "  <style>\n",
              "    .colab-df-container {\n",
              "      display:flex;\n",
              "      flex-wrap:wrap;\n",
              "      gap: 12px;\n",
              "    }\n",
              "\n",
              "    .colab-df-convert {\n",
              "      background-color: #E8F0FE;\n",
              "      border: none;\n",
              "      border-radius: 50%;\n",
              "      cursor: pointer;\n",
              "      display: none;\n",
              "      fill: #1967D2;\n",
              "      height: 32px;\n",
              "      padding: 0 0 0 0;\n",
              "      width: 32px;\n",
              "    }\n",
              "\n",
              "    .colab-df-convert:hover {\n",
              "      background-color: #E2EBFA;\n",
              "      box-shadow: 0px 1px 2px rgba(60, 64, 67, 0.3), 0px 1px 3px 1px rgba(60, 64, 67, 0.15);\n",
              "      fill: #174EA6;\n",
              "    }\n",
              "\n",
              "    [theme=dark] .colab-df-convert {\n",
              "      background-color: #3B4455;\n",
              "      fill: #D2E3FC;\n",
              "    }\n",
              "\n",
              "    [theme=dark] .colab-df-convert:hover {\n",
              "      background-color: #434B5C;\n",
              "      box-shadow: 0px 1px 3px 1px rgba(0, 0, 0, 0.15);\n",
              "      filter: drop-shadow(0px 1px 2px rgba(0, 0, 0, 0.3));\n",
              "      fill: #FFFFFF;\n",
              "    }\n",
              "  </style>\n",
              "\n",
              "      <script>\n",
              "        const buttonEl =\n",
              "          document.querySelector('#df-bd0a3017-faa4-48d0-9058-cee68741f83d button.colab-df-convert');\n",
              "        buttonEl.style.display =\n",
              "          google.colab.kernel.accessAllowed ? 'block' : 'none';\n",
              "\n",
              "        async function convertToInteractive(key) {\n",
              "          const element = document.querySelector('#df-bd0a3017-faa4-48d0-9058-cee68741f83d');\n",
              "          const dataTable =\n",
              "            await google.colab.kernel.invokeFunction('convertToInteractive',\n",
              "                                                     [key], {});\n",
              "          if (!dataTable) return;\n",
              "\n",
              "          const docLinkHtml = 'Like what you see? Visit the ' +\n",
              "            '<a target=\"_blank\" href=https://colab.research.google.com/notebooks/data_table.ipynb>data table notebook</a>'\n",
              "            + ' to learn more about interactive tables.';\n",
              "          element.innerHTML = '';\n",
              "          dataTable['output_type'] = 'display_data';\n",
              "          await google.colab.output.renderOutput(dataTable, element);\n",
              "          const docLink = document.createElement('div');\n",
              "          docLink.innerHTML = docLinkHtml;\n",
              "          element.appendChild(docLink);\n",
              "        }\n",
              "      </script>\n",
              "    </div>\n",
              "  </div>\n",
              "  "
            ]
          },
          "metadata": {},
          "execution_count": 6
        }
      ]
    },
    {
      "cell_type": "code",
      "source": [
        "data.replace(0, -1000, inplace=True)"
      ],
      "metadata": {
        "id": "57xdnjYb5Pz6"
      },
      "execution_count": null,
      "outputs": []
    },
    {
      "cell_type": "code",
      "source": [
        "X = data.iloc[:,:85]"
      ],
      "metadata": {
        "id": "TZ_7MRiQ0odI"
      },
      "execution_count": null,
      "outputs": []
    },
    {
      "cell_type": "code",
      "source": [
        "y = data.iloc[:,88]"
      ],
      "metadata": {
        "id": "aQ_fp-Zr0oam"
      },
      "execution_count": null,
      "outputs": []
    },
    {
      "cell_type": "code",
      "source": [
        "from sklearn.model_selection import train_test_split\n",
        "from sklearn.neighbors import KNeighborsClassifier\n",
        "from sklearn.metrics import accuracy_score,confusion_matrix,classification_report, precision_score, recall_score\n",
        "from sklearn.linear_model import LogisticRegression\n",
        "\n",
        "from sklearn.ensemble import RandomForestClassifier\n",
        "from sklearn.svm import SVC\n",
        "from sklearn.tree import DecisionTreeClassifier"
      ],
      "metadata": {
        "id": "m6dc7kK60-JQ"
      },
      "execution_count": null,
      "outputs": []
    },
    {
      "cell_type": "code",
      "source": [
        "X_train, X_test, y_train, y_test = train_test_split(X, y, test_size = 0.2, random_state = 42)"
      ],
      "metadata": {
        "id": "1tYwT_n00-HX"
      },
      "execution_count": null,
      "outputs": []
    },
    {
      "cell_type": "code",
      "source": [
        "import tensorflow as tf"
      ],
      "metadata": {
        "id": "fgvsSdyy0-E7"
      },
      "execution_count": null,
      "outputs": []
    },
    {
      "cell_type": "code",
      "source": [
        "import random"
      ],
      "metadata": {
        "id": "V2Atodfj0-Bo"
      },
      "execution_count": null,
      "outputs": []
    },
    {
      "cell_type": "code",
      "source": [
        "random.seed(2)"
      ],
      "metadata": {
        "id": "pDe-jra77xaG"
      },
      "execution_count": null,
      "outputs": []
    },
    {
      "cell_type": "code",
      "source": [
        "from joblib import Parallel, delayed"
      ],
      "metadata": {
        "id": "iA8g703-t-DZ"
      },
      "execution_count": null,
      "outputs": []
    },
    {
      "cell_type": "code",
      "source": [
        "knn_accuracy_list = []\n",
        "knn_precision_list = []\n",
        "knn_recall_list = []\n",
        "\n",
        "randfrst_accuracy_list = []\n",
        "randfrst_precision_list = []\n",
        "randfrst_recall_list = []\n",
        "\n",
        "dt_accuracy_list = []\n",
        "dt_precision_list = []\n",
        "dt_recall_list = []"
      ],
      "metadata": {
        "id": "YYmbjDrc09-3"
      },
      "execution_count": null,
      "outputs": []
    },
    {
      "cell_type": "markdown",
      "source": [
        "KNN"
      ],
      "metadata": {
        "id": "cLxBZkM3exU8"
      }
    },
    {
      "cell_type": "code",
      "source": [
        "for _ in range(0,50):\n",
        "  # random.seed(41)\n",
        "  feature_indexes = random.sample(range(0, 85), 10)\n",
        "  X = data.iloc[:,feature_indexes]\n",
        "  y = data.iloc[:,88]\n",
        "  X_train, X_test, y_train, y_test = train_test_split(X, y, test_size = 0.2, random_state = 42)\n",
        "\n",
        "  classifier = KNeighborsClassifier()\n",
        "  classifier.fit(X_train, y_train)\n",
        "  y_pred = classifier.predict(X_test)\n",
        "  knn_accuracy = accuracy_score(y_test, y_pred)\n",
        "  knn_accuracy_list.append(knn_accuracy)\n",
        "  knn_precision = precision_score(y_test,y_pred,average='weighted')\n",
        "  knn_precision_list.append(knn_precision)\n",
        "  knn_recall = recall_score(y_test,y_pred, average='weighted')\n",
        "  knn_recall_list.append(knn_recall)"
      ],
      "metadata": {
        "id": "V3O98itW_H4g",
        "colab": {
          "base_uri": "https://localhost:8080/"
        },
        "outputId": "9191976f-00fb-40e4-a4fc-881f10f1f2be"
      },
      "execution_count": null,
      "outputs": [
        {
          "output_type": "stream",
          "name": "stderr",
          "text": [
            "/usr/local/lib/python3.10/dist-packages/sklearn/metrics/_classification.py:1344: UndefinedMetricWarning: Precision is ill-defined and being set to 0.0 in labels with no predicted samples. Use `zero_division` parameter to control this behavior.\n",
            "  _warn_prf(average, modifier, msg_start, len(result))\n",
            "/usr/local/lib/python3.10/dist-packages/sklearn/metrics/_classification.py:1344: UndefinedMetricWarning: Precision is ill-defined and being set to 0.0 in labels with no predicted samples. Use `zero_division` parameter to control this behavior.\n",
            "  _warn_prf(average, modifier, msg_start, len(result))\n",
            "/usr/local/lib/python3.10/dist-packages/sklearn/metrics/_classification.py:1344: UndefinedMetricWarning: Precision is ill-defined and being set to 0.0 in labels with no predicted samples. Use `zero_division` parameter to control this behavior.\n",
            "  _warn_prf(average, modifier, msg_start, len(result))\n",
            "/usr/local/lib/python3.10/dist-packages/sklearn/metrics/_classification.py:1344: UndefinedMetricWarning: Precision is ill-defined and being set to 0.0 in labels with no predicted samples. Use `zero_division` parameter to control this behavior.\n",
            "  _warn_prf(average, modifier, msg_start, len(result))\n",
            "/usr/local/lib/python3.10/dist-packages/sklearn/metrics/_classification.py:1344: UndefinedMetricWarning: Precision is ill-defined and being set to 0.0 in labels with no predicted samples. Use `zero_division` parameter to control this behavior.\n",
            "  _warn_prf(average, modifier, msg_start, len(result))\n",
            "/usr/local/lib/python3.10/dist-packages/sklearn/metrics/_classification.py:1344: UndefinedMetricWarning: Precision is ill-defined and being set to 0.0 in labels with no predicted samples. Use `zero_division` parameter to control this behavior.\n",
            "  _warn_prf(average, modifier, msg_start, len(result))\n",
            "/usr/local/lib/python3.10/dist-packages/sklearn/metrics/_classification.py:1344: UndefinedMetricWarning: Precision is ill-defined and being set to 0.0 in labels with no predicted samples. Use `zero_division` parameter to control this behavior.\n",
            "  _warn_prf(average, modifier, msg_start, len(result))\n",
            "/usr/local/lib/python3.10/dist-packages/sklearn/metrics/_classification.py:1344: UndefinedMetricWarning: Precision is ill-defined and being set to 0.0 in labels with no predicted samples. Use `zero_division` parameter to control this behavior.\n",
            "  _warn_prf(average, modifier, msg_start, len(result))\n",
            "/usr/local/lib/python3.10/dist-packages/sklearn/metrics/_classification.py:1344: UndefinedMetricWarning: Precision is ill-defined and being set to 0.0 in labels with no predicted samples. Use `zero_division` parameter to control this behavior.\n",
            "  _warn_prf(average, modifier, msg_start, len(result))\n",
            "/usr/local/lib/python3.10/dist-packages/sklearn/metrics/_classification.py:1344: UndefinedMetricWarning: Precision is ill-defined and being set to 0.0 in labels with no predicted samples. Use `zero_division` parameter to control this behavior.\n",
            "  _warn_prf(average, modifier, msg_start, len(result))\n",
            "/usr/local/lib/python3.10/dist-packages/sklearn/metrics/_classification.py:1344: UndefinedMetricWarning: Precision is ill-defined and being set to 0.0 in labels with no predicted samples. Use `zero_division` parameter to control this behavior.\n",
            "  _warn_prf(average, modifier, msg_start, len(result))\n",
            "/usr/local/lib/python3.10/dist-packages/sklearn/metrics/_classification.py:1344: UndefinedMetricWarning: Precision is ill-defined and being set to 0.0 in labels with no predicted samples. Use `zero_division` parameter to control this behavior.\n",
            "  _warn_prf(average, modifier, msg_start, len(result))\n",
            "/usr/local/lib/python3.10/dist-packages/sklearn/metrics/_classification.py:1344: UndefinedMetricWarning: Precision is ill-defined and being set to 0.0 in labels with no predicted samples. Use `zero_division` parameter to control this behavior.\n",
            "  _warn_prf(average, modifier, msg_start, len(result))\n",
            "/usr/local/lib/python3.10/dist-packages/sklearn/metrics/_classification.py:1344: UndefinedMetricWarning: Precision is ill-defined and being set to 0.0 in labels with no predicted samples. Use `zero_division` parameter to control this behavior.\n",
            "  _warn_prf(average, modifier, msg_start, len(result))\n",
            "/usr/local/lib/python3.10/dist-packages/sklearn/metrics/_classification.py:1344: UndefinedMetricWarning: Precision is ill-defined and being set to 0.0 in labels with no predicted samples. Use `zero_division` parameter to control this behavior.\n",
            "  _warn_prf(average, modifier, msg_start, len(result))\n",
            "/usr/local/lib/python3.10/dist-packages/sklearn/metrics/_classification.py:1344: UndefinedMetricWarning: Precision is ill-defined and being set to 0.0 in labels with no predicted samples. Use `zero_division` parameter to control this behavior.\n",
            "  _warn_prf(average, modifier, msg_start, len(result))\n",
            "/usr/local/lib/python3.10/dist-packages/sklearn/metrics/_classification.py:1344: UndefinedMetricWarning: Precision is ill-defined and being set to 0.0 in labels with no predicted samples. Use `zero_division` parameter to control this behavior.\n",
            "  _warn_prf(average, modifier, msg_start, len(result))\n",
            "/usr/local/lib/python3.10/dist-packages/sklearn/metrics/_classification.py:1344: UndefinedMetricWarning: Precision is ill-defined and being set to 0.0 in labels with no predicted samples. Use `zero_division` parameter to control this behavior.\n",
            "  _warn_prf(average, modifier, msg_start, len(result))\n",
            "/usr/local/lib/python3.10/dist-packages/sklearn/metrics/_classification.py:1344: UndefinedMetricWarning: Precision is ill-defined and being set to 0.0 in labels with no predicted samples. Use `zero_division` parameter to control this behavior.\n",
            "  _warn_prf(average, modifier, msg_start, len(result))\n",
            "/usr/local/lib/python3.10/dist-packages/sklearn/metrics/_classification.py:1344: UndefinedMetricWarning: Precision is ill-defined and being set to 0.0 in labels with no predicted samples. Use `zero_division` parameter to control this behavior.\n",
            "  _warn_prf(average, modifier, msg_start, len(result))\n",
            "/usr/local/lib/python3.10/dist-packages/sklearn/metrics/_classification.py:1344: UndefinedMetricWarning: Precision is ill-defined and being set to 0.0 in labels with no predicted samples. Use `zero_division` parameter to control this behavior.\n",
            "  _warn_prf(average, modifier, msg_start, len(result))\n",
            "/usr/local/lib/python3.10/dist-packages/sklearn/metrics/_classification.py:1344: UndefinedMetricWarning: Precision is ill-defined and being set to 0.0 in labels with no predicted samples. Use `zero_division` parameter to control this behavior.\n",
            "  _warn_prf(average, modifier, msg_start, len(result))\n"
          ]
        }
      ]
    },
    {
      "cell_type": "code",
      "source": [
        "knn_accuracy_mean = np.mean(knn_accuracy_list)\n",
        "knn_accuracy_std = np.std(knn_accuracy_list)\n",
        "knn_accuracy_max = np.max(knn_accuracy_list)\n",
        "knn_accuracy_min = np.min(knn_accuracy_list)\n",
        "\n",
        "knn_precision_mean = np.mean(knn_precision_list)\n",
        "knn_precision_std = np.std(knn_precision_list)\n",
        "knn_precision_max = np.max(knn_precision_list)\n",
        "knn_precision_min = np.min(knn_precision_list)\n",
        "\n",
        "knn_recall_mean = np.mean(knn_recall_list)\n",
        "knn_recall_std = np.std(knn_recall_list)\n",
        "knn_recall_max = np.max(knn_recall_list)\n",
        "knn_recall_min = np.min(knn_recall_list)"
      ],
      "metadata": {
        "id": "knrAvTc2_YYF"
      },
      "execution_count": null,
      "outputs": []
    },
    {
      "cell_type": "code",
      "source": [
        "print(knn_accuracy_mean)\n",
        "print(knn_precision_mean)\n",
        "print(knn_recall_mean)"
      ],
      "metadata": {
        "colab": {
          "base_uri": "https://localhost:8080/"
        },
        "id": "Sem_lQqm_YVH",
        "outputId": "a6c18b97-4879-4d31-de2c-ee6c2b90358c"
      },
      "execution_count": null,
      "outputs": [
        {
          "output_type": "stream",
          "name": "stdout",
          "text": [
            "0.8808896210873146\n",
            "0.8698891395829753\n",
            "0.8808896210873146\n"
          ]
        }
      ]
    },
    {
      "cell_type": "code",
      "source": [
        "print(knn_accuracy_max)\n",
        "print(knn_accuracy_min)\n",
        "print(knn_accuracy_std)\n"
      ],
      "metadata": {
        "colab": {
          "base_uri": "https://localhost:8080/"
        },
        "id": "xer3uk6yo1fA",
        "outputId": "ea590cb1-f015-4726-a700-b5c7c250d9e9"
      },
      "execution_count": null,
      "outputs": [
        {
          "output_type": "stream",
          "name": "stdout",
          "text": [
            "0.9950576606260296\n",
            "0.6243822075782537\n",
            "0.08368784777692415\n"
          ]
        }
      ]
    },
    {
      "cell_type": "code",
      "source": [
        "print(knn_precision_max)\n",
        "print(knn_precision_min)\n",
        "print(knn_precision_std)"
      ],
      "metadata": {
        "id": "ZTKea1d93aX0",
        "colab": {
          "base_uri": "https://localhost:8080/"
        },
        "outputId": "2f464caa-72da-4ecd-9c7a-2a59e70eb6b6"
      },
      "execution_count": null,
      "outputs": [
        {
          "output_type": "stream",
          "name": "stdout",
          "text": [
            "0.9953507924785547\n",
            "0.592340136352144\n",
            "0.09642690111603208\n"
          ]
        }
      ]
    },
    {
      "cell_type": "code",
      "source": [
        "print(knn_recall_max)\n",
        "print(knn_recall_min)\n",
        "print(knn_recall_std)"
      ],
      "metadata": {
        "colab": {
          "base_uri": "https://localhost:8080/"
        },
        "id": "Y9fpUa5i4233",
        "outputId": "e0859912-bce6-4aff-8a32-7ec96453a006"
      },
      "execution_count": null,
      "outputs": [
        {
          "output_type": "stream",
          "name": "stdout",
          "text": [
            "0.9950576606260296\n",
            "0.6243822075782537\n",
            "0.08368784777692415\n"
          ]
        }
      ]
    },
    {
      "cell_type": "code",
      "source": [
        "for _ in range(0,50):\n",
        "  # random.seed(41)\n",
        "  feature_indexes = random.sample(range(0, 85), 10)\n",
        "  X = data.iloc[:,feature_indexes]\n",
        "  y = data.iloc[:,88]\n",
        "  X_train, X_test, y_train, y_test = train_test_split(X, y, test_size = 0.2, random_state = 42)\n",
        "  rf_model = RandomForestClassifier()\n",
        "  rf_model.fit(X_train, y_train)\n",
        "  y_pred = rf_model.predict(X_test)\n",
        "  randfrst_accuracy = accuracy_score(y_test, y_pred)\n",
        "  randfrst_accuracy_list.append(randfrst_accuracy)\n",
        "  randfrst_precision = precision_score(y_test,y_pred,average='weighted')\n",
        "  randfrst_precision_list.append(randfrst_precision)\n",
        "  randfrst_recall = recall_score(y_test, y_pred, average= 'weighted')\n",
        "  randfrst_recall_list.append(randfrst_recall)"
      ],
      "metadata": {
        "colab": {
          "base_uri": "https://localhost:8080/"
        },
        "id": "vnj4KBsQ_bi0",
        "outputId": "1f9d4223-1dfa-4190-cc2b-02d4b01bb27f"
      },
      "execution_count": null,
      "outputs": [
        {
          "output_type": "stream",
          "name": "stderr",
          "text": [
            "/usr/local/lib/python3.10/dist-packages/sklearn/metrics/_classification.py:1344: UndefinedMetricWarning: Precision is ill-defined and being set to 0.0 in labels with no predicted samples. Use `zero_division` parameter to control this behavior.\n",
            "  _warn_prf(average, modifier, msg_start, len(result))\n",
            "/usr/local/lib/python3.10/dist-packages/sklearn/metrics/_classification.py:1344: UndefinedMetricWarning: Precision is ill-defined and being set to 0.0 in labels with no predicted samples. Use `zero_division` parameter to control this behavior.\n",
            "  _warn_prf(average, modifier, msg_start, len(result))\n",
            "/usr/local/lib/python3.10/dist-packages/sklearn/metrics/_classification.py:1344: UndefinedMetricWarning: Precision is ill-defined and being set to 0.0 in labels with no predicted samples. Use `zero_division` parameter to control this behavior.\n",
            "  _warn_prf(average, modifier, msg_start, len(result))\n",
            "/usr/local/lib/python3.10/dist-packages/sklearn/metrics/_classification.py:1344: UndefinedMetricWarning: Precision is ill-defined and being set to 0.0 in labels with no predicted samples. Use `zero_division` parameter to control this behavior.\n",
            "  _warn_prf(average, modifier, msg_start, len(result))\n",
            "/usr/local/lib/python3.10/dist-packages/sklearn/metrics/_classification.py:1344: UndefinedMetricWarning: Precision is ill-defined and being set to 0.0 in labels with no predicted samples. Use `zero_division` parameter to control this behavior.\n",
            "  _warn_prf(average, modifier, msg_start, len(result))\n",
            "/usr/local/lib/python3.10/dist-packages/sklearn/metrics/_classification.py:1344: UndefinedMetricWarning: Precision is ill-defined and being set to 0.0 in labels with no predicted samples. Use `zero_division` parameter to control this behavior.\n",
            "  _warn_prf(average, modifier, msg_start, len(result))\n",
            "/usr/local/lib/python3.10/dist-packages/sklearn/metrics/_classification.py:1344: UndefinedMetricWarning: Precision is ill-defined and being set to 0.0 in labels with no predicted samples. Use `zero_division` parameter to control this behavior.\n",
            "  _warn_prf(average, modifier, msg_start, len(result))\n",
            "/usr/local/lib/python3.10/dist-packages/sklearn/metrics/_classification.py:1344: UndefinedMetricWarning: Precision is ill-defined and being set to 0.0 in labels with no predicted samples. Use `zero_division` parameter to control this behavior.\n",
            "  _warn_prf(average, modifier, msg_start, len(result))\n",
            "/usr/local/lib/python3.10/dist-packages/sklearn/metrics/_classification.py:1344: UndefinedMetricWarning: Precision is ill-defined and being set to 0.0 in labels with no predicted samples. Use `zero_division` parameter to control this behavior.\n",
            "  _warn_prf(average, modifier, msg_start, len(result))\n",
            "/usr/local/lib/python3.10/dist-packages/sklearn/metrics/_classification.py:1344: UndefinedMetricWarning: Precision is ill-defined and being set to 0.0 in labels with no predicted samples. Use `zero_division` parameter to control this behavior.\n",
            "  _warn_prf(average, modifier, msg_start, len(result))\n",
            "/usr/local/lib/python3.10/dist-packages/sklearn/metrics/_classification.py:1344: UndefinedMetricWarning: Precision is ill-defined and being set to 0.0 in labels with no predicted samples. Use `zero_division` parameter to control this behavior.\n",
            "  _warn_prf(average, modifier, msg_start, len(result))\n",
            "/usr/local/lib/python3.10/dist-packages/sklearn/metrics/_classification.py:1344: UndefinedMetricWarning: Precision is ill-defined and being set to 0.0 in labels with no predicted samples. Use `zero_division` parameter to control this behavior.\n",
            "  _warn_prf(average, modifier, msg_start, len(result))\n",
            "/usr/local/lib/python3.10/dist-packages/sklearn/metrics/_classification.py:1344: UndefinedMetricWarning: Precision is ill-defined and being set to 0.0 in labels with no predicted samples. Use `zero_division` parameter to control this behavior.\n",
            "  _warn_prf(average, modifier, msg_start, len(result))\n",
            "/usr/local/lib/python3.10/dist-packages/sklearn/metrics/_classification.py:1344: UndefinedMetricWarning: Precision is ill-defined and being set to 0.0 in labels with no predicted samples. Use `zero_division` parameter to control this behavior.\n",
            "  _warn_prf(average, modifier, msg_start, len(result))\n",
            "/usr/local/lib/python3.10/dist-packages/sklearn/metrics/_classification.py:1344: UndefinedMetricWarning: Precision is ill-defined and being set to 0.0 in labels with no predicted samples. Use `zero_division` parameter to control this behavior.\n",
            "  _warn_prf(average, modifier, msg_start, len(result))\n"
          ]
        }
      ]
    },
    {
      "cell_type": "code",
      "source": [
        "randfrst_accuracy_mean = np.mean(randfrst_accuracy_list)\n",
        "randfrst_accuracy_std = np.std(randfrst_accuracy_list)\n",
        "randfrst_accuracy_max = np.max(randfrst_accuracy_list)\n",
        "randfrst_accuracy_min = np.min(randfrst_accuracy_list)\n",
        "\n",
        "randfrst_precision_mean = np.mean(randfrst_precision_list)\n",
        "randfrst_precision_std = np.std(randfrst_precision_list)\n",
        "randfrst_precision_max = np.max(randfrst_precision_list)\n",
        "randfrst_precision_min = np.min(randfrst_precision_list)\n",
        "\n",
        "randfrst_recall_mean = np.mean(randfrst_recall_list)\n",
        "randfrst_recall_std = np.std(randfrst_recall_list)\n",
        "randfrst_recall_max = np.max(randfrst_recall_list)\n",
        "randfrst_recall_min = np.min(randfrst_recall_list)"
      ],
      "metadata": {
        "id": "NQNP6z-G_bi0"
      },
      "execution_count": null,
      "outputs": []
    },
    {
      "cell_type": "code",
      "source": [
        "print(randfrst_accuracy_mean)\n",
        "print(randfrst_precision_mean)\n",
        "print(randfrst_recall_mean)"
      ],
      "metadata": {
        "colab": {
          "base_uri": "https://localhost:8080/"
        },
        "outputId": "4817baac-f6dd-4364-8d5f-8d17ba106ea2",
        "id": "oRehwK5a_bi1"
      },
      "execution_count": null,
      "outputs": [
        {
          "output_type": "stream",
          "name": "stdout",
          "text": [
            "0.8937067545304778\n",
            "0.8847525251550894\n",
            "0.8937067545304778\n"
          ]
        }
      ]
    },
    {
      "cell_type": "code",
      "source": [
        "print(randfrst_accuracy_max)\n",
        "print(randfrst_accuracy_min)\n",
        "print(randfrst_accuracy_std)"
      ],
      "metadata": {
        "colab": {
          "base_uri": "https://localhost:8080/"
        },
        "outputId": "bb901e7e-5852-4faa-d087-ae5e2d250f87",
        "id": "mHyG2njc_bi1"
      },
      "execution_count": null,
      "outputs": [
        {
          "output_type": "stream",
          "name": "stdout",
          "text": [
            "0.9901153212520593\n",
            "0.6293245469522241\n",
            "0.08610850730126102\n"
          ]
        }
      ]
    },
    {
      "cell_type": "code",
      "source": [
        "print(randfrst_precision_max)\n",
        "print(randfrst_precision_min)\n",
        "print(randfrst_precision_std)"
      ],
      "metadata": {
        "id": "__1C5aGI3ngo",
        "colab": {
          "base_uri": "https://localhost:8080/"
        },
        "outputId": "15cf93c2-03cb-420c-c416-78b2965d0153"
      },
      "execution_count": null,
      "outputs": [
        {
          "output_type": "stream",
          "name": "stdout",
          "text": [
            "0.9904943300616962\n",
            "0.5679789580119069\n",
            "0.10015410748286775\n"
          ]
        }
      ]
    },
    {
      "cell_type": "code",
      "source": [
        "print(randfrst_recall_max)\n",
        "print(randfrst_recall_min)\n",
        "print(randfrst_recall_std)"
      ],
      "metadata": {
        "id": "COeF2czz3sFx",
        "colab": {
          "base_uri": "https://localhost:8080/"
        },
        "outputId": "8b1e097b-807f-47f4-fcf1-9f14b3878874"
      },
      "execution_count": null,
      "outputs": [
        {
          "output_type": "stream",
          "name": "stdout",
          "text": [
            "0.9901153212520593\n",
            "0.6293245469522241\n",
            "0.08610850730126102\n"
          ]
        }
      ]
    },
    {
      "cell_type": "code",
      "source": [
        "for _ in range(0,50):\n",
        "  # random.seed(41)\n",
        "\n",
        "  feature_indexes = random.sample(range(0, 85), 10)\n",
        "  X = data.iloc[:,feature_indexes]\n",
        "  y = data.iloc[:,88]\n",
        "  X_train, X_test, y_train, y_test = train_test_split(X, y, test_size = 0.2, random_state = 42)\n",
        "  dt_model = DecisionTreeClassifier()\n",
        "  dt_model.fit(X_train,y_train)\n",
        "  base_pred = dt_model.predict(X_test)\n",
        "  dt_accuracy = accuracy_score(y_test,base_pred)\n",
        "  dt_accuracy_list.append(dt_accuracy)\n",
        "  dt_precision = precision_score(y_test,base_pred,average='weighted')\n",
        "  dt_precision_list.append(dt_precision)\n",
        "  dt_recall = recall_score(y_test, base_pred, average= 'weighted')\n",
        "  dt_recall_list.append(dt_recall)"
      ],
      "metadata": {
        "id": "mgjuqlp430go",
        "colab": {
          "base_uri": "https://localhost:8080/"
        },
        "outputId": "2c6e08da-f136-4f9b-fa64-b66722e89c97"
      },
      "execution_count": null,
      "outputs": [
        {
          "output_type": "stream",
          "name": "stderr",
          "text": [
            "/usr/local/lib/python3.10/dist-packages/sklearn/metrics/_classification.py:1344: UndefinedMetricWarning: Precision is ill-defined and being set to 0.0 in labels with no predicted samples. Use `zero_division` parameter to control this behavior.\n",
            "  _warn_prf(average, modifier, msg_start, len(result))\n",
            "/usr/local/lib/python3.10/dist-packages/sklearn/metrics/_classification.py:1344: UndefinedMetricWarning: Precision is ill-defined and being set to 0.0 in labels with no predicted samples. Use `zero_division` parameter to control this behavior.\n",
            "  _warn_prf(average, modifier, msg_start, len(result))\n",
            "/usr/local/lib/python3.10/dist-packages/sklearn/metrics/_classification.py:1344: UndefinedMetricWarning: Precision is ill-defined and being set to 0.0 in labels with no predicted samples. Use `zero_division` parameter to control this behavior.\n",
            "  _warn_prf(average, modifier, msg_start, len(result))\n",
            "/usr/local/lib/python3.10/dist-packages/sklearn/metrics/_classification.py:1344: UndefinedMetricWarning: Precision is ill-defined and being set to 0.0 in labels with no predicted samples. Use `zero_division` parameter to control this behavior.\n",
            "  _warn_prf(average, modifier, msg_start, len(result))\n",
            "/usr/local/lib/python3.10/dist-packages/sklearn/metrics/_classification.py:1344: UndefinedMetricWarning: Precision is ill-defined and being set to 0.0 in labels with no predicted samples. Use `zero_division` parameter to control this behavior.\n",
            "  _warn_prf(average, modifier, msg_start, len(result))\n",
            "/usr/local/lib/python3.10/dist-packages/sklearn/metrics/_classification.py:1344: UndefinedMetricWarning: Precision is ill-defined and being set to 0.0 in labels with no predicted samples. Use `zero_division` parameter to control this behavior.\n",
            "  _warn_prf(average, modifier, msg_start, len(result))\n",
            "/usr/local/lib/python3.10/dist-packages/sklearn/metrics/_classification.py:1344: UndefinedMetricWarning: Precision is ill-defined and being set to 0.0 in labels with no predicted samples. Use `zero_division` parameter to control this behavior.\n",
            "  _warn_prf(average, modifier, msg_start, len(result))\n",
            "/usr/local/lib/python3.10/dist-packages/sklearn/metrics/_classification.py:1344: UndefinedMetricWarning: Precision is ill-defined and being set to 0.0 in labels with no predicted samples. Use `zero_division` parameter to control this behavior.\n",
            "  _warn_prf(average, modifier, msg_start, len(result))\n",
            "/usr/local/lib/python3.10/dist-packages/sklearn/metrics/_classification.py:1344: UndefinedMetricWarning: Precision is ill-defined and being set to 0.0 in labels with no predicted samples. Use `zero_division` parameter to control this behavior.\n",
            "  _warn_prf(average, modifier, msg_start, len(result))\n",
            "/usr/local/lib/python3.10/dist-packages/sklearn/metrics/_classification.py:1344: UndefinedMetricWarning: Precision is ill-defined and being set to 0.0 in labels with no predicted samples. Use `zero_division` parameter to control this behavior.\n",
            "  _warn_prf(average, modifier, msg_start, len(result))\n",
            "/usr/local/lib/python3.10/dist-packages/sklearn/metrics/_classification.py:1344: UndefinedMetricWarning: Precision is ill-defined and being set to 0.0 in labels with no predicted samples. Use `zero_division` parameter to control this behavior.\n",
            "  _warn_prf(average, modifier, msg_start, len(result))\n",
            "/usr/local/lib/python3.10/dist-packages/sklearn/metrics/_classification.py:1344: UndefinedMetricWarning: Precision is ill-defined and being set to 0.0 in labels with no predicted samples. Use `zero_division` parameter to control this behavior.\n",
            "  _warn_prf(average, modifier, msg_start, len(result))\n",
            "/usr/local/lib/python3.10/dist-packages/sklearn/metrics/_classification.py:1344: UndefinedMetricWarning: Precision is ill-defined and being set to 0.0 in labels with no predicted samples. Use `zero_division` parameter to control this behavior.\n",
            "  _warn_prf(average, modifier, msg_start, len(result))\n",
            "/usr/local/lib/python3.10/dist-packages/sklearn/metrics/_classification.py:1344: UndefinedMetricWarning: Precision is ill-defined and being set to 0.0 in labels with no predicted samples. Use `zero_division` parameter to control this behavior.\n",
            "  _warn_prf(average, modifier, msg_start, len(result))\n",
            "/usr/local/lib/python3.10/dist-packages/sklearn/metrics/_classification.py:1344: UndefinedMetricWarning: Precision is ill-defined and being set to 0.0 in labels with no predicted samples. Use `zero_division` parameter to control this behavior.\n",
            "  _warn_prf(average, modifier, msg_start, len(result))\n",
            "/usr/local/lib/python3.10/dist-packages/sklearn/metrics/_classification.py:1344: UndefinedMetricWarning: Precision is ill-defined and being set to 0.0 in labels with no predicted samples. Use `zero_division` parameter to control this behavior.\n",
            "  _warn_prf(average, modifier, msg_start, len(result))\n",
            "/usr/local/lib/python3.10/dist-packages/sklearn/metrics/_classification.py:1344: UndefinedMetricWarning: Precision is ill-defined and being set to 0.0 in labels with no predicted samples. Use `zero_division` parameter to control this behavior.\n",
            "  _warn_prf(average, modifier, msg_start, len(result))\n",
            "/usr/local/lib/python3.10/dist-packages/sklearn/metrics/_classification.py:1344: UndefinedMetricWarning: Precision is ill-defined and being set to 0.0 in labels with no predicted samples. Use `zero_division` parameter to control this behavior.\n",
            "  _warn_prf(average, modifier, msg_start, len(result))\n",
            "/usr/local/lib/python3.10/dist-packages/sklearn/metrics/_classification.py:1344: UndefinedMetricWarning: Precision is ill-defined and being set to 0.0 in labels with no predicted samples. Use `zero_division` parameter to control this behavior.\n",
            "  _warn_prf(average, modifier, msg_start, len(result))\n",
            "/usr/local/lib/python3.10/dist-packages/sklearn/metrics/_classification.py:1344: UndefinedMetricWarning: Precision is ill-defined and being set to 0.0 in labels with no predicted samples. Use `zero_division` parameter to control this behavior.\n",
            "  _warn_prf(average, modifier, msg_start, len(result))\n",
            "/usr/local/lib/python3.10/dist-packages/sklearn/metrics/_classification.py:1344: UndefinedMetricWarning: Precision is ill-defined and being set to 0.0 in labels with no predicted samples. Use `zero_division` parameter to control this behavior.\n",
            "  _warn_prf(average, modifier, msg_start, len(result))\n"
          ]
        }
      ]
    },
    {
      "cell_type": "code",
      "source": [
        "dt_accuracy_mean = np.mean(dt_accuracy_list)\n",
        "dt_accuracy_std = np.std(dt_accuracy_list)\n",
        "dt_accuracy_max = np.max(dt_accuracy_list)\n",
        "dt_accuracy_min = np.min(dt_accuracy_list)\n",
        "\n",
        "dt_precision_mean = np.mean(dt_precision_list)\n",
        "dt_precision_std = np.std(dt_precision_list)\n",
        "dt_precision_max = np.max(dt_precision_list)\n",
        "dt_precision_min = np.min(dt_precision_list)\n",
        "\n",
        "dt_recall_mean = np.mean(dt_recall_list)\n",
        "dt_recall_std = np.std(dt_recall_list)\n",
        "dt_recall_max = np.max(dt_recall_list)\n",
        "dt_recall_min = np.min(dt_recall_list)"
      ],
      "metadata": {
        "id": "CTfQKP7J30gx"
      },
      "execution_count": null,
      "outputs": []
    },
    {
      "cell_type": "code",
      "source": [
        "print(dt_accuracy_mean)\n",
        "print(dt_precision_mean)\n",
        "print(dt_recall_mean)"
      ],
      "metadata": {
        "id": "teRhHOoG30gx",
        "colab": {
          "base_uri": "https://localhost:8080/"
        },
        "outputId": "7b1d5ded-7ca2-4405-8586-bbe1bd967eb6"
      },
      "execution_count": null,
      "outputs": [
        {
          "output_type": "stream",
          "name": "stdout",
          "text": [
            "0.8819110378912685\n",
            "0.8674426069873161\n",
            "0.8819110378912685\n"
          ]
        }
      ]
    },
    {
      "cell_type": "code",
      "source": [
        "print(dt_accuracy_max)\n",
        "print(dt_accuracy_min)\n",
        "print(dt_accuracy_std)"
      ],
      "metadata": {
        "id": "FaXPtFrR3xoi",
        "colab": {
          "base_uri": "https://localhost:8080/"
        },
        "outputId": "e2048c8f-2b57-4751-d94d-6db12be61b40"
      },
      "execution_count": null,
      "outputs": [
        {
          "output_type": "stream",
          "name": "stdout",
          "text": [
            "0.9884678747940692\n",
            "0.6589785831960461\n",
            "0.07744010589659352\n"
          ]
        }
      ]
    },
    {
      "cell_type": "code",
      "source": [
        "print(dt_precision_max)\n",
        "print(dt_precision_min)\n",
        "print(dt_precision_std)"
      ],
      "metadata": {
        "id": "qOmNsvyp31nK",
        "colab": {
          "base_uri": "https://localhost:8080/"
        },
        "outputId": "a62fa7db-b68e-4781-f78f-f7e5caf7b2bd"
      },
      "execution_count": null,
      "outputs": [
        {
          "output_type": "stream",
          "name": "stdout",
          "text": [
            "0.9892435972431135\n",
            "0.5972129296529156\n",
            "0.09600388520461692\n"
          ]
        }
      ]
    },
    {
      "cell_type": "code",
      "source": [
        "print(dt_recall_max)\n",
        "print(dt_recall_min)\n",
        "print(dt_recall_std)"
      ],
      "metadata": {
        "id": "8vxQ-YsQ33ra",
        "colab": {
          "base_uri": "https://localhost:8080/"
        },
        "outputId": "9f438bcb-86b6-4f7f-c012-780185b9ecae"
      },
      "execution_count": null,
      "outputs": [
        {
          "output_type": "stream",
          "name": "stdout",
          "text": [
            "0.9884678747940692\n",
            "0.6589785831960461\n",
            "0.07744010589659352\n"
          ]
        }
      ]
    },
    {
      "cell_type": "code",
      "source": [
        "# Define a map from integer values to distance metrics\n",
        "distance_metric_map = {\n",
        "    0: \"euclidean\",\n",
        "    1: \"manhattan\",\n",
        "    2: \"chebyshev\"\n",
        "}\n",
        "\n",
        "# Define a map from integer values to weighting methods\n",
        "weighting_method_map = {\n",
        "    0: \"uniform\",\n",
        "    1: \"distance\"\n",
        "}\n",
        "\n",
        "algorithm_map = {\n",
        "    0: \"brute\",\n",
        "    1: \"kd_tree\",\n",
        "    2: \"auto\",\n",
        "    3: \"ball_tree\"\n",
        "}\n",
        "\n",
        "parallel_map = {\n",
        "    0: \"True\",\n",
        "    1: \"False\"\n",
        "}\n",
        "\n",
        "# Define the hyperparameter space for the KNN algorithm\n",
        "k_values = [1, 2, 3, 4, 5, 6, 7, 8, 9, 10]\n",
        "distance_metric_values = [0, 1, 2]\n",
        "weighting_method_values = [0, 1]\n",
        "algorithm_values = [0, 1, 2, 3]\n",
        "leaf_size_values = [10, 20, 30, 40, 50]\n",
        "p_values = [1, 2, 3, 4, 5]"
      ],
      "metadata": {
        "id": "Xc0SJknN0oYV"
      },
      "execution_count": null,
      "outputs": []
    },
    {
      "cell_type": "code",
      "source": [
        "knn_accuracy_list_pso = []\n",
        "knn_precision_list_pso = []\n",
        "knn_recall_list_pso = []"
      ],
      "metadata": {
        "id": "P2XQP2I85LE2"
      },
      "execution_count": null,
      "outputs": []
    },
    {
      "cell_type": "code",
      "source": [
        "with tf.device(\"/gpu:0\"):\n",
        "  # Define a function to evaluate the fitness of a set of hyperparameters\n",
        "  def evaluate_fitness(hyperparameters):\n",
        "    k = hyperparameters[0]\n",
        "    distance_metric = round(hyperparameters[1])\n",
        "    weighting_method = round(hyperparameters[2])\n",
        "    algorithm = round(hyperparameters[3])\n",
        "    leaf = hyperparameters[4]\n",
        "    p_val = hyperparameters[5]\n",
        "\n",
        "    # Train the KNN algorithm using the hyperparameters\n",
        "    knn = KNeighborsClassifier(n_neighbors=int(k), metric=distance_metric_map[distance_metric],\n",
        "                               weights=weighting_method_map[weighting_method],\n",
        "                               algorithm=algorithm_map[algorithm],\n",
        "                               leaf_size = int(leaf), p = int(p_val))\n",
        "    knn.fit(X_train, y_train)\n",
        "    # Calculate the accuracy of the model on the testing set\n",
        "    y_pred = knn.predict(X_test)\n",
        "    score = accuracy_score(y_test, y_pred)\n",
        "    return score\n",
        "\n",
        "  # Set the number of parallel jobs\n",
        "  num_jobs = -1  # Set it to the number of available CPUs or GPUs for maximum parallelism\n",
        "\n",
        "  # Initialize the population of particles\n",
        "  num_particles = 50\n",
        "  population = []\n",
        "  # random.seed(41)\n",
        "  for i in range(num_particles):\n",
        "    hyperparameters = [np.random.choice(k_values), np.random.choice(distance_metric_values),\n",
        "                       np.random.choice(weighting_method_values),\n",
        "                       np.random.choice(algorithm_values),\n",
        "                       np.random.choice(leaf_size_values),\n",
        "                       np.random.choice(p_values)]\n",
        "    population.append(hyperparameters)\n",
        "\n",
        "  # Set the number of iterations for the PSO algorithm\n",
        "  num_iterations = 100\n",
        "\n",
        "  # Set the acceleration constants for the PSO algorithm\n",
        "  c1 = 2\n",
        "  c2 = 2\n",
        "\n",
        "  # Set the initial velocity and position of each particle\n",
        "  velocity = [[0, 0, 0, 0, 0, 0] for i in range(num_particles)]\n",
        "  best_position = population.copy()\n",
        "\n",
        "  # Set the initial global best position\n",
        "  global_best_fitness = -float(\"inf\")\n",
        "  global_best_position = []\n",
        "\n",
        "  # Iterate through the PSO algorithm loop\n",
        "  for i in range(num_iterations):\n",
        "    # Evaluate the fitness of each particle\n",
        "    fitness = Parallel(n_jobs=num_jobs)(\n",
        "        delayed(evaluate_fitness)(particle) for particle in population\n",
        "    )\n",
        "\n",
        "    # Update the best position of each particle\n",
        "    for j, particle in enumerate(population):\n",
        "      if fitness[j] > evaluate_fitness(best_position[j]):\n",
        "        best_position[j] = particle\n",
        "    # Update the global best position\n",
        "    if max(fitness) > global_best_fitness:\n",
        "      global_best_fitness = max(fitness)\n",
        "      global_best_position = population[fitness.index(max(fitness))]\n",
        "\n",
        "    # Update the velocity and position of each particle\n",
        "    for j, particle in enumerate(population):\n",
        "      r1 = np.random.uniform(0, 1)\n",
        "      r2 = np.random.uniform(0, 1)\n",
        "      velocity[j] = [velocity[j][0] + c1*r1*(best_position[j][0] - particle[0])\n",
        "                      + c2*r2*(global_best_position[0] - particle[0]),\n",
        "              velocity[j][1] + c1*r1*(best_position[j][1] - particle[1])\n",
        "               + c2*r2*(global_best_position[1] - particle[1]),\n",
        "              velocity[j][2] + c1*r1*(best_position[j][2] - particle[2])\n",
        "               + c2*r2*(global_best_position[2] - particle[2]),\n",
        "              velocity[j][3] + c1*r1*(best_position[j][3] - particle[3])\n",
        "               + c2*r2*(global_best_position[3] - particle[3]),\n",
        "              velocity[j][4] + c1*r1*(best_position[j][4] - particle[4])\n",
        "               + c2*r2*(global_best_position[4] - particle[4]),\n",
        "              velocity[j][5] + c1*r1*(best_position[j][5] - particle[5])\n",
        "               + c2*r2*(global_best_position[5] - particle[5])]\n",
        "\n",
        "      particle[0] = particle[0] + velocity[j][0]\n",
        "      particle[1] = particle[1] + velocity[j][1]\n",
        "      particle[2] = particle[2] + velocity[j][2]\n",
        "      particle[3] = particle[3] + velocity[j][3]\n",
        "      particle[4] = particle[4] + velocity[j][4]\n",
        "      particle[5] = particle[5] + velocity[j][5]\n",
        "\n",
        "\n",
        "      # Check if the new position is within the bounds of the hyperparameter space\n",
        "      if particle[0] < k_values[0]:\n",
        "        particle[0] = k_values[0]\n",
        "      elif particle[0] > k_values[-1]:\n",
        "        particle[0] = k_values[-1]\n",
        "\n",
        "      if particle[1] < distance_metric_values[0]:\n",
        "        particle[1] = distance_metric_values[0]\n",
        "      elif particle[1] > distance_metric_values[-1]:\n",
        "        particle[1] = distance_metric_values[-1]\n",
        "\n",
        "      if particle[2] < weighting_method_values[0]:\n",
        "        particle[2] = weighting_method_values[0]\n",
        "      elif particle[2] > weighting_method_values[-1]:\n",
        "        particle[2] = weighting_method_values[-1]\n",
        "\n",
        "      if particle[3] < algorithm_values[0]:\n",
        "        particle[3] = algorithm_values[0]\n",
        "      elif particle[3] > algorithm_values[-1]:\n",
        "        particle[3] = algorithm_values[-1]\n",
        "\n",
        "      if particle[4] < leaf_size_values[0]:\n",
        "        particle[4] = leaf_size_values[0]\n",
        "      elif particle[4] > leaf_size_values[-1]:\n",
        "        particle[4] = leaf_size_values[-1]\n",
        "\n",
        "      if particle[5] < p_values[0]:\n",
        "        particle[5] = p_values[0]\n",
        "      elif particle[5] > p_values[-1]:\n",
        "        particle[5] = p_values[-1]\n",
        "\n",
        "  for _ in range(0,50):\n",
        "    # random.seed(41)\n",
        "    feature_indexes = random.sample(range(0,85), 10)\n",
        "    X = data.iloc[:,feature_indexes]\n",
        "    y = data.iloc[:,88]\n",
        "    X_train, X_test, y_train, y_test = train_test_split(X, y, test_size = 0.2, random_state = 42)\n",
        "    knn = KNeighborsClassifier(n_neighbors=int(global_best_position[0]),\n",
        "                             metric = distance_metric_map[global_best_position[1]],\n",
        "                              weights=weighting_method_map[global_best_position[2]],\n",
        "                             algorithm=algorithm_map[global_best_position[3]],\n",
        "                               leaf_size = int(global_best_position[4]),\n",
        "                               p = int(global_best_position[5]))\n",
        "\n",
        "    knn.fit(X_train, y_train)\n",
        "    y_pred = knn.predict(X_test)\n",
        "    knn_accuracy_pso = accuracy_score(y_test, y_pred)\n",
        "    knn_accuracy_list_pso.append(knn_accuracy_pso)\n",
        "    knn_precision_pso = precision_score(y_test,y_pred,average='weighted')\n",
        "    knn_precision_list_pso.append(knn_precision_pso)\n",
        "    knn_recall_pso = recall_score(y_test,y_pred, average='weighted')\n",
        "    knn_recall_list_pso.append(knn_recall_pso)\n",
        "\n",
        "  print(f\"Optimal hyperparameters: k={global_best_position[0]}, distance_metric={distance_metric_map[global_best_position[1]]}, weighting method={weighting_method_map[global_best_position[2]]}, algorithm={algorithm_map[global_best_position[3]]}, leaf_size={global_best_position[4]},p={global_best_position[5]} \")\n",
        "\n",
        "\n"
      ],
      "metadata": {
        "colab": {
          "base_uri": "https://localhost:8080/"
        },
        "id": "qj7rhnvCpb8I",
        "outputId": "a530a0f7-e5d3-4238-9a37-949cfcb007ae"
      },
      "execution_count": null,
      "outputs": [
        {
          "output_type": "stream",
          "name": "stderr",
          "text": [
            "/usr/local/lib/python3.10/dist-packages/sklearn/metrics/_classification.py:1344: UndefinedMetricWarning: Precision is ill-defined and being set to 0.0 in labels with no predicted samples. Use `zero_division` parameter to control this behavior.\n",
            "  _warn_prf(average, modifier, msg_start, len(result))\n",
            "/usr/local/lib/python3.10/dist-packages/sklearn/metrics/_classification.py:1344: UndefinedMetricWarning: Precision is ill-defined and being set to 0.0 in labels with no predicted samples. Use `zero_division` parameter to control this behavior.\n",
            "  _warn_prf(average, modifier, msg_start, len(result))\n",
            "/usr/local/lib/python3.10/dist-packages/sklearn/metrics/_classification.py:1344: UndefinedMetricWarning: Precision is ill-defined and being set to 0.0 in labels with no predicted samples. Use `zero_division` parameter to control this behavior.\n",
            "  _warn_prf(average, modifier, msg_start, len(result))\n",
            "/usr/local/lib/python3.10/dist-packages/sklearn/metrics/_classification.py:1344: UndefinedMetricWarning: Precision is ill-defined and being set to 0.0 in labels with no predicted samples. Use `zero_division` parameter to control this behavior.\n",
            "  _warn_prf(average, modifier, msg_start, len(result))\n",
            "/usr/local/lib/python3.10/dist-packages/sklearn/metrics/_classification.py:1344: UndefinedMetricWarning: Precision is ill-defined and being set to 0.0 in labels with no predicted samples. Use `zero_division` parameter to control this behavior.\n",
            "  _warn_prf(average, modifier, msg_start, len(result))\n",
            "/usr/local/lib/python3.10/dist-packages/sklearn/metrics/_classification.py:1344: UndefinedMetricWarning: Precision is ill-defined and being set to 0.0 in labels with no predicted samples. Use `zero_division` parameter to control this behavior.\n",
            "  _warn_prf(average, modifier, msg_start, len(result))\n",
            "/usr/local/lib/python3.10/dist-packages/sklearn/metrics/_classification.py:1344: UndefinedMetricWarning: Precision is ill-defined and being set to 0.0 in labels with no predicted samples. Use `zero_division` parameter to control this behavior.\n",
            "  _warn_prf(average, modifier, msg_start, len(result))\n",
            "/usr/local/lib/python3.10/dist-packages/sklearn/metrics/_classification.py:1344: UndefinedMetricWarning: Precision is ill-defined and being set to 0.0 in labels with no predicted samples. Use `zero_division` parameter to control this behavior.\n",
            "  _warn_prf(average, modifier, msg_start, len(result))\n",
            "/usr/local/lib/python3.10/dist-packages/sklearn/metrics/_classification.py:1344: UndefinedMetricWarning: Precision is ill-defined and being set to 0.0 in labels with no predicted samples. Use `zero_division` parameter to control this behavior.\n",
            "  _warn_prf(average, modifier, msg_start, len(result))\n",
            "/usr/local/lib/python3.10/dist-packages/sklearn/metrics/_classification.py:1344: UndefinedMetricWarning: Precision is ill-defined and being set to 0.0 in labels with no predicted samples. Use `zero_division` parameter to control this behavior.\n",
            "  _warn_prf(average, modifier, msg_start, len(result))\n",
            "/usr/local/lib/python3.10/dist-packages/sklearn/metrics/_classification.py:1344: UndefinedMetricWarning: Precision is ill-defined and being set to 0.0 in labels with no predicted samples. Use `zero_division` parameter to control this behavior.\n",
            "  _warn_prf(average, modifier, msg_start, len(result))\n",
            "/usr/local/lib/python3.10/dist-packages/sklearn/metrics/_classification.py:1344: UndefinedMetricWarning: Precision is ill-defined and being set to 0.0 in labels with no predicted samples. Use `zero_division` parameter to control this behavior.\n",
            "  _warn_prf(average, modifier, msg_start, len(result))\n",
            "/usr/local/lib/python3.10/dist-packages/sklearn/metrics/_classification.py:1344: UndefinedMetricWarning: Precision is ill-defined and being set to 0.0 in labels with no predicted samples. Use `zero_division` parameter to control this behavior.\n",
            "  _warn_prf(average, modifier, msg_start, len(result))\n",
            "/usr/local/lib/python3.10/dist-packages/sklearn/metrics/_classification.py:1344: UndefinedMetricWarning: Precision is ill-defined and being set to 0.0 in labels with no predicted samples. Use `zero_division` parameter to control this behavior.\n",
            "  _warn_prf(average, modifier, msg_start, len(result))\n",
            "/usr/local/lib/python3.10/dist-packages/sklearn/metrics/_classification.py:1344: UndefinedMetricWarning: Precision is ill-defined and being set to 0.0 in labels with no predicted samples. Use `zero_division` parameter to control this behavior.\n",
            "  _warn_prf(average, modifier, msg_start, len(result))\n",
            "/usr/local/lib/python3.10/dist-packages/sklearn/metrics/_classification.py:1344: UndefinedMetricWarning: Precision is ill-defined and being set to 0.0 in labels with no predicted samples. Use `zero_division` parameter to control this behavior.\n",
            "  _warn_prf(average, modifier, msg_start, len(result))\n",
            "/usr/local/lib/python3.10/dist-packages/sklearn/metrics/_classification.py:1344: UndefinedMetricWarning: Precision is ill-defined and being set to 0.0 in labels with no predicted samples. Use `zero_division` parameter to control this behavior.\n",
            "  _warn_prf(average, modifier, msg_start, len(result))\n",
            "/usr/local/lib/python3.10/dist-packages/sklearn/metrics/_classification.py:1344: UndefinedMetricWarning: Precision is ill-defined and being set to 0.0 in labels with no predicted samples. Use `zero_division` parameter to control this behavior.\n",
            "  _warn_prf(average, modifier, msg_start, len(result))\n"
          ]
        },
        {
          "output_type": "stream",
          "name": "stdout",
          "text": [
            "Optimal hyperparameters: k=2.0, distance_metric=euclidean, weighting method=uniform, algorithm=brute, leaf_size=40.0,p=1.0 \n"
          ]
        },
        {
          "output_type": "stream",
          "name": "stderr",
          "text": [
            "/usr/local/lib/python3.10/dist-packages/sklearn/metrics/_classification.py:1344: UndefinedMetricWarning: Precision is ill-defined and being set to 0.0 in labels with no predicted samples. Use `zero_division` parameter to control this behavior.\n",
            "  _warn_prf(average, modifier, msg_start, len(result))\n"
          ]
        }
      ]
    },
    {
      "cell_type": "code",
      "source": [
        "knn_accuracy_mean_pso = np.mean(knn_accuracy_list_pso)\n",
        "knn_accuracy_std_pso = np.std(knn_accuracy_list_pso)\n",
        "knn_accuracy_max_pso = np.max(knn_accuracy_list_pso)\n",
        "knn_accuracy_min_pso = np.min(knn_accuracy_list_pso)\n",
        "\n",
        "knn_precision_mean_pso = np.mean(knn_precision_list_pso)\n",
        "knn_precision_std_pso = np.std(knn_precision_list_pso)\n",
        "knn_precision_max_pso = np.max(knn_precision_list_pso)\n",
        "knn_precision_min_pso = np.min(knn_precision_list_pso)\n",
        "\n",
        "knn_recall_mean_pso = np.mean(knn_recall_list_pso)\n",
        "knn_recall_std_pso = np.std(knn_recall_list_pso)\n",
        "knn_recall_max_pso = np.max(knn_recall_list_pso)\n",
        "knn_recall_min_pso = np.min(knn_recall_list_pso)\n"
      ],
      "metadata": {
        "id": "iFJ25HNPsNmQ"
      },
      "execution_count": null,
      "outputs": []
    },
    {
      "cell_type": "code",
      "source": [
        "import matplotlib.pyplot as plt"
      ],
      "metadata": {
        "id": "m9EQOBmeADcG"
      },
      "execution_count": null,
      "outputs": []
    },
    {
      "cell_type": "code",
      "source": [
        "print(knn_accuracy_mean_pso)\n",
        "print(knn_precision_mean_pso)\n",
        "print(knn_recall_mean_pso)"
      ],
      "metadata": {
        "id": "09Co_EJgAGN4",
        "colab": {
          "base_uri": "https://localhost:8080/"
        },
        "outputId": "06a90250-3d65-48e8-ae10-3f88a4a8f1cd"
      },
      "execution_count": null,
      "outputs": [
        {
          "output_type": "stream",
          "name": "stdout",
          "text": [
            "0.882998352553542\n",
            "0.8753895003420133\n",
            "0.882998352553542\n"
          ]
        }
      ]
    },
    {
      "cell_type": "code",
      "source": [
        "print(knn_accuracy_max_pso)\n",
        "print(knn_accuracy_min_pso)\n",
        "print(knn_accuracy_std_pso)"
      ],
      "metadata": {
        "id": "Ti44TL1J4MmH",
        "colab": {
          "base_uri": "https://localhost:8080/"
        },
        "outputId": "ee69ec45-b4f6-4884-a5d8-635aafe56eb3"
      },
      "execution_count": null,
      "outputs": [
        {
          "output_type": "stream",
          "name": "stdout",
          "text": [
            "0.9950576606260296\n",
            "0.6820428336079077\n",
            "0.08552610986968143\n"
          ]
        }
      ]
    },
    {
      "cell_type": "code",
      "source": [
        "print(knn_precision_max_pso)\n",
        "print(knn_precision_min_pso)\n",
        "print(knn_precision_std_pso)"
      ],
      "metadata": {
        "id": "cOsjTJLR4F8k",
        "colab": {
          "base_uri": "https://localhost:8080/"
        },
        "outputId": "4b62d9c1-f691-4a6e-f0a1-e5811b4540ea"
      },
      "execution_count": null,
      "outputs": [
        {
          "output_type": "stream",
          "name": "stdout",
          "text": [
            "0.9952307618842967\n",
            "0.6590695679460812\n",
            "0.09712710932270373\n"
          ]
        }
      ]
    },
    {
      "cell_type": "code",
      "source": [
        "print(knn_recall_max_pso)\n",
        "print(knn_recall_min_pso)\n",
        "print(knn_recall_std_pso)"
      ],
      "metadata": {
        "id": "EqSts7yc4KdV",
        "colab": {
          "base_uri": "https://localhost:8080/"
        },
        "outputId": "81213c35-2efa-4098-b008-eb8f6169c388"
      },
      "execution_count": null,
      "outputs": [
        {
          "output_type": "stream",
          "name": "stdout",
          "text": [
            "0.9950576606260296\n",
            "0.6820428336079077\n",
            "0.08552610986968143\n"
          ]
        }
      ]
    },
    {
      "cell_type": "markdown",
      "source": [
        "RANDOM FOREST"
      ],
      "metadata": {
        "id": "zJ8k-WRfettq"
      }
    },
    {
      "cell_type": "code",
      "source": [
        "randfrst_accuracy_list_pso = []\n",
        "randfrst_precision_list_pso = []\n",
        "randfrst_recall_list_pso = []"
      ],
      "metadata": {
        "id": "UyXTmWnjye72"
      },
      "execution_count": null,
      "outputs": []
    },
    {
      "cell_type": "code",
      "source": [
        "# Define a map from integer values to criterion options\n",
        "criterion_map = {\n",
        "     0: \"gini\",\n",
        "     1: \"entropy\",\n",
        "     2: \"log_loss\"\n",
        " }\n",
        "\n",
        "# # Define a map from integer values to feature importance calculation methods\n",
        "min_samples_split_map = {\n",
        "     0: 2,\n",
        "     1: 5,\n",
        "     2: 10\n",
        " }\n",
        "\n",
        "max_features_map = {\n",
        "    0: \"sqrt\",\n",
        "    1: \"log2\"\n",
        "}\n",
        "\n",
        "# # Define the hyperparameter space for the Random Forest algorithm\n",
        "n_estimators_values = [10, 50, 100, 200, 500]\n",
        "max_depth_values = [5, 10, 20]\n",
        "criterion_values = [0, 1, 2]\n",
        "min_samples_split_values = [0, 1, 2]\n",
        "min_samples_leaf_values = [1, 2, 3, 4, 5]\n",
        "max_features_values = [0, 1]\n"
      ],
      "metadata": {
        "id": "sOIy94bvASl_"
      },
      "execution_count": null,
      "outputs": []
    },
    {
      "cell_type": "code",
      "source": [
        "with tf.device(\"/gpu:0\"):\n",
        "  # Define a function to evaluate the fitness of a set of hyperparameters\n",
        "  def evaluate_fitness(hyperparameters):\n",
        "    n_estim = hyperparameters[0]\n",
        "    maxdepth = round(hyperparameters[1])\n",
        "    criterion_val = round(hyperparameters[2])\n",
        "    min_ssv = round(hyperparameters[3])\n",
        "    min_sl = hyperparameters[4]\n",
        "    max_fv = round(hyperparameters[5])\n",
        "\n",
        "    # Train the KNN algorithm using the hyperparameters\n",
        "    rf = RandomForestClassifier(n_estimators=int(n_estim), max_depth=int(maxdepth),\n",
        "                               criterion=criterion_map[criterion_val],\n",
        "                               min_samples_split=min_samples_split_map[min_ssv],\n",
        "                                min_samples_leaf=int(min_sl),\n",
        "                                max_features=max_features_map[max_fv]\n",
        "                                )\n",
        "    rf.fit(X_train, y_train)\n",
        "    # Calculate the accuracy of the model on the testing set\n",
        "    y_pred = rf.predict(X_test)\n",
        "    score = accuracy_score(y_test, y_pred)\n",
        "    return score\n",
        "\n",
        "  # Initialize the population of particles\n",
        "  num_jobs = -1  # Set it to the number of available CPUs or GPUs for maximum parallelism\n",
        "\n",
        "  num_particles = 50\n",
        "  population = []\n",
        "  for i in range(num_particles):\n",
        "    # random.seed(41)\n",
        "    hyperparameters = [np.random.choice(n_estimators_values), np.random.choice(max_depth_values),\n",
        "                       np.random.choice(criterion_values),\n",
        "                       np.random.choice(min_samples_split_values),\n",
        "                       np.random.choice(min_samples_leaf_values),\n",
        "                       np.random.choice(max_features_values)\n",
        "                       ]\n",
        "    population.append(hyperparameters)\n",
        "\n",
        "  # Set the number of iterations for the PSO algorithm\n",
        "  num_iterations = 100\n",
        "\n",
        "  # Set the acceleration constants for the PSO algorithm\n",
        "  c1 = 2\n",
        "  c2 = 2\n",
        "\n",
        "  # Set the initial velocity and position of each particle\n",
        "  velocity = [[0, 0, 0, 0, 0, 0] for i in range(num_particles)]\n",
        "  best_position = population.copy()\n",
        "\n",
        "  # Set the initial global best position\n",
        "  global_best_fitness = -float(\"inf\")\n",
        "  global_best_position = []\n",
        "\n",
        "  # Iterate through the PSO algorithm loop\n",
        "  for i in range(num_iterations):\n",
        "    # Evaluate the fitness of each particle\n",
        "    fitness = Parallel(n_jobs=num_jobs)(\n",
        "        delayed(evaluate_fitness)(particle) for particle in population\n",
        "    )\n",
        "    # Update the best position of each particle\n",
        "    for j, particle in enumerate(population):\n",
        "      if fitness[j] > evaluate_fitness(best_position[j]):\n",
        "        best_position[j] = particle\n",
        "    # Update the global best position\n",
        "    if max(fitness) > global_best_fitness:\n",
        "      global_best_fitness = max(fitness)\n",
        "      global_best_position = population[fitness.index(max(fitness))]\n",
        "\n",
        "    # Update the velocity and position of each particle\n",
        "    for j, particle in enumerate(population):\n",
        "      r1 = np.random.uniform(0, 1)\n",
        "      r2 = np.random.uniform(0, 1)\n",
        "      velocity[j] = [velocity[j][0] + c1*r1*(best_position[j][0] - particle[0])\n",
        "                      + c2*r2*(global_best_position[0] - particle[0]),\n",
        "\n",
        "              velocity[j][1] + c1*r1*(best_position[j][1] - particle[1])\n",
        "               + c2*r2*(global_best_position[1] - particle[1]),\n",
        "\n",
        "              velocity[j][2] + c1*r1*(best_position[j][2] - particle[2])\n",
        "               + c2*r2*(global_best_position[2] - particle[2]),\n",
        "\n",
        "              velocity[j][3] + c1*r1*(best_position[j][3] - particle[3])\n",
        "               + c2*r2*(global_best_position[3] - particle[3]),\n",
        "\n",
        "              velocity[j][4] + c1*r1*(best_position[j][4] - particle[4])\n",
        "               + c2*r2*(global_best_position[4] - particle[4]),\n",
        "\n",
        "              velocity[j][5] + c1*r1*(best_position[j][5] - particle[5])\n",
        "               + c2*r2*(global_best_position[5] - particle[5])\n",
        "                     ]\n",
        "\n",
        "      particle[0] = particle[0] + velocity[j][0]\n",
        "      particle[1] = particle[1] + velocity[j][1]\n",
        "      particle[2] = particle[2] + velocity[j][2]\n",
        "      particle[3] = particle[3] + velocity[j][3]\n",
        "      particle[4] = particle[4] + velocity[j][4]\n",
        "      particle[5] = particle[5] + velocity[j][5]\n",
        "\n",
        "\n",
        "      # Check if the new position is within the bounds of the hyperparameter space\n",
        "      if particle[0] < n_estimators_values[0]:\n",
        "        particle[0] = n_estimators_values[0]\n",
        "      elif particle[0] > n_estimators_values[-1]:\n",
        "        particle[0] = n_estimators_values[-1]\n",
        "\n",
        "      if particle[1] < max_depth_values[0]:\n",
        "        particle[1] = max_depth_values[0]\n",
        "      elif particle[1] > max_depth_values[-1]:\n",
        "        particle[1] = max_depth_values[-1]\n",
        "\n",
        "      if particle[2] < criterion_values[0]:\n",
        "        particle[2] = criterion_values[0]\n",
        "      elif particle[2] > criterion_values[-1]:\n",
        "        particle[2] = criterion_values[-1]\n",
        "\n",
        "      if particle[3] < min_samples_split_values[0]:\n",
        "        particle[3] = min_samples_split_values[0]\n",
        "      elif particle[3] > min_samples_split_values[-1]:\n",
        "        particle[3] = min_samples_split_values[-1]\n",
        "\n",
        "      if particle[4] < min_samples_leaf_values[0]:\n",
        "        particle[4] = min_samples_leaf_values[0]\n",
        "      elif particle[4] > min_samples_leaf_values[-1]:\n",
        "        particle[4] = min_samples_leaf_values[-1]\n",
        "\n",
        "      if particle[5] < max_features_values[0]:\n",
        "        particle[5] = max_features_values[0]\n",
        "      elif particle[5] > max_features_values[-1]:\n",
        "        particle[5] = max_features_values[-1]\n",
        "\n",
        "  for _ in range(0,50):\n",
        "    # random.seed(41)\n",
        "\n",
        "    feature_indexes = random.sample(range(0,85), 10)\n",
        "    X = data.iloc[:,feature_indexes]\n",
        "    y = data.iloc[:,88]\n",
        "    X_train, X_test, y_train, y_test = train_test_split(X, y, test_size = 0.2, random_state = 42)\n",
        "    rf = RandomForestClassifier(n_estimators=int(global_best_position[0]),\n",
        "                                max_depth = int(global_best_position[1]),\n",
        "                                criterion=criterion_map[global_best_position[2]],\n",
        "                                min_samples_split=min_samples_split_map[global_best_position[3]],\n",
        "                                min_samples_leaf=int(global_best_position[4]),\n",
        "                                max_features=max_features_map[global_best_position[5]])\n",
        "\n",
        "    rf.fit(X_train, y_train)\n",
        "    y_pred = rf.predict(X_test)\n",
        "    rf_accuracy = accuracy_score(y_test, y_pred)\n",
        "    randfrst_accuracy_list_pso.append(rf_accuracy)\n",
        "    rf_precision = precision_score(y_test,y_pred,average='weighted')\n",
        "    randfrst_precision_list_pso.append(rf_precision)\n",
        "    rf_recall = recall_score(y_test,y_pred, average='weighted')\n",
        "    randfrst_recall_list_pso.append(rf_recall)\n",
        "\n",
        "  print(f\"Optimal hyperparameters: n_estimators={global_best_position[0]}, max_depth={global_best_position[1]}, criterion={criterion_map[global_best_position[2]]}, min_samples_split={min_samples_split_map[global_best_position[3]]},min_samples_leaf={global_best_position[4]},max_features={max_features_map[global_best_position[5]]}\")\n",
        "\n",
        "\n"
      ],
      "metadata": {
        "id": "IJ90LfFzFsOn",
        "colab": {
          "base_uri": "https://localhost:8080/"
        },
        "outputId": "71789c2d-9938-469d-e0f9-3e3a31a1a6b6"
      },
      "execution_count": null,
      "outputs": [
        {
          "output_type": "stream",
          "name": "stderr",
          "text": [
            "/usr/local/lib/python3.10/dist-packages/sklearn/metrics/_classification.py:1344: UndefinedMetricWarning: Precision is ill-defined and being set to 0.0 in labels with no predicted samples. Use `zero_division` parameter to control this behavior.\n",
            "  _warn_prf(average, modifier, msg_start, len(result))\n",
            "/usr/local/lib/python3.10/dist-packages/sklearn/metrics/_classification.py:1344: UndefinedMetricWarning: Precision is ill-defined and being set to 0.0 in labels with no predicted samples. Use `zero_division` parameter to control this behavior.\n",
            "  _warn_prf(average, modifier, msg_start, len(result))\n",
            "/usr/local/lib/python3.10/dist-packages/sklearn/metrics/_classification.py:1344: UndefinedMetricWarning: Precision is ill-defined and being set to 0.0 in labels with no predicted samples. Use `zero_division` parameter to control this behavior.\n",
            "  _warn_prf(average, modifier, msg_start, len(result))\n",
            "/usr/local/lib/python3.10/dist-packages/sklearn/metrics/_classification.py:1344: UndefinedMetricWarning: Precision is ill-defined and being set to 0.0 in labels with no predicted samples. Use `zero_division` parameter to control this behavior.\n",
            "  _warn_prf(average, modifier, msg_start, len(result))\n",
            "/usr/local/lib/python3.10/dist-packages/sklearn/metrics/_classification.py:1344: UndefinedMetricWarning: Precision is ill-defined and being set to 0.0 in labels with no predicted samples. Use `zero_division` parameter to control this behavior.\n",
            "  _warn_prf(average, modifier, msg_start, len(result))\n",
            "/usr/local/lib/python3.10/dist-packages/sklearn/metrics/_classification.py:1344: UndefinedMetricWarning: Precision is ill-defined and being set to 0.0 in labels with no predicted samples. Use `zero_division` parameter to control this behavior.\n",
            "  _warn_prf(average, modifier, msg_start, len(result))\n",
            "/usr/local/lib/python3.10/dist-packages/sklearn/metrics/_classification.py:1344: UndefinedMetricWarning: Precision is ill-defined and being set to 0.0 in labels with no predicted samples. Use `zero_division` parameter to control this behavior.\n",
            "  _warn_prf(average, modifier, msg_start, len(result))\n",
            "/usr/local/lib/python3.10/dist-packages/sklearn/metrics/_classification.py:1344: UndefinedMetricWarning: Precision is ill-defined and being set to 0.0 in labels with no predicted samples. Use `zero_division` parameter to control this behavior.\n",
            "  _warn_prf(average, modifier, msg_start, len(result))\n",
            "/usr/local/lib/python3.10/dist-packages/sklearn/metrics/_classification.py:1344: UndefinedMetricWarning: Precision is ill-defined and being set to 0.0 in labels with no predicted samples. Use `zero_division` parameter to control this behavior.\n",
            "  _warn_prf(average, modifier, msg_start, len(result))\n",
            "/usr/local/lib/python3.10/dist-packages/sklearn/metrics/_classification.py:1344: UndefinedMetricWarning: Precision is ill-defined and being set to 0.0 in labels with no predicted samples. Use `zero_division` parameter to control this behavior.\n",
            "  _warn_prf(average, modifier, msg_start, len(result))\n"
          ]
        },
        {
          "output_type": "stream",
          "name": "stdout",
          "text": [
            "Optimal hyperparameters: n_estimators=10, max_depth=20, criterion=gini, min_samples_split=2,min_samples_leaf=5,max_features=sqrt\n"
          ]
        }
      ]
    },
    {
      "cell_type": "code",
      "source": [
        "randfrst_accuracy_mean_pso = np.mean(randfrst_accuracy_list_pso)\n",
        "randfrst_accuracy_std_pso = np.std(randfrst_accuracy_list_pso)\n",
        "randfrst_accuracy_max_pso = np.max(randfrst_accuracy_list_pso)\n",
        "randfrst_accuracy_min_pso = np.min(randfrst_accuracy_list_pso)\n",
        "\n",
        "randfrst_precision_mean_pso = np.mean(randfrst_precision_list_pso)\n",
        "randfrst_precision_std_pso = np.std(randfrst_precision_list_pso)\n",
        "randfrst_precision_max_pso = np.max(randfrst_precision_list_pso)\n",
        "randfrst_precision_min_pso = np.min(randfrst_precision_list_pso)\n",
        "\n",
        "randfrst_recall_mean_pso = np.mean(randfrst_recall_list_pso)\n",
        "randfrst_recall_std_pso = np.std(randfrst_recall_list_pso)\n",
        "randfrst_recall_max_pso = np.max(randfrst_recall_list_pso)\n",
        "randfrst_recall_min_pso = np.min(randfrst_recall_list_pso)"
      ],
      "metadata": {
        "id": "8kaU7oBg0mfX"
      },
      "execution_count": null,
      "outputs": []
    },
    {
      "cell_type": "code",
      "source": [
        "print(randfrst_accuracy_mean_pso)\n",
        "print(randfrst_precision_mean_pso)\n",
        "print(randfrst_recall_mean_pso)"
      ],
      "metadata": {
        "id": "OQVvvh3w3kqY",
        "colab": {
          "base_uri": "https://localhost:8080/"
        },
        "outputId": "87fa6c0d-f0ac-4145-c3fd-ac53d38b42d1"
      },
      "execution_count": null,
      "outputs": [
        {
          "output_type": "stream",
          "name": "stdout",
          "text": [
            "0.9130807248764414\n",
            "0.9074517468582165\n",
            "0.9130807248764414\n"
          ]
        }
      ]
    },
    {
      "cell_type": "code",
      "source": [
        "print(randfrst_accuracy_max_pso)\n",
        "print(randfrst_accuracy_min_pso)\n",
        "print(randfrst_accuracy_std_pso)"
      ],
      "metadata": {
        "id": "e8U35rW_4aXB",
        "colab": {
          "base_uri": "https://localhost:8080/"
        },
        "outputId": "cc8518d5-3361-42f9-d2e5-1a4a30a37fcb"
      },
      "execution_count": null,
      "outputs": [
        {
          "output_type": "stream",
          "name": "stdout",
          "text": [
            "0.9835255354200988\n",
            "0.6359143327841845\n",
            "0.07130802955445488\n"
          ]
        }
      ]
    },
    {
      "cell_type": "code",
      "source": [
        "print(randfrst_precision_max_pso)\n",
        "print(randfrst_precision_min_pso)\n",
        "print(randfrst_precision_std_pso)"
      ],
      "metadata": {
        "id": "Yz32DQz04aXC",
        "colab": {
          "base_uri": "https://localhost:8080/"
        },
        "outputId": "070d9ff0-1b11-4574-9214-28407c1d5cde"
      },
      "execution_count": null,
      "outputs": [
        {
          "output_type": "stream",
          "name": "stdout",
          "text": [
            "0.9839221353640987\n",
            "0.5473174514668956\n",
            "0.08379959634150258\n"
          ]
        }
      ]
    },
    {
      "cell_type": "code",
      "source": [
        "print(randfrst_recall_max_pso)\n",
        "print(randfrst_recall_min_pso)\n",
        "print(randfrst_recall_std_pso)"
      ],
      "metadata": {
        "id": "zEaxCAFt4aXD",
        "colab": {
          "base_uri": "https://localhost:8080/"
        },
        "outputId": "488cf2b4-1957-4c03-c056-7d3014a172dd"
      },
      "execution_count": null,
      "outputs": [
        {
          "output_type": "stream",
          "name": "stdout",
          "text": [
            "0.9835255354200988\n",
            "0.6359143327841845\n",
            "0.07130802955445488\n"
          ]
        }
      ]
    },
    {
      "cell_type": "markdown",
      "source": [
        "DECISION TREES"
      ],
      "metadata": {
        "id": "-tqG7opfeqWb"
      }
    },
    {
      "cell_type": "code",
      "source": [
        "dt_accuracy_list_pso = []\n",
        "dt_precision_list_pso = []\n",
        "dt_recall_list_pso = []"
      ],
      "metadata": {
        "id": "6n6Bo66P30gy"
      },
      "execution_count": null,
      "outputs": []
    },
    {
      "cell_type": "code",
      "source": [
        "# Define a map from integer values to criterion options\n",
        "criterion_map = {\n",
        "     0: \"gini\",\n",
        "     1: \"entropy\",\n",
        "     2: \"log_loss\"\n",
        " }\n",
        "\n",
        "splitter_map = {\n",
        "    0: \"best\",\n",
        "    1: \"random\"\n",
        "}\n",
        "# # Define a map from integer values to feature importance calculation methods\n",
        "min_samples_split_map = {\n",
        "     0: 2,\n",
        "     1: 5,\n",
        "     2: 10\n",
        " }\n",
        "\n",
        "max_features_map = {\n",
        "    0: \"sqrt\",\n",
        "    1: \"log2\"\n",
        "}\n",
        "# # Define the hyperparameter space for the Random Forest algorithm\n",
        "splitter_values = [0, 1]\n",
        "max_depth_values = [5, 10, 20]\n",
        "criterion_values = [0, 1, 2]\n",
        "min_samples_split_values = [0, 1, 2]\n",
        "min_samples_leaf_values = [1, 2, 3, 4, 5]\n",
        "max_features_values = [0, 1]"
      ],
      "metadata": {
        "id": "TxXsiwp730gy"
      },
      "execution_count": null,
      "outputs": []
    },
    {
      "cell_type": "code",
      "source": [
        "with tf.device(\"/gpu:0\"):\n",
        "  # Define a function to evaluate the fitness of a set of hyperparameters\n",
        "  def evaluate_fitness(hyperparameters):\n",
        "    splitter_val = round(hyperparameters[0])\n",
        "    maxdepth = hyperparameters[1]\n",
        "    criterion_val = round(hyperparameters[2])\n",
        "    min_ssv = round(hyperparameters[3])\n",
        "    min_slv = hyperparameters[4]\n",
        "    max_fv = round(hyperparameters[5])\n",
        "    # Train the KNN algorithm using the hyperparameters\n",
        "    dt = DecisionTreeClassifier(splitter=splitter_map[splitter_val], max_depth=int(maxdepth),\n",
        "                               criterion=criterion_map[criterion_val],\n",
        "                               min_samples_split=min_samples_split_map[min_ssv],\n",
        "                                min_samples_leaf=int(min_slv),\n",
        "                                max_features=max_features_map[max_fv])\n",
        "    dt.fit(X_train, y_train)\n",
        "    # Calculate the accuracy of the model on the testing set\n",
        "    y_pred = dt.predict(X_test)\n",
        "    score = accuracy_score(y_test, y_pred)\n",
        "    return score\n",
        "\n",
        "  # Initialize the population of particles\n",
        "  # burada kaldım.\n",
        "  num_jobs = -1\n",
        "  num_particles = 50\n",
        "  population = []\n",
        "  # random.seed(41)\n",
        "  for i in range(num_particles):\n",
        "    hyperparameters = [np.random.choice(splitter_values), np.random.choice(max_depth_values),\n",
        "                       np.random.choice(criterion_values),\n",
        "                       np.random.choice(min_samples_split_values),\n",
        "                       np.random.choice(min_samples_leaf_values),\n",
        "                       np.random.choice(max_features_values)]\n",
        "    population.append(hyperparameters)\n",
        "\n",
        "  # Set the number of iterations for the PSO algorithm\n",
        "  num_iterations = 100\n",
        "\n",
        "  # Set the acceleration constants for the PSO algorithm\n",
        "  c1 = 2\n",
        "  c2 = 2\n",
        "\n",
        "  # Set the initial velocity and position of each particle\n",
        "  velocity = [[0, 0, 0, 0, 0, 0] for i in range(num_particles)]\n",
        "  best_position = population.copy()\n",
        "\n",
        "  # Set the initial global best position\n",
        "  global_best_fitness = -float(\"inf\")\n",
        "  global_best_position = []\n",
        "\n",
        "  # Iterate through the PSO algorithm loop\n",
        "  for i in range(num_iterations):\n",
        "    # Evaluate the fitness of each particle\n",
        "    fitness = Parallel(n_jobs=num_jobs)(\n",
        "        delayed(evaluate_fitness)(particle) for particle in population\n",
        "    )\n",
        "    # Update the best position of each particle\n",
        "    for j, particle in enumerate(population):\n",
        "      if fitness[j] > evaluate_fitness(best_position[j]):\n",
        "        best_position[j] = particle\n",
        "    # Update the global best position\n",
        "    if max(fitness) > global_best_fitness:\n",
        "      global_best_fitness = max(fitness)\n",
        "      global_best_position = population[fitness.index(max(fitness))]\n",
        "\n",
        "    # Update the velocity and position of each particle\n",
        "    for j, particle in enumerate(population):\n",
        "      r1 = np.random.uniform(0, 1)\n",
        "      r2 = np.random.uniform(0, 1)\n",
        "      velocity[j] = [velocity[j][0] + c1*r1*(best_position[j][0] - particle[0])\n",
        "                      + c2*r2*(global_best_position[0] - particle[0]),\n",
        "\n",
        "              velocity[j][1] + c1*r1*(best_position[j][1] - particle[1])\n",
        "               + c2*r2*(global_best_position[1] - particle[1]),\n",
        "\n",
        "              velocity[j][2] + c1*r1*(best_position[j][2] - particle[2])\n",
        "               + c2*r2*(global_best_position[2] - particle[2]),\n",
        "\n",
        "              velocity[j][3] + c1*r1*(best_position[j][3] - particle[3])\n",
        "               + c2*r2*(global_best_position[3] - particle[3]),\n",
        "\n",
        "              velocity[j][4] + c1*r1*(best_position[j][4] - particle[4])\n",
        "               + c2*r2*(global_best_position[4] - particle[4]),\n",
        "\n",
        "              velocity[j][5] + c1*r1*(best_position[j][5] - particle[5])\n",
        "               + c2*r2*(global_best_position[5] - particle[5])]\n",
        "\n",
        "      particle[0] = particle[0] + velocity[j][0]\n",
        "      particle[1] = particle[1] + velocity[j][1]\n",
        "      particle[2] = particle[2] + velocity[j][2]\n",
        "      particle[3] = particle[3] + velocity[j][3]\n",
        "      particle[4] = particle[4] + velocity[j][4]\n",
        "      particle[5] = particle[5] + velocity[j][5]\n",
        "\n",
        "      # Check if the new position is within the bounds of the hyperparameter space\n",
        "      if particle[0] < splitter_values[0]:\n",
        "        particle[0] = splitter_values[0]\n",
        "      elif particle[0] > splitter_values[-1]:\n",
        "        particle[0] = splitter_values[-1]\n",
        "\n",
        "      if particle[1] < max_depth_values[0]:\n",
        "        particle[1] = max_depth_values[0]\n",
        "      elif particle[1] > max_depth_values[-1]:\n",
        "        particle[1] = max_depth_values[-1]\n",
        "\n",
        "      if particle[2] < criterion_values[0]:\n",
        "        particle[2] = criterion_values[0]\n",
        "      elif particle[2] > criterion_values[-1]:\n",
        "        particle[2] = criterion_values[-1]\n",
        "\n",
        "      if particle[3] < min_samples_split_values[0]:\n",
        "        particle[3] = min_samples_split_values[0]\n",
        "      elif particle[3] > min_samples_split_values[-1]:\n",
        "        particle[3] = min_samples_split_values[-1]\n",
        "\n",
        "      if particle[4] < min_samples_leaf_values[0]:\n",
        "        particle[4] = min_samples_leaf_values[0]\n",
        "      elif particle[4] > min_samples_leaf_values[-1]:\n",
        "        particle[4] = min_samples_leaf_values[-1]\n",
        "\n",
        "      if particle[5] < max_features_values[0]:\n",
        "        particle[5] = max_features_values[0]\n",
        "      elif particle[5] > max_features_values[-1]:\n",
        "        particle[5] = max_features_values[-1]\n",
        "\n",
        "  for _ in range(0,50):\n",
        "    # random.seed(41)\n",
        "\n",
        "    feature_indexes = random.sample(range(0,85), 10)\n",
        "    X = data.iloc[:,feature_indexes]\n",
        "    y = data.iloc[:,88]\n",
        "    X_train, X_test, y_train, y_test = train_test_split(X, y, test_size = 0.2, random_state = 42)\n",
        "    dt = DecisionTreeClassifier(splitter=splitter_map[global_best_position[0]],\n",
        "                             max_depth = int(global_best_position[1]),\n",
        "                              criterion=criterion_map[global_best_position[2]],\n",
        "                             min_samples_split=min_samples_split_map[global_best_position[3]],\n",
        "                              min_samples_leaf = int(global_best_position[4]),\n",
        "                                max_features=max_features_map[global_best_position[5]])\n",
        "\n",
        "    dt.fit(X_train, y_train)\n",
        "    y_pred = dt.predict(X_test)\n",
        "    dt_accuracy = accuracy_score(y_test, y_pred)\n",
        "    dt_accuracy_list_pso.append(dt_accuracy)\n",
        "    dt_precision = precision_score(y_test,y_pred,average='weighted')\n",
        "    dt_precision_list_pso.append(dt_precision)\n",
        "    dt_recall = recall_score(y_test,y_pred, average='weighted')\n",
        "    dt_recall_list_pso.append(dt_recall)\n",
        "\n",
        "  print(f\"Optimal hyperparameters: splitter={global_best_position[0]}, max_depth={global_best_position[1]}, criterion={criterion_map[global_best_position[2]]}, min_samples_split={min_samples_split_map[global_best_position[3]]}, min_samples_leaf = {global_best_position[4]}, max_features = {max_features_map[global_best_position[5]]}\")\n",
        "\n",
        "\n"
      ],
      "metadata": {
        "id": "4-mrsyOW30gy",
        "colab": {
          "base_uri": "https://localhost:8080/"
        },
        "outputId": "19721ca1-fc21-43aa-918b-c86c116a8cc6"
      },
      "execution_count": null,
      "outputs": [
        {
          "output_type": "stream",
          "name": "stderr",
          "text": [
            "/usr/local/lib/python3.10/dist-packages/sklearn/metrics/_classification.py:1344: UndefinedMetricWarning: Precision is ill-defined and being set to 0.0 in labels with no predicted samples. Use `zero_division` parameter to control this behavior.\n",
            "  _warn_prf(average, modifier, msg_start, len(result))\n",
            "/usr/local/lib/python3.10/dist-packages/sklearn/metrics/_classification.py:1344: UndefinedMetricWarning: Precision is ill-defined and being set to 0.0 in labels with no predicted samples. Use `zero_division` parameter to control this behavior.\n",
            "  _warn_prf(average, modifier, msg_start, len(result))\n",
            "/usr/local/lib/python3.10/dist-packages/sklearn/metrics/_classification.py:1344: UndefinedMetricWarning: Precision is ill-defined and being set to 0.0 in labels with no predicted samples. Use `zero_division` parameter to control this behavior.\n",
            "  _warn_prf(average, modifier, msg_start, len(result))\n",
            "/usr/local/lib/python3.10/dist-packages/sklearn/metrics/_classification.py:1344: UndefinedMetricWarning: Precision is ill-defined and being set to 0.0 in labels with no predicted samples. Use `zero_division` parameter to control this behavior.\n",
            "  _warn_prf(average, modifier, msg_start, len(result))\n",
            "/usr/local/lib/python3.10/dist-packages/sklearn/metrics/_classification.py:1344: UndefinedMetricWarning: Precision is ill-defined and being set to 0.0 in labels with no predicted samples. Use `zero_division` parameter to control this behavior.\n",
            "  _warn_prf(average, modifier, msg_start, len(result))\n",
            "/usr/local/lib/python3.10/dist-packages/sklearn/metrics/_classification.py:1344: UndefinedMetricWarning: Precision is ill-defined and being set to 0.0 in labels with no predicted samples. Use `zero_division` parameter to control this behavior.\n",
            "  _warn_prf(average, modifier, msg_start, len(result))\n",
            "/usr/local/lib/python3.10/dist-packages/sklearn/metrics/_classification.py:1344: UndefinedMetricWarning: Precision is ill-defined and being set to 0.0 in labels with no predicted samples. Use `zero_division` parameter to control this behavior.\n",
            "  _warn_prf(average, modifier, msg_start, len(result))\n",
            "/usr/local/lib/python3.10/dist-packages/sklearn/metrics/_classification.py:1344: UndefinedMetricWarning: Precision is ill-defined and being set to 0.0 in labels with no predicted samples. Use `zero_division` parameter to control this behavior.\n",
            "  _warn_prf(average, modifier, msg_start, len(result))\n",
            "/usr/local/lib/python3.10/dist-packages/sklearn/metrics/_classification.py:1344: UndefinedMetricWarning: Precision is ill-defined and being set to 0.0 in labels with no predicted samples. Use `zero_division` parameter to control this behavior.\n",
            "  _warn_prf(average, modifier, msg_start, len(result))\n",
            "/usr/local/lib/python3.10/dist-packages/sklearn/metrics/_classification.py:1344: UndefinedMetricWarning: Precision is ill-defined and being set to 0.0 in labels with no predicted samples. Use `zero_division` parameter to control this behavior.\n",
            "  _warn_prf(average, modifier, msg_start, len(result))\n",
            "/usr/local/lib/python3.10/dist-packages/sklearn/metrics/_classification.py:1344: UndefinedMetricWarning: Precision is ill-defined and being set to 0.0 in labels with no predicted samples. Use `zero_division` parameter to control this behavior.\n",
            "  _warn_prf(average, modifier, msg_start, len(result))\n",
            "/usr/local/lib/python3.10/dist-packages/sklearn/metrics/_classification.py:1344: UndefinedMetricWarning: Precision is ill-defined and being set to 0.0 in labels with no predicted samples. Use `zero_division` parameter to control this behavior.\n",
            "  _warn_prf(average, modifier, msg_start, len(result))\n",
            "/usr/local/lib/python3.10/dist-packages/sklearn/metrics/_classification.py:1344: UndefinedMetricWarning: Precision is ill-defined and being set to 0.0 in labels with no predicted samples. Use `zero_division` parameter to control this behavior.\n",
            "  _warn_prf(average, modifier, msg_start, len(result))\n",
            "/usr/local/lib/python3.10/dist-packages/sklearn/metrics/_classification.py:1344: UndefinedMetricWarning: Precision is ill-defined and being set to 0.0 in labels with no predicted samples. Use `zero_division` parameter to control this behavior.\n",
            "  _warn_prf(average, modifier, msg_start, len(result))\n",
            "/usr/local/lib/python3.10/dist-packages/sklearn/metrics/_classification.py:1344: UndefinedMetricWarning: Precision is ill-defined and being set to 0.0 in labels with no predicted samples. Use `zero_division` parameter to control this behavior.\n",
            "  _warn_prf(average, modifier, msg_start, len(result))\n",
            "/usr/local/lib/python3.10/dist-packages/sklearn/metrics/_classification.py:1344: UndefinedMetricWarning: Precision is ill-defined and being set to 0.0 in labels with no predicted samples. Use `zero_division` parameter to control this behavior.\n",
            "  _warn_prf(average, modifier, msg_start, len(result))\n",
            "/usr/local/lib/python3.10/dist-packages/sklearn/metrics/_classification.py:1344: UndefinedMetricWarning: Precision is ill-defined and being set to 0.0 in labels with no predicted samples. Use `zero_division` parameter to control this behavior.\n",
            "  _warn_prf(average, modifier, msg_start, len(result))\n",
            "/usr/local/lib/python3.10/dist-packages/sklearn/metrics/_classification.py:1344: UndefinedMetricWarning: Precision is ill-defined and being set to 0.0 in labels with no predicted samples. Use `zero_division` parameter to control this behavior.\n",
            "  _warn_prf(average, modifier, msg_start, len(result))\n",
            "/usr/local/lib/python3.10/dist-packages/sklearn/metrics/_classification.py:1344: UndefinedMetricWarning: Precision is ill-defined and being set to 0.0 in labels with no predicted samples. Use `zero_division` parameter to control this behavior.\n",
            "  _warn_prf(average, modifier, msg_start, len(result))\n",
            "/usr/local/lib/python3.10/dist-packages/sklearn/metrics/_classification.py:1344: UndefinedMetricWarning: Precision is ill-defined and being set to 0.0 in labels with no predicted samples. Use `zero_division` parameter to control this behavior.\n",
            "  _warn_prf(average, modifier, msg_start, len(result))\n"
          ]
        },
        {
          "output_type": "stream",
          "name": "stdout",
          "text": [
            "Optimal hyperparameters: splitter=0, max_depth=20, criterion=log_loss, min_samples_split=2, min_samples_leaf = 1, max_features = sqrt\n"
          ]
        },
        {
          "output_type": "stream",
          "name": "stderr",
          "text": [
            "/usr/local/lib/python3.10/dist-packages/sklearn/metrics/_classification.py:1344: UndefinedMetricWarning: Precision is ill-defined and being set to 0.0 in labels with no predicted samples. Use `zero_division` parameter to control this behavior.\n",
            "  _warn_prf(average, modifier, msg_start, len(result))\n"
          ]
        }
      ]
    },
    {
      "cell_type": "code",
      "source": [
        "dt_accuracy_mean_pso = np.mean(dt_accuracy_list_pso)\n",
        "dt_accuracy_std_pso = np.std(dt_accuracy_list_pso)\n",
        "dt_accuracy_max_pso = np.max(dt_accuracy_list_pso)\n",
        "dt_accuracy_min_pso = np.min(dt_accuracy_list_pso)\n",
        "\n",
        "dt_precision_mean_pso = np.mean(dt_precision_list_pso)\n",
        "dt_precision_std_pso = np.std(dt_precision_list_pso)\n",
        "dt_precision_max_pso = np.max(dt_precision_list_pso)\n",
        "dt_precision_min_pso = np.min(dt_precision_list_pso)\n",
        "\n",
        "dt_recall_mean_pso = np.mean(dt_recall_list_pso)\n",
        "dt_recall_std_pso = np.std(dt_recall_list_pso)\n",
        "dt_recall_max_pso = np.max(dt_recall_list_pso)\n",
        "dt_recall_min_pso = np.min(dt_recall_list_pso)"
      ],
      "metadata": {
        "id": "1F-X_ANe30gz"
      },
      "execution_count": null,
      "outputs": []
    },
    {
      "cell_type": "code",
      "source": [
        "print(dt_accuracy_mean_pso)\n",
        "print(dt_precision_mean_pso)\n",
        "print(dt_recall_mean_pso)"
      ],
      "metadata": {
        "id": "wQDo6M4u30gz",
        "colab": {
          "base_uri": "https://localhost:8080/"
        },
        "outputId": "9a5b3369-0067-4c01-d780-deedec92dbe5"
      },
      "execution_count": null,
      "outputs": [
        {
          "output_type": "stream",
          "name": "stdout",
          "text": [
            "0.8863920922570016\n",
            "0.874961672686918\n",
            "0.8863920922570016\n"
          ]
        }
      ]
    },
    {
      "cell_type": "code",
      "source": [
        "print(dt_accuracy_max_pso)\n",
        "print(dt_accuracy_min_pso)\n",
        "print(dt_accuracy_std_pso)"
      ],
      "metadata": {
        "id": "MAAkGHyJ4ouK",
        "colab": {
          "base_uri": "https://localhost:8080/"
        },
        "outputId": "2a5d2d5f-58a0-4ffc-b787-73c229260b13"
      },
      "execution_count": null,
      "outputs": [
        {
          "output_type": "stream",
          "name": "stdout",
          "text": [
            "0.9950576606260296\n",
            "0.5354200988467874\n",
            "0.09184714797488902\n"
          ]
        }
      ]
    },
    {
      "cell_type": "code",
      "source": [
        "print(dt_precision_max_pso)\n",
        "print(dt_precision_min_pso)\n",
        "print(dt_precision_std_pso)"
      ],
      "metadata": {
        "id": "NIlAJN6l4ouL",
        "colab": {
          "base_uri": "https://localhost:8080/"
        },
        "outputId": "4188e8f7-2ed3-4ba2-f32f-5d48fb870940"
      },
      "execution_count": null,
      "outputs": [
        {
          "output_type": "stream",
          "name": "stdout",
          "text": [
            "0.9955210049423394\n",
            "0.46779358520461184\n",
            "0.10453932927456852\n"
          ]
        }
      ]
    },
    {
      "cell_type": "code",
      "source": [
        "print(dt_recall_max_pso)\n",
        "print(dt_recall_min_pso)\n",
        "print(dt_recall_std_pso)"
      ],
      "metadata": {
        "id": "8b7HfgK44ouL",
        "colab": {
          "base_uri": "https://localhost:8080/"
        },
        "outputId": "71e481ff-58d2-4958-ad5f-a2f83c1229f8"
      },
      "execution_count": null,
      "outputs": [
        {
          "output_type": "stream",
          "name": "stdout",
          "text": [
            "0.9950576606260296\n",
            "0.5354200988467874\n",
            "0.09184714797488902\n"
          ]
        }
      ]
    },
    {
      "cell_type": "code",
      "source": [
        "fig, ax = plt.subplots(figsize=(10, 8))\n",
        "\n",
        "# KNN\n",
        "ax.errorbar('knn', knn_accuracy_mean, knn_recall_std, fmt='o', linewidth=2, capsize=6, color='blue')\n",
        "ax.errorbar('knn', knn_accuracy_max, fmt='o', linewidth=2, capsize=6, color='blue')\n",
        "ax.errorbar('knn', knn_accuracy_min, fmt='o', linewidth=2, capsize=6, color='blue')\n",
        "\n",
        "# Random Forest\n",
        "ax.errorbar('randfrst', randfrst_accuracy_mean, randfrst_accuracy_std, fmt='o', linewidth=2, capsize=6, color='green')\n",
        "ax.errorbar('randfrst', randfrst_accuracy_max, fmt='o', linewidth=2, capsize=6, color='green')\n",
        "ax.errorbar('randfrst', randfrst_accuracy_min, fmt='o', linewidth=2, capsize=6, color='green')\n",
        "\n",
        "# Decision Tree\n",
        "ax.errorbar('dt', dt_accuracy_mean, dt_accuracy_std, fmt='o', linewidth=2, capsize=6, color='red')\n",
        "ax.errorbar('dt', dt_accuracy_max, fmt='o', linewidth=2, capsize=6, color='red')\n",
        "ax.errorbar('dt', dt_accuracy_min, fmt='o', linewidth=2, capsize=6, color='red')\n",
        "\n",
        "ax.set_xlabel('Sınıflandırma Algoritması')\n",
        "ax.set_ylabel('Duyarlılık')\n",
        "ax.set_title('10 AP İçin Sınıflandırma Algoritması Doğruluğu')\n",
        "# Custom legend labels and colors\n",
        "knn_patch = plt.Line2D([0], [0], marker='o', color='w', markerfacecolor='blue', markersize=8)\n",
        "rf_patch = plt.Line2D([0], [0], marker='o', color='w', markerfacecolor='green', markersize=8)\n",
        "dt_patch = plt.Line2D([0], [0], marker='o', color='w', markerfacecolor='red', markersize=8)\n",
        "\n",
        "# Create the legend\n",
        "ax.legend([knn_patch, rf_patch, dt_patch], ['KNN', 'Random Forest', 'Decision Tree'])\n",
        "\n",
        "plt.show()"
      ],
      "metadata": {
        "id": "20D4jOlAz_dx",
        "colab": {
          "base_uri": "https://localhost:8080/",
          "height": 704
        },
        "outputId": "dd62a2c5-94c3-4894-c73b-f7509b736de4"
      },
      "execution_count": null,
      "outputs": [
        {
          "output_type": "display_data",
          "data": {
            "text/plain": [
              "<Figure size 1000x800 with 1 Axes>"
            ],
            "image/png": "[encoded data removed]"
          },
          "metadata": {}
        }
      ]
    },
    {
      "cell_type": "code",
      "source": [
        "fig, ax = plt.subplots(figsize=(10,8))\n",
        "\n",
        "ax.errorbar('knn', knn_accuracy_mean_pso, knn_accuracy_std_pso, fmt='o', linewidth=2, capsize=6, color=\"blue\")\n",
        "ax.errorbar('knn', knn_accuracy_max_pso, fmt='o', linewidth=2, capsize=6, color=\"blue\")\n",
        "ax.errorbar('knn', knn_accuracy_min_pso, fmt='o', linewidth=2, capsize=6, color=\"blue\")\n",
        "\n",
        "ax.errorbar('randfrst', randfrst_accuracy_mean_pso, randfrst_accuracy_std_pso, fmt='o', linewidth=2, capsize=6, color='green')\n",
        "ax.errorbar('randfrst', randfrst_accuracy_max_pso, fmt='o', linewidth=2, capsize=6, color='green')\n",
        "ax.errorbar('randfrst', randfrst_accuracy_min_pso, fmt='o', linewidth=2, capsize=6, color='green')\n",
        "\n",
        "ax.errorbar('dt', dt_accuracy_mean_pso, dt_accuracy_std_pso, fmt='o', linewidth=2, capsize=6, color='red')\n",
        "ax.errorbar('dt', dt_accuracy_max_pso, fmt='o', linewidth=2, capsize=6, color='red')\n",
        "ax.errorbar('dt', dt_accuracy_min_pso, fmt='o', linewidth=2, capsize=6, color='red')\n",
        "\n",
        "ax.set_xlabel('Sınıflandırma Algoritması')\n",
        "ax.set_ylabel('Doğruluk')\n",
        "ax.set_title('10 AP İçin PSO ile Hiper Parametre Seçilmiş Sınıflandırma Algoritması Doğruluğu')\n",
        "\n",
        "knn_patch = plt.Line2D([0], [0], marker='o', color='w', markerfacecolor='blue', markersize=8)\n",
        "rf_patch = plt.Line2D([0], [0], marker='o', color='w', markerfacecolor='green', markersize=8)\n",
        "dt_patch = plt.Line2D([0], [0], marker='o', color='w', markerfacecolor='red', markersize=8)\n",
        "\n",
        "# Create the legend\n",
        "ax.legend([knn_patch, rf_patch, dt_patch], ['KNN', 'Random Forest', 'Decision Tree'])"
      ],
      "metadata": {
        "id": "oTyO5kFgepH7",
        "colab": {
          "base_uri": "https://localhost:8080/",
          "height": 729
        },
        "outputId": "a9e66010-9060-4aa7-83f3-6a0ad4423f96"
      },
      "execution_count": null,
      "outputs": [
        {
          "output_type": "execute_result",
          "data": {
            "text/plain": [
              "<matplotlib.legend.Legend at 0x7fc6084548e0>"
            ]
          },
          "metadata": {},
          "execution_count": 77
        },
        {
          "output_type": "display_data",
          "data": {
            "text/plain": [
              "<Figure size 1000x800 with 1 Axes>"
            ],
            "image/png": "[encoded data removed]"
          },
          "metadata": {}
        }
      ]
    },
    {
      "cell_type": "code",
      "source": [
        "fig, ax = plt.subplots(figsize=(10, 8))\n",
        "\n",
        "# KNN\n",
        "ax.errorbar('knn', knn_precision_mean, knn_precision_std, fmt='o', linewidth=2, capsize=6, color='blue')\n",
        "ax.errorbar('knn', knn_precision_max, fmt='o', linewidth=2, capsize=6, color='blue')\n",
        "ax.errorbar('knn', knn_precision_min, fmt='o', linewidth=2, capsize=6, color='blue')\n",
        "\n",
        "# Random Forest\n",
        "ax.errorbar('randfrst', randfrst_precision_mean, randfrst_precision_std, fmt='o', linewidth=2, capsize=6, color='green')\n",
        "ax.errorbar('randfrst', randfrst_precision_max, fmt='o', linewidth=2, capsize=6, color='green')\n",
        "ax.errorbar('randfrst', randfrst_precision_min, fmt='o', linewidth=2, capsize=6, color='green')\n",
        "\n",
        "# Decision Tree\n",
        "ax.errorbar('dt', dt_precision_mean, dt_precision_std, fmt='o', linewidth=2, capsize=6, color='red')\n",
        "ax.errorbar('dt', dt_precision_max, fmt='o', linewidth=2, capsize=6, color='red')\n",
        "ax.errorbar('dt', dt_precision_min, fmt='o', linewidth=2, capsize=6, color='red')\n",
        "\n",
        "ax.set_xlabel('Sınıflandırma Algoritması')\n",
        "ax.set_ylabel('Duyarlılık')\n",
        "ax.set_title('10 AP İçin Sınıflandırma Algoritması Kesinliği')\n",
        "# Custom legend labels and colors\n",
        "knn_patch = plt.Line2D([0], [0], marker='o', color='w', markerfacecolor='blue', markersize=8)\n",
        "rf_patch = plt.Line2D([0], [0], marker='o', color='w', markerfacecolor='green', markersize=8)\n",
        "dt_patch = plt.Line2D([0], [0], marker='o', color='w', markerfacecolor='red', markersize=8)\n",
        "\n",
        "# Create the legend\n",
        "ax.legend([knn_patch, rf_patch, dt_patch], ['KNN', 'Random Forest', 'Decision Tree'])\n",
        "\n",
        "plt.show()"
      ],
      "metadata": {
        "id": "O4r2kKRoe643",
        "colab": {
          "base_uri": "https://localhost:8080/",
          "height": 712
        },
        "outputId": "b359823f-57d7-4cbb-c530-20993da44e7d"
      },
      "execution_count": null,
      "outputs": [
        {
          "output_type": "display_data",
          "data": {
            "text/plain": [
              "<Figure size 1000x800 with 1 Axes>"
            ],
            "image/png": "[encoded data removed]"
          },
          "metadata": {}
        }
      ]
    },
    {
      "cell_type": "code",
      "source": [
        "fig, ax = plt.subplots(figsize=(10,8))\n",
        "\n",
        "ax.errorbar('knn', knn_precision_mean_pso, knn_precision_std_pso, fmt='o', linewidth=2, capsize=6, color=\"blue\")\n",
        "ax.errorbar('knn', knn_precision_max_pso, fmt='o', linewidth=2, capsize=6, color=\"blue\")\n",
        "ax.errorbar('knn', knn_precision_min_pso, fmt='o', linewidth=2, capsize=6, color=\"blue\")\n",
        "\n",
        "ax.errorbar('randfrst', randfrst_precision_mean_pso, randfrst_precision_std_pso, fmt='o', linewidth=2, capsize=6, color=\"green\")\n",
        "ax.errorbar('randfrst', randfrst_precision_max_pso, fmt='o', linewidth=2, capsize=6, color=\"green\")\n",
        "ax.errorbar('randfrst', randfrst_precision_min_pso, fmt='o', linewidth=2, capsize=6, color=\"green\")\n",
        "\n",
        "\n",
        "ax.errorbar('dt', dt_precision_mean_pso, dt_precision_std_pso, fmt='o', linewidth=2, capsize=6, color=\"red\")\n",
        "ax.errorbar('dt', dt_precision_max_pso, fmt='o', linewidth=2, capsize=6, color=\"red\")\n",
        "ax.errorbar('dt', dt_precision_min_pso, fmt='o', linewidth=2, capsize=6, color=\"red\")\n",
        "\n",
        "ax.set_xlabel('Sınıflandırma Algoritması')\n",
        "ax.set_ylabel('Kesinlik')\n",
        "ax.set_title('10 AP İçin PSO ile Hiper Parametre Seçilmiş Sınıflandırma Algoritması Kesinliği')\n",
        "knn_patch = plt.Line2D([0], [0], marker='o', color='w', markerfacecolor='blue', markersize=8)\n",
        "rf_patch = plt.Line2D([0], [0], marker='o', color='w', markerfacecolor='green', markersize=8)\n",
        "dt_patch = plt.Line2D([0], [0], marker='o', color='w', markerfacecolor='red', markersize=8)\n",
        "\n",
        "# Create the legend\n",
        "ax.legend([knn_patch, rf_patch, dt_patch], ['KNN', 'Random Forest', 'Decision Tree'])"
      ],
      "metadata": {
        "id": "MqLX4cR9e7e-",
        "colab": {
          "base_uri": "https://localhost:8080/",
          "height": 729
        },
        "outputId": "6aee5e08-4742-4bfe-bcc4-d58630e900b9"
      },
      "execution_count": null,
      "outputs": [
        {
          "output_type": "execute_result",
          "data": {
            "text/plain": [
              "<matplotlib.legend.Legend at 0x7fc608367df0>"
            ]
          },
          "metadata": {},
          "execution_count": 79
        },
        {
          "output_type": "display_data",
          "data": {
            "text/plain": [
              "<Figure size 1000x800 with 1 Axes>"
            ],
            "image/png": "[encoded data removed]"
          },
          "metadata": {}
        }
      ]
    },
    {
      "cell_type": "code",
      "source": [
        "fig, ax = plt.subplots(figsize=(10, 8))\n",
        "\n",
        "# KNN\n",
        "ax.errorbar('knn', knn_recall_mean, knn_recall_std, fmt='o', linewidth=2, capsize=6, color='blue')\n",
        "ax.errorbar('knn', knn_recall_max, fmt='o', linewidth=2, capsize=6, color='blue')\n",
        "ax.errorbar('knn', knn_recall_min, fmt='o', linewidth=2, capsize=6, color='blue')\n",
        "\n",
        "# Random Forest\n",
        "ax.errorbar('randfrst', randfrst_recall_mean, randfrst_recall_std, fmt='o', linewidth=2, capsize=6, color='green')\n",
        "ax.errorbar('randfrst', randfrst_recall_max, fmt='o', linewidth=2, capsize=6, color='green')\n",
        "ax.errorbar('randfrst', randfrst_recall_min, fmt='o', linewidth=2, capsize=6, color='green')\n",
        "\n",
        "# Decision Tree\n",
        "ax.errorbar('dt', dt_recall_mean, dt_recall_std, fmt='o', linewidth=2, capsize=6, color='red')\n",
        "ax.errorbar('dt', dt_recall_max, fmt='o', linewidth=2, capsize=6, color='red')\n",
        "ax.errorbar('dt', dt_recall_min, fmt='o', linewidth=2, capsize=6, color='red')\n",
        "\n",
        "ax.set_xlabel('Sınıflandırma Algoritması')\n",
        "ax.set_ylabel('Duyarlılık')\n",
        "ax.set_title('10 AP İçin Sınıflandırma Algoritması Duyarlılığı')\n",
        "# Custom legend labels and colors\n",
        "knn_patch = plt.Line2D([0], [0], marker='o', color='w', markerfacecolor='blue', markersize=8)\n",
        "rf_patch = plt.Line2D([0], [0], marker='o', color='w', markerfacecolor='green', markersize=8)\n",
        "dt_patch = plt.Line2D([0], [0], marker='o', color='w', markerfacecolor='red', markersize=8)\n",
        "\n",
        "# Create the legend\n",
        "ax.legend([knn_patch, rf_patch, dt_patch], ['KNN', 'Random Forest', 'Decision Tree'])\n",
        "\n",
        "plt.show()"
      ],
      "metadata": {
        "id": "lyAxvju8fK20",
        "colab": {
          "base_uri": "https://localhost:8080/",
          "height": 704
        },
        "outputId": "0fcd36db-57bc-44c0-fa89-ac8b95de1dd3"
      },
      "execution_count": null,
      "outputs": [
        {
          "output_type": "display_data",
          "data": {
            "text/plain": [
              "<Figure size 1000x800 with 1 Axes>"
            ],
            "image/png": "[encoded data removed]"
          },
          "metadata": {}
        }
      ]
    },
    {
      "cell_type": "code",
      "source": [
        "fig, ax = plt.subplots(figsize=(10,8))\n",
        "\n",
        "ax.errorbar('knn', knn_recall_mean_pso, knn_recall_std_pso, fmt='o', linewidth=2, capsize=6, color=\"blue\")\n",
        "ax.errorbar('knn', knn_recall_max_pso, fmt='o', linewidth=2, capsize=6, color=\"blue\")\n",
        "ax.errorbar('knn', knn_recall_min_pso, fmt='o', linewidth=2, capsize=6, color=\"blue\")\n",
        "\n",
        "ax.errorbar('randfrst', randfrst_recall_mean_pso, randfrst_recall_std_pso, fmt='o', linewidth=2, capsize=6, color=\"green\")\n",
        "ax.errorbar('randfrst', randfrst_recall_max_pso, fmt='o', linewidth=2, capsize=6, color=\"green\")\n",
        "ax.errorbar('randfrst', randfrst_recall_min_pso, fmt='o', linewidth=2, capsize=6, color=\"green\")\n",
        "\n",
        "ax.errorbar('dt', dt_recall_mean_pso, dt_recall_std_pso, fmt='o', linewidth=2, capsize=6, color=\"red\")\n",
        "ax.errorbar('dt', dt_recall_max_pso, fmt='o', linewidth=2, capsize=6, color=\"red\")\n",
        "ax.errorbar('dt', dt_recall_min_pso, fmt='o', linewidth=2, capsize=6, color=\"red\")\n",
        "\n",
        "ax.set_xlabel('Sınıflandırma Algoritması')\n",
        "ax.set_ylabel('Duyarlılık')\n",
        "ax.set_title('10 AP İçin PSO ile Hiper Parametre Seçilmiş Sınıflandırma Algoritması Duyarlılığı')\n",
        "# Custom legend labels and colors\n",
        "knn_patch = plt.Line2D([0], [0], marker='o', color='w', markerfacecolor='blue', markersize=8)\n",
        "rf_patch = plt.Line2D([0], [0], marker='o', color='w', markerfacecolor='green', markersize=8)\n",
        "dt_patch = plt.Line2D([0], [0], marker='o', color='w', markerfacecolor='red', markersize=8)\n",
        "\n",
        "# Create the legend\n",
        "ax.legend([knn_patch, rf_patch, dt_patch], ['KNN', 'Random Forest', 'Decision Tree'])\n",
        "\n",
        "plt.show()"
      ],
      "metadata": {
        "id": "EcWd922RfMP3",
        "colab": {
          "base_uri": "https://localhost:8080/",
          "height": 712
        },
        "outputId": "46f4ca4b-36ad-4ef5-aa0a-02f5119842e9"
      },
      "execution_count": null,
      "outputs": [
        {
          "output_type": "display_data",
          "data": {
            "text/plain": [
              "<Figure size 1000x800 with 1 Axes>"
            ],
            "image/png": "[encoded data removed]"
          },
          "metadata": {}
        }
      ]
    },
    {
      "cell_type": "code",
      "source": [],
      "metadata": {
        "id": "s_9OYheNI4sg"
      },
      "execution_count": null,
      "outputs": []
    }
  ]
}