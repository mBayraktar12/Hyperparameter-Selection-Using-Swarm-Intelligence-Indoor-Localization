{
  "nbformat": 4,
  "nbformat_minor": 0,
  "metadata": {
    "colab": {
      "provenance": []
    },
    "kernelspec": {
      "name": "python3",
      "display_name": "Python 3"
    },
    "language_info": {
      "name": "python"
    },
    "accelerator": "GPU",
    "gpuClass": "standard"
  },
  "cells": [
    {
      "cell_type": "code",
      "source": [
        "from google.colab import drive\n",
        "drive.mount(\"/content/drive\")"
      ],
      "metadata": {
        "colab": {
          "base_uri": "https://localhost:8080/"
        },
        "id": "OGmV1TjtYfJf",
        "outputId": "57535fce-6ed2-4e91-ea54-68c5e350cb3c"
      },
      "execution_count": null,
      "outputs": [
        {
          "output_type": "stream",
          "name": "stdout",
          "text": [
            "Drive already mounted at /content/drive; to attempt to forcibly remount, call drive.mount(\"/content/drive\", force_remount=True).\n"
          ]
        }
      ]
    },
    {
      "cell_type": "code",
      "source": [
        "import numpy as np\n",
        "import pandas as pd"
      ],
      "metadata": {
        "id": "Z43CT9gMpx2k"
      },
      "execution_count": null,
      "outputs": []
    },
    {
      "cell_type": "code",
      "source": [
        "data = pd.read_csv('/content/drive/MyDrive/Colab Notebooks/INDOOR LOCALIZATION EXPERIMENTS/data_new.csv')"
      ],
      "metadata": {
        "id": "JEyoHA6Zp0v1"
      },
      "execution_count": null,
      "outputs": []
    },
    {
      "cell_type": "code",
      "source": [
        "data.head()"
      ],
      "metadata": {
        "id": "XYdCjc3lp3in",
        "outputId": "da995d92-16d3-48e1-c404-69c4e8557b7f",
        "colab": {
          "base_uri": "https://localhost:8080/",
          "height": 560
        }
      },
      "execution_count": null,
      "outputs": [
        {
          "output_type": "execute_result",
          "data": {
            "text/plain": [
              "   00:02:6f:af:6c:11  00:1a:2a:e8:be:35  00:30:4f:9c:79:18  00:30:f1:fe:fa:7b  \\\n",
              "0              -96.0                0.0                0.0                0.0   \n",
              "1              -96.0                0.0                0.0                0.0   \n",
              "2              -96.0                0.0                0.0                0.0   \n",
              "3              -96.0                0.0                0.0                0.0   \n",
              "4              -96.0                0.0                0.0                0.0   \n",
              "\n",
              "   00:e0:4b:c8:0c:1e  02:17:c8:83:04:1a  02:2e:ce:7b:26:7b  04:bd:88:80:7e:40  \\\n",
              "0                0.0                0.0                0.0                  0   \n",
              "1                0.0                0.0                0.0                  0   \n",
              "2                0.0                0.0                0.0                  0   \n",
              "3                0.0                0.0                0.0                  0   \n",
              "4                0.0                0.0                0.0                  0   \n",
              "\n",
              "   04:bd:88:83:b8:a0  04:bd:88:83:c4:e0  ...  dc:ee:06:3a:ac:64  \\\n",
              "0                0.0                0.0  ...                0.0   \n",
              "1                0.0                0.0  ...                0.0   \n",
              "2                0.0                0.0  ...                0.0   \n",
              "3                0.0                0.0  ...                0.0   \n",
              "4                0.0                0.0  ...                0.0   \n",
              "\n",
              "   f2:d5:55:a6:2d:2b  f6:39:09:58:13:a9  f8:23:b2:b7:2a:3a  fe:01:7c:78:d3:d9  \\\n",
              "0                  0                0.0                  0                  0   \n",
              "1                  0                0.0                  0                  0   \n",
              "2                  0                0.0                  0                  0   \n",
              "3                  0                0.0                  0                  0   \n",
              "4                  0                0.0                  0                  0   \n",
              "\n",
              "     TIMESTAMPS        LAT        LON                                  ROOM  \\\n",
              "0  1.676569e+18  36.896472  30.648824  1e1b47d4-27c4-42c5-add2-e6ff16348b65   \n",
              "1  1.676569e+18  36.896472  30.648824  1e1b47d4-27c4-42c5-add2-e6ff16348b65   \n",
              "2  1.676569e+18  36.896472  30.648824  1e1b47d4-27c4-42c5-add2-e6ff16348b65   \n",
              "3  1.676569e+18  36.896472  30.648824  1e1b47d4-27c4-42c5-add2-e6ff16348b65   \n",
              "4  1.676569e+18  36.896472  30.648824  1e1b47d4-27c4-42c5-add2-e6ff16348b65   \n",
              "\n",
              "   FLOOR  \n",
              "0      2  \n",
              "1      2  \n",
              "2      2  \n",
              "3      2  \n",
              "4      2  \n",
              "\n",
              "[5 rows x 90 columns]"
            ],
            "text/html": [
              "\n",
              "  <div id=\"df-439aedec-2af2-406c-a1d6-25f3da69928c\">\n",
              "    <div class=\"colab-df-container\">\n",
              "      <div>\n",
              "<style scoped>\n",
              "    .dataframe tbody tr th:only-of-type {\n",
              "        vertical-align: middle;\n",
              "    }\n",
              "\n",
              "    .dataframe tbody tr th {\n",
              "        vertical-align: top;\n",
              "    }\n",
              "\n",
              "    .dataframe thead th {\n",
              "        text-align: right;\n",
              "    }\n",
              "</style>\n",
              "<table border=\"1\" class=\"dataframe\">\n",
              "  <thead>\n",
              "    <tr style=\"text-align: right;\">\n",
              "      <th></th>\n",
              "      <th>00:02:6f:af:6c:11</th>\n",
              "      <th>00:1a:2a:e8:be:35</th>\n",
              "      <th>00:30:4f:9c:79:18</th>\n",
              "      <th>00:30:f1:fe:fa:7b</th>\n",
              "      <th>00:e0:4b:c8:0c:1e</th>\n",
              "      <th>02:17:c8:83:04:1a</th>\n",
              "      <th>02:2e:ce:7b:26:7b</th>\n",
              "      <th>04:bd:88:80:7e:40</th>\n",
              "      <th>04:bd:88:83:b8:a0</th>\n",
              "      <th>04:bd:88:83:c4:e0</th>\n",
              "      <th>...</th>\n",
              "      <th>dc:ee:06:3a:ac:64</th>\n",
              "      <th>f2:d5:55:a6:2d:2b</th>\n",
              "      <th>f6:39:09:58:13:a9</th>\n",
              "      <th>f8:23:b2:b7:2a:3a</th>\n",
              "      <th>fe:01:7c:78:d3:d9</th>\n",
              "      <th>TIMESTAMPS</th>\n",
              "      <th>LAT</th>\n",
              "      <th>LON</th>\n",
              "      <th>ROOM</th>\n",
              "      <th>FLOOR</th>\n",
              "    </tr>\n",
              "  </thead>\n",
              "  <tbody>\n",
              "    <tr>\n",
              "      <th>0</th>\n",
              "      <td>-96.0</td>\n",
              "      <td>0.0</td>\n",
              "      <td>0.0</td>\n",
              "      <td>0.0</td>\n",
              "      <td>0.0</td>\n",
              "      <td>0.0</td>\n",
              "      <td>0.0</td>\n",
              "      <td>0</td>\n",
              "      <td>0.0</td>\n",
              "      <td>0.0</td>\n",
              "      <td>...</td>\n",
              "      <td>0.0</td>\n",
              "      <td>0</td>\n",
              "      <td>0.0</td>\n",
              "      <td>0</td>\n",
              "      <td>0</td>\n",
              "      <td>1.676569e+18</td>\n",
              "      <td>36.896472</td>\n",
              "      <td>30.648824</td>\n",
              "      <td>1e1b47d4-27c4-42c5-add2-e6ff16348b65</td>\n",
              "      <td>2</td>\n",
              "    </tr>\n",
              "    <tr>\n",
              "      <th>1</th>\n",
              "      <td>-96.0</td>\n",
              "      <td>0.0</td>\n",
              "      <td>0.0</td>\n",
              "      <td>0.0</td>\n",
              "      <td>0.0</td>\n",
              "      <td>0.0</td>\n",
              "      <td>0.0</td>\n",
              "      <td>0</td>\n",
              "      <td>0.0</td>\n",
              "      <td>0.0</td>\n",
              "      <td>...</td>\n",
              "      <td>0.0</td>\n",
              "      <td>0</td>\n",
              "      <td>0.0</td>\n",
              "      <td>0</td>\n",
              "      <td>0</td>\n",
              "      <td>1.676569e+18</td>\n",
              "      <td>36.896472</td>\n",
              "      <td>30.648824</td>\n",
              "      <td>1e1b47d4-27c4-42c5-add2-e6ff16348b65</td>\n",
              "      <td>2</td>\n",
              "    </tr>\n",
              "    <tr>\n",
              "      <th>2</th>\n",
              "      <td>-96.0</td>\n",
              "      <td>0.0</td>\n",
              "      <td>0.0</td>\n",
              "      <td>0.0</td>\n",
              "      <td>0.0</td>\n",
              "      <td>0.0</td>\n",
              "      <td>0.0</td>\n",
              "      <td>0</td>\n",
              "      <td>0.0</td>\n",
              "      <td>0.0</td>\n",
              "      <td>...</td>\n",
              "      <td>0.0</td>\n",
              "      <td>0</td>\n",
              "      <td>0.0</td>\n",
              "      <td>0</td>\n",
              "      <td>0</td>\n",
              "      <td>1.676569e+18</td>\n",
              "      <td>36.896472</td>\n",
              "      <td>30.648824</td>\n",
              "      <td>1e1b47d4-27c4-42c5-add2-e6ff16348b65</td>\n",
              "      <td>2</td>\n",
              "    </tr>\n",
              "    <tr>\n",
              "      <th>3</th>\n",
              "      <td>-96.0</td>\n",
              "      <td>0.0</td>\n",
              "      <td>0.0</td>\n",
              "      <td>0.0</td>\n",
              "      <td>0.0</td>\n",
              "      <td>0.0</td>\n",
              "      <td>0.0</td>\n",
              "      <td>0</td>\n",
              "      <td>0.0</td>\n",
              "      <td>0.0</td>\n",
              "      <td>...</td>\n",
              "      <td>0.0</td>\n",
              "      <td>0</td>\n",
              "      <td>0.0</td>\n",
              "      <td>0</td>\n",
              "      <td>0</td>\n",
              "      <td>1.676569e+18</td>\n",
              "      <td>36.896472</td>\n",
              "      <td>30.648824</td>\n",
              "      <td>1e1b47d4-27c4-42c5-add2-e6ff16348b65</td>\n",
              "      <td>2</td>\n",
              "    </tr>\n",
              "    <tr>\n",
              "      <th>4</th>\n",
              "      <td>-96.0</td>\n",
              "      <td>0.0</td>\n",
              "      <td>0.0</td>\n",
              "      <td>0.0</td>\n",
              "      <td>0.0</td>\n",
              "      <td>0.0</td>\n",
              "      <td>0.0</td>\n",
              "      <td>0</td>\n",
              "      <td>0.0</td>\n",
              "      <td>0.0</td>\n",
              "      <td>...</td>\n",
              "      <td>0.0</td>\n",
              "      <td>0</td>\n",
              "      <td>0.0</td>\n",
              "      <td>0</td>\n",
              "      <td>0</td>\n",
              "      <td>1.676569e+18</td>\n",
              "      <td>36.896472</td>\n",
              "      <td>30.648824</td>\n",
              "      <td>1e1b47d4-27c4-42c5-add2-e6ff16348b65</td>\n",
              "      <td>2</td>\n",
              "    </tr>\n",
              "  </tbody>\n",
              "</table>\n",
              "<p>5 rows × 90 columns</p>\n",
              "</div>\n",
              "      <button class=\"colab-df-convert\" onclick=\"convertToInteractive('df-439aedec-2af2-406c-a1d6-25f3da69928c')\"\n",
              "              title=\"Convert this dataframe to an interactive table.\"\n",
              "              style=\"display:none;\">\n",
              "        \n",
              "  <svg xmlns=\"http://www.w3.org/2000/svg\" height=\"24px\"viewBox=\"0 0 24 24\"\n",
              "       width=\"24px\">\n",
              "    <path d=\"M0 0h24v24H0V0z\" fill=\"none\"/>\n",
              "    <path d=\"M18.56 5.44l.94 2.06.94-2.06 2.06-.94-2.06-.94-.94-2.06-.94 2.06-2.06.94zm-11 1L8.5 8.5l.94-2.06 2.06-.94-2.06-.94L8.5 2.5l-.94 2.06-2.06.94zm10 10l.94 2.06.94-2.06 2.06-.94-2.06-.94-.94-2.06-.94 2.06-2.06.94z\"/><path d=\"M17.41 7.96l-1.37-1.37c-.4-.4-.92-.59-1.43-.59-.52 0-1.04.2-1.43.59L10.3 9.45l-7.72 7.72c-.78.78-.78 2.05 0 2.83L4 21.41c.39.39.9.59 1.41.59.51 0 1.02-.2 1.41-.59l7.78-7.78 2.81-2.81c.8-.78.8-2.07 0-2.86zM5.41 20L4 18.59l7.72-7.72 1.47 1.35L5.41 20z\"/>\n",
              "  </svg>\n",
              "      </button>\n",
              "      \n",
              "  <style>\n",
              "    .colab-df-container {\n",
              "      display:flex;\n",
              "      flex-wrap:wrap;\n",
              "      gap: 12px;\n",
              "    }\n",
              "\n",
              "    .colab-df-convert {\n",
              "      background-color: #E8F0FE;\n",
              "      border: none;\n",
              "      border-radius: 50%;\n",
              "      cursor: pointer;\n",
              "      display: none;\n",
              "      fill: #1967D2;\n",
              "      height: 32px;\n",
              "      padding: 0 0 0 0;\n",
              "      width: 32px;\n",
              "    }\n",
              "\n",
              "    .colab-df-convert:hover {\n",
              "      background-color: #E2EBFA;\n",
              "      box-shadow: 0px 1px 2px rgba(60, 64, 67, 0.3), 0px 1px 3px 1px rgba(60, 64, 67, 0.15);\n",
              "      fill: #174EA6;\n",
              "    }\n",
              "\n",
              "    [theme=dark] .colab-df-convert {\n",
              "      background-color: #3B4455;\n",
              "      fill: #D2E3FC;\n",
              "    }\n",
              "\n",
              "    [theme=dark] .colab-df-convert:hover {\n",
              "      background-color: #434B5C;\n",
              "      box-shadow: 0px 1px 3px 1px rgba(0, 0, 0, 0.15);\n",
              "      filter: drop-shadow(0px 1px 2px rgba(0, 0, 0, 0.3));\n",
              "      fill: #FFFFFF;\n",
              "    }\n",
              "  </style>\n",
              "\n",
              "      <script>\n",
              "        const buttonEl =\n",
              "          document.querySelector('#df-439aedec-2af2-406c-a1d6-25f3da69928c button.colab-df-convert');\n",
              "        buttonEl.style.display =\n",
              "          google.colab.kernel.accessAllowed ? 'block' : 'none';\n",
              "\n",
              "        async function convertToInteractive(key) {\n",
              "          const element = document.querySelector('#df-439aedec-2af2-406c-a1d6-25f3da69928c');\n",
              "          const dataTable =\n",
              "            await google.colab.kernel.invokeFunction('convertToInteractive',\n",
              "                                                     [key], {});\n",
              "          if (!dataTable) return;\n",
              "\n",
              "          const docLinkHtml = 'Like what you see? Visit the ' +\n",
              "            '<a target=\"_blank\" href=https://colab.research.google.com/notebooks/data_table.ipynb>data table notebook</a>'\n",
              "            + ' to learn more about interactive tables.';\n",
              "          element.innerHTML = '';\n",
              "          dataTable['output_type'] = 'display_data';\n",
              "          await google.colab.output.renderOutput(dataTable, element);\n",
              "          const docLink = document.createElement('div');\n",
              "          docLink.innerHTML = docLinkHtml;\n",
              "          element.appendChild(docLink);\n",
              "        }\n",
              "      </script>\n",
              "    </div>\n",
              "  </div>\n",
              "  "
            ]
          },
          "metadata": {},
          "execution_count": 4
        }
      ]
    },
    {
      "cell_type": "code",
      "source": [
        "from sklearn.model_selection import train_test_split\n",
        "from sklearn.neighbors import KNeighborsClassifier\n",
        "from sklearn.metrics import accuracy_score,confusion_matrix,classification_report, precision_score, recall_score\n",
        "from sklearn.linear_model import LogisticRegression\n",
        "\n",
        "from sklearn.ensemble import RandomForestClassifier\n",
        "from sklearn.svm import SVC\n",
        "from sklearn.tree import DecisionTreeClassifier"
      ],
      "metadata": {
        "id": "UNqyWTYM0NAo"
      },
      "execution_count": null,
      "outputs": []
    },
    {
      "cell_type": "code",
      "source": [
        "data.replace(0, -1000, inplace=True)"
      ],
      "metadata": {
        "id": "4rYfwGH892c8"
      },
      "execution_count": null,
      "outputs": []
    },
    {
      "cell_type": "code",
      "source": [
        "X = data.iloc[:,:85]"
      ],
      "metadata": {
        "id": "r47aweu094ib"
      },
      "execution_count": null,
      "outputs": []
    },
    {
      "cell_type": "code",
      "source": [
        "y = data.iloc[:,88]"
      ],
      "metadata": {
        "id": "uOgXKK7Q96Cj"
      },
      "execution_count": null,
      "outputs": []
    },
    {
      "cell_type": "code",
      "source": [
        "X_train, X_test, y_train, y_test = train_test_split(X, y, test_size = 0.2, random_state = 42)"
      ],
      "metadata": {
        "id": "4YfEu12_9-js"
      },
      "execution_count": null,
      "outputs": []
    },
    {
      "cell_type": "code",
      "source": [
        "import random"
      ],
      "metadata": {
        "id": "V2Atodfj0-Bo"
      },
      "execution_count": null,
      "outputs": []
    },
    {
      "cell_type": "code",
      "source": [
        "random.seed(2)"
      ],
      "metadata": {
        "id": "pDe-jra77xaG"
      },
      "execution_count": null,
      "outputs": []
    },
    {
      "cell_type": "code",
      "source": [
        "from joblib import Parallel, delayed"
      ],
      "metadata": {
        "id": "iA8g703-t-DZ"
      },
      "execution_count": null,
      "outputs": []
    },
    {
      "cell_type": "code",
      "source": [
        "# Define a map from integer values to distance metrics\n",
        "distance_metric_map = {\n",
        "    0: \"euclidean\",\n",
        "    1: \"manhattan\",\n",
        "    2: \"chebyshev\"\n",
        "}\n",
        "\n",
        "# Define a map from integer values to weighting methods\n",
        "weighting_method_map = {\n",
        "    0: \"uniform\",\n",
        "    1: \"distance\"\n",
        "}\n",
        "\n",
        "algorithm_map = {\n",
        "    0: \"brute\",\n",
        "    1: \"kd_tree\",\n",
        "    2: \"auto\",\n",
        "    3: \"ball_tree\"\n",
        "}\n",
        "\n",
        "\n",
        "# Define the hyperparameter space for the KNN algorithm\n",
        "k_values = [1, 2, 3, 4, 5, 6, 7, 8, 9, 10]\n",
        "distance_metric_values = [0, 1, 2]\n",
        "weighting_method_values = [0, 1]\n",
        "algorithm_values = [0, 1, 2, 3]\n",
        "leaf_size_values = [10, 20, 30, 40, 50]\n",
        "p_values = [1, 2, 3, 4, 5]"
      ],
      "metadata": {
        "id": "Wnf1G5qD67tN"
      },
      "execution_count": null,
      "outputs": []
    },
    {
      "cell_type": "code",
      "source": [
        "knn_accuracy_list_woa = []\n",
        "knn_precision_list_woa = []\n",
        "knn_recall_list_woa = []"
      ],
      "metadata": {
        "id": "gGod2a6Y9Clu"
      },
      "execution_count": null,
      "outputs": []
    },
    {
      "cell_type": "code",
      "source": [
        "import tensorflow as tf"
      ],
      "metadata": {
        "id": "Ea-QCfFL0SNY"
      },
      "execution_count": null,
      "outputs": []
    },
    {
      "cell_type": "code",
      "source": [
        "with tf.device(\"/gpu:0\"):\n",
        "\n",
        "# Define a function to evaluate the fitness of a set of hyperparameters\n",
        "  def evaluate_fitness(hyperparameters):\n",
        "    k = hyperparameters[0]\n",
        "    distance_metric = round(hyperparameters[1])\n",
        "    weighting_method = round(hyperparameters[2])\n",
        "    algorithm = round(hyperparameters[3])\n",
        "    leaf = hyperparameters[4]\n",
        "\n",
        "    # Train the KNN algorithm using the hyperparameters\n",
        "    knn = KNeighborsClassifier(n_neighbors=int(k), metric=distance_metric_map[distance_metric],\n",
        "                               weights=weighting_method_map[weighting_method],\n",
        "                               algorithm=algorithm_map[algorithm],\n",
        "                               leaf_size = int(leaf))\n",
        "    knn.fit(X_train, y_train)\n",
        "    # Calculate the accuracy of the model on the testing set\n",
        "    y_pred = knn.predict(X_test)\n",
        "    score = accuracy_score(y_test, y_pred)\n",
        "    return score\n",
        "\n",
        "  # Initialize the population of whales\n",
        "  num_whales = 50\n",
        "  population = []\n",
        "  num_jobs = -1\n",
        "\n",
        "  for i in range(num_whales):\n",
        "    hyperparameters = [np.random.choice(k_values), np.random.choice(distance_metric_values),\n",
        "                       np.random.choice(weighting_method_values),\n",
        "                       np.random.choice(algorithm_values),\n",
        "                       np.random.choice(leaf_size_values)]\n",
        "    population.append(hyperparameters)\n",
        "\n",
        "  # Set the number of iterations for the WOA algorithm\n",
        "  num_iterations = 100\n",
        "\n",
        "  # Iterate through the WOA algorithm loop\n",
        "  # for i in range(num_iterations):\n",
        "  #   # Evaluate the fitness of each whale\n",
        "  #   fitness = []\n",
        "  #   for whale in population:\n",
        "  #     fitness.append(evaluate_fitness(whale))\n",
        "\n",
        "  for i in range(num_iterations):\n",
        "    # Evaluate the fitness of each particle\n",
        "    fitness = Parallel(n_jobs=num_jobs)(\n",
        "        delayed(evaluate_fitness)(whale) for whale in population\n",
        "    )\n",
        "\n",
        "    # Update the position of each whale\n",
        "    a = 2 - i*(2/num_iterations) # Update the a parameter for the update formula\n",
        "    for j, whale in enumerate(population):\n",
        "      r1 = np.random.uniform(0, 1)\n",
        "      r2 = np.random.uniform(0, 1)\n",
        "      A = 2*a*r1 - a\n",
        "      C = 2*r2\n",
        "      l = (a*C) - abs(A)\n",
        "      p = l if l > 0 else 0\n",
        "      D_k = abs(C*whale[0] - population[j][0])\n",
        "      D_metric = abs(C*whale[1] - population[j][1])\n",
        "      D_weighting = abs(C*whale[2]-population[j][2])\n",
        "      D_algorithm = abs(C*whale[3]-population[j][3])\n",
        "      D_leaf = abs(C*whale[4]-population[j][4])\n",
        "\n",
        "      X1 = population[j][0] - A*D_k\n",
        "      X2 = population[j][1] - A*D_metric\n",
        "      X3 = population[j][2] - A*D_weighting\n",
        "      X4 = population[j][3] - A*D_algorithm\n",
        "      X5 = population[j][4] - A*D_leaf\n",
        "\n",
        "      v_k = X1\n",
        "      v_metric = X2\n",
        "      v_weighting = X3\n",
        "      v_algorithm = X4\n",
        "      v_leaf = X5\n",
        "\n",
        "    # Check if the new position is within the bounds of the hyperparameter space\n",
        "      if X1 < k_values[0]:\n",
        "        X1 = k_values[0]\n",
        "      elif X1 > k_values[-1]:\n",
        "        X1 = k_values[-1]\n",
        "\n",
        "      if X2 < distance_metric_values[0]:\n",
        "        X2 = distance_metric_values[0]\n",
        "      elif X2 > distance_metric_values[-1]:\n",
        "        X2 = distance_metric_values[-1]\n",
        "\n",
        "      if X3 < weighting_method_values[0]:\n",
        "        X3 = weighting_method_values[0]\n",
        "      elif X3 > weighting_method_values[-1]:\n",
        "        X3 = weighting_method_values[-1]\n",
        "\n",
        "      if X4 < algorithm_values[0]:\n",
        "        X4 = algorithm_values[0]\n",
        "      elif X4 > algorithm_values[-1]:\n",
        "        X4 = algorithm_values[-1]\n",
        "\n",
        "      if X5 < leaf_size_values[0]:\n",
        "        X5 = leaf_size_values[0]\n",
        "      elif X5 > leaf_size_values[-1]:\n",
        "        X5 = leaf_size_values[-1]\n",
        "\n",
        "\n",
        "      whale[0] = X1\n",
        "      whale[1] = X2\n",
        "      whale[2] = X3\n",
        "      whale[3] = X4\n",
        "      whale[4] = X5\n",
        "\n",
        "    # Update the leader whale\n",
        "    leader_index = fitness.index(max(fitness))\n",
        "    leader = population[leader_index]\n",
        "  # Return the hyperparameters of the leader whale as the optimal set of hyperparameters for the KNN algorithm\n",
        "  optimal_hyperparameters = leader\n",
        "  optimal_metric = distance_metric_map[round(optimal_hyperparameters[1])]\n",
        "  optimal_weights = weighting_method_map[optimal_hyperparameters[2]]\n",
        "  optimal_algorithm = algorithm_map[optimal_hyperparameters[3]]\n",
        "\n",
        "  for _ in range(0, 50):\n",
        "\n",
        "      feature_indexes = random.sample(range(0,85), 10)\n",
        "      X = data.iloc[:,feature_indexes]\n",
        "      y = data.iloc[:,88]\n",
        "      X_train, X_test, y_train, y_test = train_test_split(X, y, test_size = 0.2, random_state = 42)\n",
        "  # Train the KNN algorithm using the optimal hyperparameters\n",
        "      knn = KNeighborsClassifier(n_neighbors=int(optimal_hyperparameters[0]),\n",
        "                             metric=optimal_metric,\n",
        "                             weights=optimal_weights,\n",
        "                             algorithm=optimal_algorithm,\n",
        "                             leaf_size = int(optimal_hyperparameters[4]))\n",
        "      knn.fit(X_train, y_train)\n",
        "\n",
        "  # Calculate the accuracy of the model on the testing set\n",
        "      y_pred = knn.predict(X_test)\n",
        "      knn_accuracy_woa = accuracy_score(y_test, y_pred)\n",
        "      knn_accuracy_list_woa.append(knn_accuracy_woa)\n",
        "      knn_precision_woa = precision_score(y_test,y_pred,average='weighted')\n",
        "      knn_precision_list_woa.append(knn_precision_woa)\n",
        "      knn_recall_woa = recall_score(y_test,y_pred, average='weighted')\n",
        "      knn_recall_list_woa.append(knn_recall_woa)\n",
        "  print(f\"Optimal hyperparameters: k={optimal_hyperparameters[0]}, distance metric={optimal_metric}, weighting method={optimal_weights}, algorithm={optimal_algorithm}, leaf_size={optimal_hyperparameters[4]}\")\n"
      ],
      "metadata": {
        "colab": {
          "base_uri": "https://localhost:8080/"
        },
        "id": "zZY-DqphQRv-",
        "outputId": "8b8427f2-fca6-4ff8-81e7-2223d5276a83"
      },
      "execution_count": null,
      "outputs": [
        {
          "output_type": "stream",
          "name": "stderr",
          "text": [
            "/usr/local/lib/python3.10/dist-packages/sklearn/metrics/_classification.py:1344: UndefinedMetricWarning: Precision is ill-defined and being set to 0.0 in labels with no predicted samples. Use `zero_division` parameter to control this behavior.\n",
            "  _warn_prf(average, modifier, msg_start, len(result))\n",
            "/usr/local/lib/python3.10/dist-packages/sklearn/metrics/_classification.py:1344: UndefinedMetricWarning: Precision is ill-defined and being set to 0.0 in labels with no predicted samples. Use `zero_division` parameter to control this behavior.\n",
            "  _warn_prf(average, modifier, msg_start, len(result))\n",
            "/usr/local/lib/python3.10/dist-packages/sklearn/metrics/_classification.py:1344: UndefinedMetricWarning: Precision is ill-defined and being set to 0.0 in labels with no predicted samples. Use `zero_division` parameter to control this behavior.\n",
            "  _warn_prf(average, modifier, msg_start, len(result))\n",
            "/usr/local/lib/python3.10/dist-packages/sklearn/metrics/_classification.py:1344: UndefinedMetricWarning: Precision is ill-defined and being set to 0.0 in labels with no predicted samples. Use `zero_division` parameter to control this behavior.\n",
            "  _warn_prf(average, modifier, msg_start, len(result))\n",
            "/usr/local/lib/python3.10/dist-packages/sklearn/metrics/_classification.py:1344: UndefinedMetricWarning: Precision is ill-defined and being set to 0.0 in labels with no predicted samples. Use `zero_division` parameter to control this behavior.\n",
            "  _warn_prf(average, modifier, msg_start, len(result))\n",
            "/usr/local/lib/python3.10/dist-packages/sklearn/metrics/_classification.py:1344: UndefinedMetricWarning: Precision is ill-defined and being set to 0.0 in labels with no predicted samples. Use `zero_division` parameter to control this behavior.\n",
            "  _warn_prf(average, modifier, msg_start, len(result))\n",
            "/usr/local/lib/python3.10/dist-packages/sklearn/metrics/_classification.py:1344: UndefinedMetricWarning: Precision is ill-defined and being set to 0.0 in labels with no predicted samples. Use `zero_division` parameter to control this behavior.\n",
            "  _warn_prf(average, modifier, msg_start, len(result))\n",
            "/usr/local/lib/python3.10/dist-packages/sklearn/metrics/_classification.py:1344: UndefinedMetricWarning: Precision is ill-defined and being set to 0.0 in labels with no predicted samples. Use `zero_division` parameter to control this behavior.\n",
            "  _warn_prf(average, modifier, msg_start, len(result))\n",
            "/usr/local/lib/python3.10/dist-packages/sklearn/metrics/_classification.py:1344: UndefinedMetricWarning: Precision is ill-defined and being set to 0.0 in labels with no predicted samples. Use `zero_division` parameter to control this behavior.\n",
            "  _warn_prf(average, modifier, msg_start, len(result))\n",
            "/usr/local/lib/python3.10/dist-packages/sklearn/metrics/_classification.py:1344: UndefinedMetricWarning: Precision is ill-defined and being set to 0.0 in labels with no predicted samples. Use `zero_division` parameter to control this behavior.\n",
            "  _warn_prf(average, modifier, msg_start, len(result))\n",
            "/usr/local/lib/python3.10/dist-packages/sklearn/metrics/_classification.py:1344: UndefinedMetricWarning: Precision is ill-defined and being set to 0.0 in labels with no predicted samples. Use `zero_division` parameter to control this behavior.\n",
            "  _warn_prf(average, modifier, msg_start, len(result))\n",
            "/usr/local/lib/python3.10/dist-packages/sklearn/metrics/_classification.py:1344: UndefinedMetricWarning: Precision is ill-defined and being set to 0.0 in labels with no predicted samples. Use `zero_division` parameter to control this behavior.\n",
            "  _warn_prf(average, modifier, msg_start, len(result))\n",
            "/usr/local/lib/python3.10/dist-packages/sklearn/metrics/_classification.py:1344: UndefinedMetricWarning: Precision is ill-defined and being set to 0.0 in labels with no predicted samples. Use `zero_division` parameter to control this behavior.\n",
            "  _warn_prf(average, modifier, msg_start, len(result))\n",
            "/usr/local/lib/python3.10/dist-packages/sklearn/metrics/_classification.py:1344: UndefinedMetricWarning: Precision is ill-defined and being set to 0.0 in labels with no predicted samples. Use `zero_division` parameter to control this behavior.\n",
            "  _warn_prf(average, modifier, msg_start, len(result))\n",
            "/usr/local/lib/python3.10/dist-packages/sklearn/metrics/_classification.py:1344: UndefinedMetricWarning: Precision is ill-defined and being set to 0.0 in labels with no predicted samples. Use `zero_division` parameter to control this behavior.\n",
            "  _warn_prf(average, modifier, msg_start, len(result))\n",
            "/usr/local/lib/python3.10/dist-packages/sklearn/metrics/_classification.py:1344: UndefinedMetricWarning: Precision is ill-defined and being set to 0.0 in labels with no predicted samples. Use `zero_division` parameter to control this behavior.\n",
            "  _warn_prf(average, modifier, msg_start, len(result))\n",
            "/usr/local/lib/python3.10/dist-packages/sklearn/metrics/_classification.py:1344: UndefinedMetricWarning: Precision is ill-defined and being set to 0.0 in labels with no predicted samples. Use `zero_division` parameter to control this behavior.\n",
            "  _warn_prf(average, modifier, msg_start, len(result))\n",
            "/usr/local/lib/python3.10/dist-packages/sklearn/metrics/_classification.py:1344: UndefinedMetricWarning: Precision is ill-defined and being set to 0.0 in labels with no predicted samples. Use `zero_division` parameter to control this behavior.\n",
            "  _warn_prf(average, modifier, msg_start, len(result))\n",
            "/usr/local/lib/python3.10/dist-packages/sklearn/metrics/_classification.py:1344: UndefinedMetricWarning: Precision is ill-defined and being set to 0.0 in labels with no predicted samples. Use `zero_division` parameter to control this behavior.\n",
            "  _warn_prf(average, modifier, msg_start, len(result))\n",
            "/usr/local/lib/python3.10/dist-packages/sklearn/metrics/_classification.py:1344: UndefinedMetricWarning: Precision is ill-defined and being set to 0.0 in labels with no predicted samples. Use `zero_division` parameter to control this behavior.\n",
            "  _warn_prf(average, modifier, msg_start, len(result))\n",
            "/usr/local/lib/python3.10/dist-packages/sklearn/metrics/_classification.py:1344: UndefinedMetricWarning: Precision is ill-defined and being set to 0.0 in labels with no predicted samples. Use `zero_division` parameter to control this behavior.\n",
            "  _warn_prf(average, modifier, msg_start, len(result))\n"
          ]
        },
        {
          "output_type": "stream",
          "name": "stdout",
          "text": [
            "Optimal hyperparameters: k=1.7056134775809189, distance metric=euclidean, weighting method=uniform, algorithm=brute, leaf_size=17.056134775809188\n"
          ]
        },
        {
          "output_type": "stream",
          "name": "stderr",
          "text": [
            "/usr/local/lib/python3.10/dist-packages/sklearn/metrics/_classification.py:1344: UndefinedMetricWarning: Precision is ill-defined and being set to 0.0 in labels with no predicted samples. Use `zero_division` parameter to control this behavior.\n",
            "  _warn_prf(average, modifier, msg_start, len(result))\n"
          ]
        }
      ]
    },
    {
      "cell_type": "code",
      "source": [
        "knn_accuracy_mean_woa = np.mean(knn_accuracy_list_woa)\n",
        "knn_accuracy_std_woa = np.std(knn_accuracy_list_woa)\n",
        "knn_accuracy_max_woa = np.max(knn_accuracy_list_woa)\n",
        "knn_accuracy_min_woa = np.min(knn_accuracy_list_woa)\n",
        "\n",
        "knn_precision_mean_woa = np.mean(knn_precision_list_woa)\n",
        "knn_precision_std_woa = np.std(knn_precision_list_woa)\n",
        "knn_precision_max_woa = np.max(knn_precision_list_woa)\n",
        "knn_precision_min_woa = np.min(knn_precision_list_woa)\n",
        "\n",
        "knn_recall_mean_woa = np.mean(knn_recall_list_woa)\n",
        "knn_recall_std_woa = np.std(knn_recall_list_woa)\n",
        "knn_recall_max_woa = np.max(knn_recall_list_woa)\n",
        "knn_recall_min_woa = np.min(knn_recall_list_woa)\n"
      ],
      "metadata": {
        "id": "muKoSl2IW0SV"
      },
      "execution_count": null,
      "outputs": []
    },
    {
      "cell_type": "code",
      "source": [
        "import matplotlib.pyplot as plt"
      ],
      "metadata": {
        "id": "FYW785RY-jXB"
      },
      "execution_count": null,
      "outputs": []
    },
    {
      "cell_type": "code",
      "source": [
        "print(knn_accuracy_mean_woa)\n",
        "print(knn_precision_mean_woa)\n",
        "print(knn_recall_mean_woa)"
      ],
      "metadata": {
        "id": "CfBW5TLY-mKo",
        "colab": {
          "base_uri": "https://localhost:8080/"
        },
        "outputId": "8cef9d54-8bf4-41e9-815c-2c96d8fe8064"
      },
      "execution_count": null,
      "outputs": [
        {
          "output_type": "stream",
          "name": "stdout",
          "text": [
            "0.8776276771004943\n",
            "0.8650262220874048\n",
            "0.8776276771004943\n"
          ]
        }
      ]
    },
    {
      "cell_type": "code",
      "source": [
        "print(knn_accuracy_max_woa)\n",
        "print(knn_accuracy_min_woa)\n",
        "print(knn_accuracy_std_woa)"
      ],
      "metadata": {
        "colab": {
          "base_uri": "https://localhost:8080/"
        },
        "id": "vT7MR21D8gT7",
        "outputId": "e18eff6c-07fe-41e1-8b3a-f2ed973cc325"
      },
      "execution_count": null,
      "outputs": [
        {
          "output_type": "stream",
          "name": "stdout",
          "text": [
            "0.9950576606260296\n",
            "0.6672158154859967\n",
            "0.08390795285893633\n"
          ]
        }
      ]
    },
    {
      "cell_type": "code",
      "source": [
        "print(knn_precision_max_woa)\n",
        "print(knn_precision_min_woa)\n",
        "print(knn_precision_std_woa)"
      ],
      "metadata": {
        "colab": {
          "base_uri": "https://localhost:8080/"
        },
        "id": "rkgVusyZ8jsX",
        "outputId": "c6b41178-1711-4cc0-f253-1b3c7c106b8d"
      },
      "execution_count": null,
      "outputs": [
        {
          "output_type": "stream",
          "name": "stdout",
          "text": [
            "0.9951235584843492\n",
            "0.6068531201607497\n",
            "0.09689935515553581\n"
          ]
        }
      ]
    },
    {
      "cell_type": "code",
      "source": [
        "print(knn_recall_max_woa)\n",
        "print(knn_recall_min_woa)\n",
        "print(knn_recall_std_woa)"
      ],
      "metadata": {
        "colab": {
          "base_uri": "https://localhost:8080/"
        },
        "id": "ItJk-1vp8jlC",
        "outputId": "9ff45716-2c41-48da-b32f-bb034ce8ddf5"
      },
      "execution_count": null,
      "outputs": [
        {
          "output_type": "stream",
          "name": "stdout",
          "text": [
            "0.9950576606260296\n",
            "0.6672158154859967\n",
            "0.08390795285893633\n"
          ]
        }
      ]
    },
    {
      "cell_type": "markdown",
      "source": [
        "RANDOM FOREST"
      ],
      "metadata": {
        "id": "ACtRTmuJ-n9L"
      }
    },
    {
      "cell_type": "code",
      "source": [
        "randfrst_accuracy_list_woa = []\n",
        "randfrst_precision_list_woa = []\n",
        "randfrst_recall_list_woa = []"
      ],
      "metadata": {
        "id": "xSOlFRT1-m_Z"
      },
      "execution_count": null,
      "outputs": []
    },
    {
      "cell_type": "code",
      "source": [
        "# Define a map from integer values to criterion options\n",
        "criterion_map = {\n",
        "     0: \"gini\",\n",
        "     1: \"entropy\",\n",
        "     2: \"log_loss\"\n",
        " }\n",
        "\n",
        "# # Define a map from integer values to feature importance calculation methods\n",
        "min_samples_split_map = {\n",
        "     0: 2,\n",
        "     1: 5,\n",
        "     2: 10\n",
        " }\n",
        "\n",
        "max_features_map = {\n",
        "    0: \"sqrt\",\n",
        "    1: \"log2\"\n",
        "}\n",
        "\n",
        "# # Define the hyperparameter space for the Random Forest algorithm\n",
        "n_estimators_values = [10, 50, 100, 200, 500]\n",
        "max_depth_values = [5, 10, 20]\n",
        "criterion_values = [0, 1, 2]\n",
        "min_samples_split_values = [0, 1, 2]\n",
        "min_samples_leaf_values = [1, 2, 3, 4, 5]\n",
        "max_features_values = [0, 1]\n"
      ],
      "metadata": {
        "id": "qA1w12EV-sK6"
      },
      "execution_count": null,
      "outputs": []
    },
    {
      "cell_type": "code",
      "source": [
        "with tf.device(\"/gpu:0\"):\n",
        "\n",
        "# Define a function to evaluate the fitness of a set of hyperparameters\n",
        "  def evaluate_fitness(hyperparameters):\n",
        "    n_estim = hyperparameters[0]\n",
        "    maxdepth = hyperparameters[1]\n",
        "    criterion_val = round(hyperparameters[2])\n",
        "    min_ssv = round(hyperparameters[3])\n",
        "    min_sl = hyperparameters[4]\n",
        "    max_fv = round(hyperparameters[5])\n",
        "\n",
        "    # Train the KNN algorithm using the hyperparameters\n",
        "    rf = RandomForestClassifier(n_estimators=int(n_estim), max_depth=int(maxdepth),\n",
        "                               criterion=criterion_map[criterion_val],\n",
        "                               min_samples_split=min_samples_split_map[min_ssv],\n",
        "                                min_samples_leaf=int(min_sl),\n",
        "                                max_features=max_features_map[max_fv]\n",
        "                                )\n",
        "    rf.fit(X_train, y_train)\n",
        "    # Calculate the accuracy of the model on the testing set\n",
        "    y_pred = rf.predict(X_test)\n",
        "    score = accuracy_score(y_test, y_pred)\n",
        "    return score\n",
        "\n",
        "  # Initialize the population of whales\n",
        "  num_whales = 50\n",
        "  population = []\n",
        "  num_jobs = -1\n",
        "  for i in range(num_whales):\n",
        "    # random.seed(41)\n",
        "    hyperparameters = [np.random.choice(n_estimators_values), np.random.choice(max_depth_values),\n",
        "                       np.random.choice(criterion_values),\n",
        "                       np.random.choice(min_samples_split_values),\n",
        "                       np.random.choice(min_samples_leaf_values),\n",
        "                       np.random.choice(max_features_values)\n",
        "                       ]\n",
        "    population.append(hyperparameters)\n",
        "\n",
        "  # Set the number of iterations for the WOA algorithm\n",
        "  num_iterations = 10\n",
        "\n",
        "  # Iterate through the WOA algorithm loop\n",
        "  # for i in range(num_iterations):\n",
        "  #   # Evaluate the fitness of each whale\n",
        "  #   fitness = []\n",
        "  #   for whale in population:\n",
        "  #     fitness.append(evaluate_fitness(whale))\n",
        "\n",
        "  for i in range(num_iterations):\n",
        "    # Evaluate the fitness of each particle\n",
        "    fitness = Parallel(n_jobs=num_jobs)(\n",
        "        delayed(evaluate_fitness)(whale) for whale in population\n",
        "    )\n",
        "\n",
        "    # Update the position of each whale\n",
        "    a = 2 - i*(2/num_iterations) # Update the a parameter for the update formula\n",
        "    for j, whale in enumerate(population):\n",
        "      r1 = np.random.uniform(0, 1)\n",
        "      r2 = np.random.uniform(0, 1)\n",
        "      A = 2*a*r1 - a\n",
        "      C = 2*r2\n",
        "      l = (a*C) - abs(A)\n",
        "      p = l if l > 0 else 0\n",
        "      D_n = abs(C*whale[0] - population[j][0])\n",
        "      D_maxdepth = abs(C*whale[1] - population[j][1])\n",
        "      D_criterion = abs(C*whale[2]-population[j][2])\n",
        "      D_minssv = abs(C*whale[3]-population[j][3])\n",
        "      D_minslv = abs(C*whale[4]-population[j][4])\n",
        "      D_maxfv = abs(C*whale[5]-population[j][5])\n",
        "\n",
        "      X1 = population[j][0] - A*D_n\n",
        "      X2 = population[j][1] - A*D_maxdepth\n",
        "      X3 = population[j][2] - A*D_criterion\n",
        "      X4 = population[j][3] - A*D_minssv\n",
        "      X5 = population[j][4] - A*D_minslv\n",
        "      X6 = population[j][5] - A*D_maxfv\n",
        "\n",
        "      v_n = X1\n",
        "      v_maxdepth = X2\n",
        "      v_criterion = X3\n",
        "      v_minssv = X4\n",
        "      v_minslv = X5\n",
        "      v_maxfv = X6\n",
        "\n",
        "    # Check if the new position is within the bounds of the hyperparameter space\n",
        "      if X1 < n_estimators_values[0]:\n",
        "        X1 = n_estimators_values[0]\n",
        "      elif X1 > n_estimators_values[-1]:\n",
        "        X1 = n_estimators_values[-1]\n",
        "\n",
        "      if X2 < max_depth_values[0]:\n",
        "        X2 = max_depth_values[0]\n",
        "      elif X2 > max_depth_values[-1]:\n",
        "        X2 = max_depth_values[-1]\n",
        "\n",
        "      if X3 < criterion_values[0]:\n",
        "        X3 = criterion_values[0]\n",
        "      elif X3 > criterion_values[-1]:\n",
        "        X3 = criterion_values[-1]\n",
        "\n",
        "      if X4 < min_samples_split_values[0]:\n",
        "        X4 = min_samples_split_values[0]\n",
        "      elif X4 > min_samples_split_values[-1]:\n",
        "        X4 = min_samples_split_values[-1]\n",
        "\n",
        "      if X5 < min_samples_leaf_values[0]:\n",
        "        X5 = min_samples_leaf_values[0]\n",
        "      elif X5 > min_samples_leaf_values[-1]:\n",
        "        X5 = min_samples_leaf_values[-1]\n",
        "\n",
        "      if X6 < max_features_values[0]:\n",
        "        X6 = max_features_values[0]\n",
        "      elif X6 > max_features_values[-1]:\n",
        "        X6 = max_features_values[-1]\n",
        "\n",
        "\n",
        "      whale[0] = X1\n",
        "      whale[1] = X2\n",
        "      whale[2] = X3\n",
        "      whale[3] = X4\n",
        "      whale[4] = X5\n",
        "      whale[5] = X6\n",
        "\n",
        "    # Update the leader whale\n",
        "    leader_index = fitness.index(max(fitness))\n",
        "    leader = population[leader_index]\n",
        "  # Return the hyperparameters of the leader whale as the optimal set of hyperparameters for the KNN algorithm\n",
        "  optimal_hyperparameters = leader\n",
        "  optimal_criterion = criterion_map[round(optimal_hyperparameters[2])]\n",
        "  optimal_minsamplesplit = min_samples_split_map[round(optimal_hyperparameters[3])]\n",
        "  optimal_maxfeatures = max_features_map[round(optimal_hyperparameters[5])]\n",
        "\n",
        "  for _ in range(0, 50):\n",
        "\n",
        "    # random.seed(41)\n",
        "\n",
        "    feature_indexes = random.sample(range(0,85), 10)\n",
        "    X = data.iloc[:,feature_indexes]\n",
        "    y = data.iloc[:,88]\n",
        "    X_train, X_test, y_train, y_test = train_test_split(X, y, test_size = 0.2, random_state = 42)\n",
        "    rf = RandomForestClassifier(n_estimators=int(optimal_hyperparameters[0]),\n",
        "                                max_depth = int(optimal_hyperparameters[1]),\n",
        "                                criterion=optimal_criterion,\n",
        "                                min_samples_split=optimal_minsamplesplit,\n",
        "                                min_samples_leaf=int(optimal_hyperparameters[4]),\n",
        "                                max_features=optimal_maxfeatures)\n",
        "\n",
        "    rf.fit(X_train, y_train)\n",
        "    y_pred = rf.predict(X_test)\n",
        "    rf_accuracy = accuracy_score(y_test, y_pred)\n",
        "    randfrst_accuracy_list_woa.append(rf_accuracy)\n",
        "    rf_precision = precision_score(y_test,y_pred,average='weighted')\n",
        "    randfrst_precision_list_woa.append(rf_precision)\n",
        "    rf_recall = recall_score(y_test,y_pred, average='weighted')\n",
        "    randfrst_recall_list_woa.append(rf_recall)\n",
        "  print(f\"Optimal hyperparameters: n={optimal_hyperparameters[0]}, max_depth={optimal_hyperparameters[1]}, criterion={optimal_criterion}, min_samples_split={optimal_minsamplesplit}, min_samples_leaf={optimal_hyperparameters[4]}, max_features={optimal_maxfeatures}\")\n"
      ],
      "metadata": {
        "id": "k94DK7Gn-uIr",
        "colab": {
          "base_uri": "https://localhost:8080/"
        },
        "outputId": "80e49068-9160-4d02-b282-22eecf77407a"
      },
      "execution_count": null,
      "outputs": [
        {
          "output_type": "stream",
          "name": "stderr",
          "text": [
            "/usr/local/lib/python3.10/dist-packages/sklearn/metrics/_classification.py:1344: UndefinedMetricWarning: Precision is ill-defined and being set to 0.0 in labels with no predicted samples. Use `zero_division` parameter to control this behavior.\n",
            "  _warn_prf(average, modifier, msg_start, len(result))\n",
            "/usr/local/lib/python3.10/dist-packages/sklearn/metrics/_classification.py:1344: UndefinedMetricWarning: Precision is ill-defined and being set to 0.0 in labels with no predicted samples. Use `zero_division` parameter to control this behavior.\n",
            "  _warn_prf(average, modifier, msg_start, len(result))\n",
            "/usr/local/lib/python3.10/dist-packages/sklearn/metrics/_classification.py:1344: UndefinedMetricWarning: Precision is ill-defined and being set to 0.0 in labels with no predicted samples. Use `zero_division` parameter to control this behavior.\n",
            "  _warn_prf(average, modifier, msg_start, len(result))\n",
            "/usr/local/lib/python3.10/dist-packages/sklearn/metrics/_classification.py:1344: UndefinedMetricWarning: Precision is ill-defined and being set to 0.0 in labels with no predicted samples. Use `zero_division` parameter to control this behavior.\n",
            "  _warn_prf(average, modifier, msg_start, len(result))\n",
            "/usr/local/lib/python3.10/dist-packages/sklearn/metrics/_classification.py:1344: UndefinedMetricWarning: Precision is ill-defined and being set to 0.0 in labels with no predicted samples. Use `zero_division` parameter to control this behavior.\n",
            "  _warn_prf(average, modifier, msg_start, len(result))\n",
            "/usr/local/lib/python3.10/dist-packages/sklearn/metrics/_classification.py:1344: UndefinedMetricWarning: Precision is ill-defined and being set to 0.0 in labels with no predicted samples. Use `zero_division` parameter to control this behavior.\n",
            "  _warn_prf(average, modifier, msg_start, len(result))\n",
            "/usr/local/lib/python3.10/dist-packages/sklearn/metrics/_classification.py:1344: UndefinedMetricWarning: Precision is ill-defined and being set to 0.0 in labels with no predicted samples. Use `zero_division` parameter to control this behavior.\n",
            "  _warn_prf(average, modifier, msg_start, len(result))\n",
            "/usr/local/lib/python3.10/dist-packages/sklearn/metrics/_classification.py:1344: UndefinedMetricWarning: Precision is ill-defined and being set to 0.0 in labels with no predicted samples. Use `zero_division` parameter to control this behavior.\n",
            "  _warn_prf(average, modifier, msg_start, len(result))\n",
            "/usr/local/lib/python3.10/dist-packages/sklearn/metrics/_classification.py:1344: UndefinedMetricWarning: Precision is ill-defined and being set to 0.0 in labels with no predicted samples. Use `zero_division` parameter to control this behavior.\n",
            "  _warn_prf(average, modifier, msg_start, len(result))\n",
            "/usr/local/lib/python3.10/dist-packages/sklearn/metrics/_classification.py:1344: UndefinedMetricWarning: Precision is ill-defined and being set to 0.0 in labels with no predicted samples. Use `zero_division` parameter to control this behavior.\n",
            "  _warn_prf(average, modifier, msg_start, len(result))\n",
            "/usr/local/lib/python3.10/dist-packages/sklearn/metrics/_classification.py:1344: UndefinedMetricWarning: Precision is ill-defined and being set to 0.0 in labels with no predicted samples. Use `zero_division` parameter to control this behavior.\n",
            "  _warn_prf(average, modifier, msg_start, len(result))\n",
            "/usr/local/lib/python3.10/dist-packages/sklearn/metrics/_classification.py:1344: UndefinedMetricWarning: Precision is ill-defined and being set to 0.0 in labels with no predicted samples. Use `zero_division` parameter to control this behavior.\n",
            "  _warn_prf(average, modifier, msg_start, len(result))\n",
            "/usr/local/lib/python3.10/dist-packages/sklearn/metrics/_classification.py:1344: UndefinedMetricWarning: Precision is ill-defined and being set to 0.0 in labels with no predicted samples. Use `zero_division` parameter to control this behavior.\n",
            "  _warn_prf(average, modifier, msg_start, len(result))\n",
            "/usr/local/lib/python3.10/dist-packages/sklearn/metrics/_classification.py:1344: UndefinedMetricWarning: Precision is ill-defined and being set to 0.0 in labels with no predicted samples. Use `zero_division` parameter to control this behavior.\n",
            "  _warn_prf(average, modifier, msg_start, len(result))\n",
            "/usr/local/lib/python3.10/dist-packages/sklearn/metrics/_classification.py:1344: UndefinedMetricWarning: Precision is ill-defined and being set to 0.0 in labels with no predicted samples. Use `zero_division` parameter to control this behavior.\n",
            "  _warn_prf(average, modifier, msg_start, len(result))\n",
            "/usr/local/lib/python3.10/dist-packages/sklearn/metrics/_classification.py:1344: UndefinedMetricWarning: Precision is ill-defined and being set to 0.0 in labels with no predicted samples. Use `zero_division` parameter to control this behavior.\n",
            "  _warn_prf(average, modifier, msg_start, len(result))\n",
            "/usr/local/lib/python3.10/dist-packages/sklearn/metrics/_classification.py:1344: UndefinedMetricWarning: Precision is ill-defined and being set to 0.0 in labels with no predicted samples. Use `zero_division` parameter to control this behavior.\n",
            "  _warn_prf(average, modifier, msg_start, len(result))\n",
            "/usr/local/lib/python3.10/dist-packages/sklearn/metrics/_classification.py:1344: UndefinedMetricWarning: Precision is ill-defined and being set to 0.0 in labels with no predicted samples. Use `zero_division` parameter to control this behavior.\n",
            "  _warn_prf(average, modifier, msg_start, len(result))\n"
          ]
        },
        {
          "output_type": "stream",
          "name": "stdout",
          "text": [
            "Optimal hyperparameters: n=62.93543262531424, max_depth=14.220992830077035, criterion=entropy, min_samples_split=5, min_samples_leaf=2.844198566015407, max_features=log2\n"
          ]
        },
        {
          "output_type": "stream",
          "name": "stderr",
          "text": [
            "/usr/local/lib/python3.10/dist-packages/sklearn/metrics/_classification.py:1344: UndefinedMetricWarning: Precision is ill-defined and being set to 0.0 in labels with no predicted samples. Use `zero_division` parameter to control this behavior.\n",
            "  _warn_prf(average, modifier, msg_start, len(result))\n"
          ]
        }
      ]
    },
    {
      "cell_type": "code",
      "source": [
        "randfrst_accuracy_mean_woa = np.mean(randfrst_accuracy_list_woa)\n",
        "randfrst_accuracy_std_woa = np.std(randfrst_accuracy_list_woa)\n",
        "randfrst_accuracy_max_woa = np.max(randfrst_accuracy_list_woa)\n",
        "randfrst_accuracy_min_woa = np.min(randfrst_accuracy_list_woa)\n",
        "\n",
        "randfrst_precision_mean_woa = np.mean(randfrst_precision_list_woa)\n",
        "randfrst_precision_std_woa = np.std(randfrst_precision_list_woa)\n",
        "randfrst_precision_max_woa = np.max(randfrst_precision_list_woa)\n",
        "randfrst_precision_min_woa = np.min(randfrst_precision_list_woa)\n",
        "\n",
        "randfrst_recall_mean_woa = np.mean(randfrst_recall_list_woa)\n",
        "randfrst_recall_std_woa = np.std(randfrst_recall_list_woa)\n",
        "randfrst_recall_max_woa = np.max(randfrst_recall_list_woa)\n",
        "randfrst_recall_min_woa = np.min(randfrst_recall_list_woa)"
      ],
      "metadata": {
        "id": "YALVBpiJAWpZ"
      },
      "execution_count": null,
      "outputs": []
    },
    {
      "cell_type": "code",
      "source": [
        "print(randfrst_accuracy_mean_woa)\n",
        "print(randfrst_precision_mean_woa)\n",
        "print(randfrst_recall_mean_woa)"
      ],
      "metadata": {
        "id": "Tz5yPA9QAjch",
        "colab": {
          "base_uri": "https://localhost:8080/"
        },
        "outputId": "e461cd73-26be-4e17-f61b-552f37e9094e"
      },
      "execution_count": null,
      "outputs": [
        {
          "output_type": "stream",
          "name": "stdout",
          "text": [
            "0.9032289950576606\n",
            "0.8898127660799612\n",
            "0.9032289950576606\n"
          ]
        }
      ]
    },
    {
      "cell_type": "code",
      "source": [
        "print(randfrst_accuracy_max_woa)\n",
        "print(randfrst_accuracy_min_woa)\n",
        "print(randfrst_accuracy_std_woa)"
      ],
      "metadata": {
        "colab": {
          "base_uri": "https://localhost:8080/"
        },
        "id": "Mz4LZnT18yiM",
        "outputId": "7a1e7285-58e3-4b7b-d4cd-93fa45e40721"
      },
      "execution_count": null,
      "outputs": [
        {
          "output_type": "stream",
          "name": "stdout",
          "text": [
            "0.9934102141680395\n",
            "0.7034596375617792\n",
            "0.07401477331575557\n"
          ]
        }
      ]
    },
    {
      "cell_type": "code",
      "source": [
        "print(randfrst_precision_max_woa)\n",
        "print(randfrst_precision_min_woa)\n",
        "print(randfrst_precision_std_woa)"
      ],
      "metadata": {
        "colab": {
          "base_uri": "https://localhost:8080/"
        },
        "id": "9n0P8qJC8yiN",
        "outputId": "6bae4c4b-438e-4cc2-c139-e91abf380774"
      },
      "execution_count": null,
      "outputs": [
        {
          "output_type": "stream",
          "name": "stdout",
          "text": [
            "0.9944240273729565\n",
            "0.653313660499318\n",
            "0.09075977241292128\n"
          ]
        }
      ]
    },
    {
      "cell_type": "code",
      "source": [
        "print(randfrst_recall_max_woa)\n",
        "print(randfrst_recall_min_woa)\n",
        "print(randfrst_recall_std_woa)"
      ],
      "metadata": {
        "colab": {
          "base_uri": "https://localhost:8080/"
        },
        "id": "rLAhn1z18yiN",
        "outputId": "9717ccd0-f786-4160-85ec-d89490d63681"
      },
      "execution_count": null,
      "outputs": [
        {
          "output_type": "stream",
          "name": "stdout",
          "text": [
            "0.9934102141680395\n",
            "0.7034596375617792\n",
            "0.07401477331575557\n"
          ]
        }
      ]
    },
    {
      "cell_type": "markdown",
      "source": [
        "DECISION TREES"
      ],
      "metadata": {
        "id": "RSG4r-S4ApqZ"
      }
    },
    {
      "cell_type": "code",
      "source": [
        "dt_accuracy_list_woa = []\n",
        "dt_precision_list_woa = []\n",
        "dt_recall_list_woa = []"
      ],
      "metadata": {
        "id": "FPzr6d8bAl9h"
      },
      "execution_count": null,
      "outputs": []
    },
    {
      "cell_type": "code",
      "source": [
        "# Define a map from integer values to criterion options\n",
        "criterion_map = {\n",
        "     0: \"gini\",\n",
        "     1: \"entropy\",\n",
        "     2: \"log_loss\"\n",
        " }\n",
        "\n",
        "splitter_map = {\n",
        "    0: \"best\",\n",
        "    1: \"random\"\n",
        "}\n",
        "# # Define a map from integer values to feature importance calculation methods\n",
        "min_samples_split_map = {\n",
        "     0: 2,\n",
        "     1: 5,\n",
        "     2: 10\n",
        " }\n",
        "\n",
        "max_features_map = {\n",
        "    0: \"sqrt\",\n",
        "    1: \"log2\"\n",
        "}\n",
        "# # Define the hyperparameter space for the Random Forest algorithm\n",
        "splitter_values = [0, 1]\n",
        "max_depth_values = [5, 10, 20]\n",
        "criterion_values = [0, 1, 2]\n",
        "min_samples_split_values = [0, 1, 2]\n",
        "min_samples_leaf_values = [1, 2, 3, 4, 5]\n",
        "max_features_values = [0, 1]"
      ],
      "metadata": {
        "id": "FM-iFiUVAr8i"
      },
      "execution_count": null,
      "outputs": []
    },
    {
      "cell_type": "code",
      "source": [
        "with tf.device(\"/gpu:0\"):\n",
        "\n",
        "# Define a function to evaluate the fitness of a set of hyperparameters\n",
        "  def evaluate_fitness(hyperparameters):\n",
        "    splitter_val = round(hyperparameters[0])\n",
        "    maxdepth = hyperparameters[1]\n",
        "    criterion_val = round(hyperparameters[2])\n",
        "    min_ssv = round(hyperparameters[3])\n",
        "    min_slv = hyperparameters[4]\n",
        "    max_fv = round(hyperparameters[5])\n",
        "\n",
        "    dt = DecisionTreeClassifier(splitter=splitter_map[splitter_val], max_depth=int(maxdepth),\n",
        "                               criterion=criterion_map[criterion_val],\n",
        "                               min_samples_split=min_samples_split_map[min_ssv],\n",
        "                                min_samples_leaf=int(min_slv),\n",
        "                                max_features=max_features_map[max_fv])\n",
        "    dt.fit(X_train, y_train)\n",
        "    # Calculate the accuracy of the model on the testing set\n",
        "    y_pred = dt.predict(X_test)\n",
        "    score = accuracy_score(y_test, y_pred)\n",
        "    return score\n",
        "\n",
        "  # Initialize the population of whales\n",
        "  num_whales = 50\n",
        "  population = []\n",
        "  num_jobs = -1\n",
        "  for i in range(num_whales):\n",
        "    # random.seed(41)\n",
        "    hyperparameters = [np.random.choice(splitter_values), np.random.choice(max_depth_values),\n",
        "                       np.random.choice(criterion_values),\n",
        "                       np.random.choice(min_samples_split_values),\n",
        "                       np.random.choice(min_samples_leaf_values),\n",
        "                       np.random.choice(max_features_values)]\n",
        "    population.append(hyperparameters)\n",
        "\n",
        "  # Set the number of iterations for the WOA algorithm\n",
        "  num_iterations = 100\n",
        "\n",
        "  # Iterate through the WOA algorithm loop\n",
        "  # for i in range(num_iterations):\n",
        "  #   # Evaluate the fitness of each whale\n",
        "  #   fitness = []\n",
        "  #   for whale in population:\n",
        "  #     fitness.append(evaluate_fitness(whale))\n",
        "\n",
        "  for i in range(num_iterations):\n",
        "    # Evaluate the fitness of each particle\n",
        "    fitness = Parallel(n_jobs=num_jobs)(\n",
        "        delayed(evaluate_fitness)(whale) for whale in population\n",
        "    )\n",
        "    # Update the position of each whale\n",
        "    a = 2 - i*(2/num_iterations) # Update the a parameter for the update formula\n",
        "    for j, whale in enumerate(population):\n",
        "      r1 = np.random.uniform(0, 1)\n",
        "      r2 = np.random.uniform(0, 1)\n",
        "      A = 2*a*r1 - a\n",
        "      C = 2*r2\n",
        "      l = (a*C) - abs(A)\n",
        "      p = l if l > 0 else 0\n",
        "      D_split = abs(C*whale[0] - population[j][0])\n",
        "      D_maxdepth = abs(C*whale[1] - population[j][1])\n",
        "      D_criterion = abs(C*whale[2]-population[j][2])\n",
        "      D_minssv = abs(C*whale[3]-population[j][3])\n",
        "      D_minslv = abs(C*whale[4]-population[j][4])\n",
        "      D_maxfv = abs(C*whale[5]-population[j][5])\n",
        "      X1 = population[j][0] - A*D_split\n",
        "      X2 = population[j][1] - A*D_maxdepth\n",
        "      X3 = population[j][2] - A*D_criterion\n",
        "      X4 = population[j][3] - A*D_minssv\n",
        "      X5 = population[j][4] - A*D_minslv\n",
        "      X6 = population[j][5] - A*D_maxfv\n",
        "\n",
        "      v_split = X1\n",
        "      v_maxdepth = X2\n",
        "      v_criterion = X3\n",
        "      v_minssv = X4\n",
        "      v_minslv = X5\n",
        "      v_maxfv = X6\n",
        "\n",
        "    # Check if the new position is within the bounds of the hyperparameter space\n",
        "      if X1 < splitter_values[0]:\n",
        "        X1 = splitter_values[0]\n",
        "      elif X1 > splitter_values[-1]:\n",
        "        X1 = splitter_values[-1]\n",
        "\n",
        "      if X2 < max_depth_values[0]:\n",
        "        X2 = max_depth_values[0]\n",
        "      elif X2 > max_depth_values[-1]:\n",
        "        X2 = max_depth_values[-1]\n",
        "\n",
        "      if X3 < criterion_values[0]:\n",
        "        X3 = criterion_values[0]\n",
        "      elif X3 > criterion_values[-1]:\n",
        "        X3 = criterion_values[-1]\n",
        "\n",
        "      if X4 < min_samples_split_values[0]:\n",
        "        X4 = min_samples_split_values[0]\n",
        "      elif X4 > min_samples_split_values[-1]:\n",
        "        X4 = min_samples_split_values[-1]\n",
        "\n",
        "      if X5 < min_samples_leaf_values[0]:\n",
        "        X5 = min_samples_leaf_values[0]\n",
        "      elif X5 > min_samples_leaf_values[-1]:\n",
        "        X5 = min_samples_leaf_values[-1]\n",
        "\n",
        "      if X6 < max_features_values[0]:\n",
        "        X6 = max_features_values[0]\n",
        "      elif X6 > max_features_values[-1]:\n",
        "        X6 = max_features_values[-1]\n",
        "\n",
        "\n",
        "      whale[0] = X1\n",
        "      whale[1] = X2\n",
        "      whale[2] = X3\n",
        "      whale[3] = X4\n",
        "      whale[4] = X5\n",
        "      whale[5] = X6\n",
        "\n",
        "    # Update the leader whale\n",
        "    leader_index = fitness.index(max(fitness))\n",
        "    leader = population[leader_index]\n",
        "  # Return the hyperparameters of the leader whale as the optimal set of hyperparameters for the KNN algorithm\n",
        "  optimal_hyperparameters = leader\n",
        "  optimal_splitter = splitter_map[round(optimal_hyperparameters[0])]\n",
        "  optimal_criterion = criterion_map[round(optimal_hyperparameters[2])]\n",
        "  optimal_minsamplesplit = min_samples_split_map[round(optimal_hyperparameters[3])]\n",
        "  optimal_maxfeatures = max_features_map[round(optimal_hyperparameters[5])]\n",
        "\n",
        "  for _ in range(0, 50):\n",
        "\n",
        "    # random.seed(41)\n",
        "\n",
        "    feature_indexes = random.sample(range(0,85), 10)\n",
        "    X = data.iloc[:,feature_indexes]\n",
        "    y = data.iloc[:,88]\n",
        "    X_train, X_test, y_train, y_test = train_test_split(X, y, test_size = 0.2, random_state = 42)\n",
        "    dt = DecisionTreeClassifier(splitter=optimal_splitter,\n",
        "                             max_depth = int(optimal_hyperparameters[1]),\n",
        "                              criterion=optimal_criterion,\n",
        "                             min_samples_split=optimal_minsamplesplit,\n",
        "                              min_samples_leaf = int(optimal_hyperparameters[4]),\n",
        "                                max_features=optimal_maxfeatures)\n",
        "\n",
        "    dt.fit(X_train, y_train)\n",
        "    y_pred = dt.predict(X_test)\n",
        "    dt_accuracy = accuracy_score(y_test, y_pred)\n",
        "    dt_accuracy_list_woa.append(dt_accuracy)\n",
        "    dt_precision = precision_score(y_test,y_pred,average='weighted')\n",
        "    dt_precision_list_woa.append(dt_precision)\n",
        "    dt_recall = recall_score(y_test,y_pred, average='weighted')\n",
        "    dt_recall_list_woa.append(dt_recall)\n",
        "\n",
        "  print(f\"Optimal hyperparameters: splitter={optimal_splitter}, max_depth={int(optimal_hyperparameters[1])}, criterion={optimal_criterion}, min_samples_split={optimal_minsamplesplit}, min_samples_leaf = {int(optimal_hyperparameters[4])}, max_features = {optimal_maxfeatures}\")\n",
        "\n"
      ],
      "metadata": {
        "id": "HGWIw-TDxP1d",
        "colab": {
          "base_uri": "https://localhost:8080/"
        },
        "outputId": "a9130d60-bc44-4719-a6c1-89c1c2292a7f"
      },
      "execution_count": null,
      "outputs": [
        {
          "output_type": "stream",
          "name": "stderr",
          "text": [
            "/usr/local/lib/python3.10/dist-packages/sklearn/metrics/_classification.py:1344: UndefinedMetricWarning: Precision is ill-defined and being set to 0.0 in labels with no predicted samples. Use `zero_division` parameter to control this behavior.\n",
            "  _warn_prf(average, modifier, msg_start, len(result))\n",
            "/usr/local/lib/python3.10/dist-packages/sklearn/metrics/_classification.py:1344: UndefinedMetricWarning: Precision is ill-defined and being set to 0.0 in labels with no predicted samples. Use `zero_division` parameter to control this behavior.\n",
            "  _warn_prf(average, modifier, msg_start, len(result))\n",
            "/usr/local/lib/python3.10/dist-packages/sklearn/metrics/_classification.py:1344: UndefinedMetricWarning: Precision is ill-defined and being set to 0.0 in labels with no predicted samples. Use `zero_division` parameter to control this behavior.\n",
            "  _warn_prf(average, modifier, msg_start, len(result))\n",
            "/usr/local/lib/python3.10/dist-packages/sklearn/metrics/_classification.py:1344: UndefinedMetricWarning: Precision is ill-defined and being set to 0.0 in labels with no predicted samples. Use `zero_division` parameter to control this behavior.\n",
            "  _warn_prf(average, modifier, msg_start, len(result))\n",
            "/usr/local/lib/python3.10/dist-packages/sklearn/metrics/_classification.py:1344: UndefinedMetricWarning: Precision is ill-defined and being set to 0.0 in labels with no predicted samples. Use `zero_division` parameter to control this behavior.\n",
            "  _warn_prf(average, modifier, msg_start, len(result))\n",
            "/usr/local/lib/python3.10/dist-packages/sklearn/metrics/_classification.py:1344: UndefinedMetricWarning: Precision is ill-defined and being set to 0.0 in labels with no predicted samples. Use `zero_division` parameter to control this behavior.\n",
            "  _warn_prf(average, modifier, msg_start, len(result))\n",
            "/usr/local/lib/python3.10/dist-packages/sklearn/metrics/_classification.py:1344: UndefinedMetricWarning: Precision is ill-defined and being set to 0.0 in labels with no predicted samples. Use `zero_division` parameter to control this behavior.\n",
            "  _warn_prf(average, modifier, msg_start, len(result))\n",
            "/usr/local/lib/python3.10/dist-packages/sklearn/metrics/_classification.py:1344: UndefinedMetricWarning: Precision is ill-defined and being set to 0.0 in labels with no predicted samples. Use `zero_division` parameter to control this behavior.\n",
            "  _warn_prf(average, modifier, msg_start, len(result))\n",
            "/usr/local/lib/python3.10/dist-packages/sklearn/metrics/_classification.py:1344: UndefinedMetricWarning: Precision is ill-defined and being set to 0.0 in labels with no predicted samples. Use `zero_division` parameter to control this behavior.\n",
            "  _warn_prf(average, modifier, msg_start, len(result))\n",
            "/usr/local/lib/python3.10/dist-packages/sklearn/metrics/_classification.py:1344: UndefinedMetricWarning: Precision is ill-defined and being set to 0.0 in labels with no predicted samples. Use `zero_division` parameter to control this behavior.\n",
            "  _warn_prf(average, modifier, msg_start, len(result))\n",
            "/usr/local/lib/python3.10/dist-packages/sklearn/metrics/_classification.py:1344: UndefinedMetricWarning: Precision is ill-defined and being set to 0.0 in labels with no predicted samples. Use `zero_division` parameter to control this behavior.\n",
            "  _warn_prf(average, modifier, msg_start, len(result))\n"
          ]
        },
        {
          "output_type": "stream",
          "name": "stdout",
          "text": [
            "Optimal hyperparameters: splitter=best, max_depth=18, criterion=gini, min_samples_split=2, min_samples_leaf = 4, max_features = sqrt\n"
          ]
        },
        {
          "output_type": "stream",
          "name": "stderr",
          "text": [
            "/usr/local/lib/python3.10/dist-packages/sklearn/metrics/_classification.py:1344: UndefinedMetricWarning: Precision is ill-defined and being set to 0.0 in labels with no predicted samples. Use `zero_division` parameter to control this behavior.\n",
            "  _warn_prf(average, modifier, msg_start, len(result))\n",
            "/usr/local/lib/python3.10/dist-packages/sklearn/metrics/_classification.py:1344: UndefinedMetricWarning: Precision is ill-defined and being set to 0.0 in labels with no predicted samples. Use `zero_division` parameter to control this behavior.\n",
            "  _warn_prf(average, modifier, msg_start, len(result))\n"
          ]
        }
      ]
    },
    {
      "cell_type": "code",
      "source": [
        "dt_accuracy_mean_woa = np.mean(dt_accuracy_list_woa)\n",
        "dt_accuracy_std_woa = np.std(dt_accuracy_list_woa)\n",
        "dt_accuracy_max_woa = np.max(dt_accuracy_list_woa)\n",
        "dt_accuracy_min_woa = np.min(dt_accuracy_list_woa)\n",
        "\n",
        "dt_precision_mean_woa = np.mean(dt_precision_list_woa)\n",
        "dt_precision_std_woa = np.std(dt_precision_list_woa)\n",
        "dt_precision_max_woa = np.max(dt_precision_list_woa)\n",
        "dt_precision_min_woa = np.min(dt_precision_list_woa)\n",
        "\n",
        "dt_recall_mean_woa = np.mean(dt_recall_list_woa)\n",
        "dt_recall_std_woa = np.std(dt_recall_list_woa)\n",
        "dt_recall_max_woa = np.max(dt_recall_list_woa)\n",
        "dt_recall_min_woa = np.min(dt_recall_list_woa)"
      ],
      "metadata": {
        "id": "o1dB1Cli9EET"
      },
      "execution_count": null,
      "outputs": []
    },
    {
      "cell_type": "code",
      "source": [
        "print(dt_accuracy_mean_woa)\n",
        "print(dt_precision_mean_woa)\n",
        "print(dt_recall_mean_woa)"
      ],
      "metadata": {
        "colab": {
          "base_uri": "https://localhost:8080/"
        },
        "id": "uJMym4D_PfvS",
        "outputId": "cd0076ce-30c9-4066-e114-fcb28dea72fd"
      },
      "execution_count": null,
      "outputs": [
        {
          "output_type": "stream",
          "name": "stdout",
          "text": [
            "0.8897528830313015\n",
            "0.884790579977054\n",
            "0.8897528830313015\n"
          ]
        }
      ]
    },
    {
      "cell_type": "code",
      "source": [
        "print(dt_accuracy_max_woa)\n",
        "print(dt_accuracy_min_woa)\n",
        "print(dt_accuracy_std_woa)"
      ],
      "metadata": {
        "colab": {
          "base_uri": "https://localhost:8080/"
        },
        "id": "G44kYja9Pmmz",
        "outputId": "916ee481-2821-432f-be8b-16ec850837c9"
      },
      "execution_count": null,
      "outputs": [
        {
          "output_type": "stream",
          "name": "stdout",
          "text": [
            "0.9703459637561779\n",
            "0.6441515650741351\n",
            "0.07100004187709266\n"
          ]
        }
      ]
    },
    {
      "cell_type": "code",
      "source": [
        "print(dt_precision_max_woa)\n",
        "print(dt_precision_min_woa)\n",
        "print(dt_precision_std_woa)"
      ],
      "metadata": {
        "colab": {
          "base_uri": "https://localhost:8080/"
        },
        "id": "JYjumOyJPmes",
        "outputId": "c65b4e49-e9c9-46cc-a827-f0b65c0c64fd"
      },
      "execution_count": null,
      "outputs": [
        {
          "output_type": "stream",
          "name": "stdout",
          "text": [
            "0.9718146756131236\n",
            "0.5550431577815281\n",
            "0.08189447059670854\n"
          ]
        }
      ]
    },
    {
      "cell_type": "code",
      "source": [
        "print(dt_recall_max_woa)\n",
        "print(dt_recall_min_woa)\n",
        "print(dt_recall_std_woa)"
      ],
      "metadata": {
        "colab": {
          "base_uri": "https://localhost:8080/"
        },
        "id": "L5wZDlyaPmYt",
        "outputId": "22e56dd2-7d87-4729-e9d7-4585a2a500d4"
      },
      "execution_count": null,
      "outputs": [
        {
          "output_type": "stream",
          "name": "stdout",
          "text": [
            "0.9703459637561779\n",
            "0.6441515650741351\n",
            "0.07100004187709266\n"
          ]
        }
      ]
    },
    {
      "cell_type": "code",
      "source": [
        "fig, ax = plt.subplots(figsize=(10,8))\n",
        "\n",
        "ax.errorbar('knn', knn_accuracy_mean_woa, knn_accuracy_std_woa, fmt='o', linewidth=2, capsize=6, color=\"blue\")\n",
        "ax.errorbar('knn', knn_accuracy_max_woa, fmt='o', linewidth=2, capsize=6, color=\"blue\")\n",
        "ax.errorbar('knn', knn_accuracy_min_woa, fmt='o', linewidth=2, capsize=6, color=\"blue\")\n",
        "\n",
        "ax.errorbar('randfrst', randfrst_accuracy_mean_woa, randfrst_accuracy_std_woa, fmt='o', linewidth=2, capsize=6, color='green')\n",
        "ax.errorbar('randfrst', randfrst_accuracy_max_woa, fmt='o', linewidth=2, capsize=6, color='green')\n",
        "ax.errorbar('randfrst', randfrst_accuracy_min_woa, fmt='o', linewidth=2, capsize=6, color='green')\n",
        "\n",
        "ax.errorbar('dt', dt_accuracy_mean_woa, dt_accuracy_std_woa, fmt='o', linewidth=2, capsize=6, color='red')\n",
        "ax.errorbar('dt', dt_accuracy_max_woa, fmt='o', linewidth=2, capsize=6, color='red')\n",
        "ax.errorbar('dt', dt_accuracy_min_woa, fmt='o', linewidth=2, capsize=6, color='red')\n",
        "\n",
        "ax.set_xlabel('Sınıflandırma Algoritması')\n",
        "ax.set_ylabel('Doğruluk')\n",
        "ax.set_title('10 AP İçin WOA ile Hiper Parametre Seçilmiş Sınıflandırma Algoritması Doğruluğu')\n",
        "\n",
        "knn_patch = plt.Line2D([0], [0], marker='o', color='w', markerfacecolor='blue', markersize=8)\n",
        "rf_patch = plt.Line2D([0], [0], marker='o', color='w', markerfacecolor='green', markersize=8)\n",
        "dt_patch = plt.Line2D([0], [0], marker='o', color='w', markerfacecolor='red', markersize=8)\n",
        "\n",
        "# Create the legend\n",
        "ax.legend([knn_patch, rf_patch, dt_patch], ['KNN', 'Random Forest', 'Decision Tree'])"
      ],
      "metadata": {
        "id": "oTyO5kFgepH7",
        "colab": {
          "base_uri": "https://localhost:8080/",
          "height": 737
        },
        "outputId": "0c0097bf-6e92-4dec-a191-2e30d599eb6c"
      },
      "execution_count": null,
      "outputs": [
        {
          "output_type": "execute_result",
          "data": {
            "text/plain": [
              "<matplotlib.legend.Legend at 0x7f45402ea500>"
            ]
          },
          "metadata": {},
          "execution_count": 77
        },
        {
          "output_type": "display_data",
          "data": {
            "text/plain": [
              "<Figure size 1000x800 with 1 Axes>"
            ],
            "image/png": "[encoded data removed]"
          },
          "metadata": {}
        }
      ]
    },
    {
      "cell_type": "code",
      "source": [
        "fig, ax = plt.subplots(figsize=(10,8))\n",
        "\n",
        "ax.errorbar('knn', knn_precision_mean_woa, knn_precision_std_woa, fmt='o', linewidth=2, capsize=6, color=\"blue\")\n",
        "ax.errorbar('knn', knn_precision_max_woa, fmt='o', linewidth=2, capsize=6, color=\"blue\")\n",
        "ax.errorbar('knn', knn_precision_min_woa, fmt='o', linewidth=2, capsize=6, color=\"blue\")\n",
        "\n",
        "ax.errorbar('randfrst', randfrst_precision_mean_woa, randfrst_precision_std_woa, fmt='o', linewidth=2, capsize=6, color=\"green\")\n",
        "ax.errorbar('randfrst', randfrst_precision_max_woa, fmt='o', linewidth=2, capsize=6, color=\"green\")\n",
        "ax.errorbar('randfrst', randfrst_precision_min_woa, fmt='o', linewidth=2, capsize=6, color=\"green\")\n",
        "\n",
        "\n",
        "ax.errorbar('dt', dt_precision_mean_woa, dt_precision_std_woa, fmt='o', linewidth=2, capsize=6, color=\"red\")\n",
        "ax.errorbar('dt', dt_precision_max_woa, fmt='o', linewidth=2, capsize=6, color=\"red\")\n",
        "ax.errorbar('dt', dt_precision_min_woa, fmt='o', linewidth=2, capsize=6, color=\"red\")\n",
        "\n",
        "ax.set_xlabel('Sınıflandırma Algoritması')\n",
        "ax.set_ylabel('Kesinlik')\n",
        "ax.set_title('10 AP İçin WOA ile Hiper Parametre Seçilmiş Sınıflandırma Algoritması Kesinliği')\n",
        "knn_patch = plt.Line2D([0], [0], marker='o', color='w', markerfacecolor='blue', markersize=8)\n",
        "rf_patch = plt.Line2D([0], [0], marker='o', color='w', markerfacecolor='green', markersize=8)\n",
        "dt_patch = plt.Line2D([0], [0], marker='o', color='w', markerfacecolor='red', markersize=8)\n",
        "\n",
        "# Create the legend\n",
        "ax.legend([knn_patch, rf_patch, dt_patch], ['KNN', 'Random Forest', 'Decision Tree'])"
      ],
      "metadata": {
        "id": "MqLX4cR9e7e-",
        "colab": {
          "base_uri": "https://localhost:8080/",
          "height": 737
        },
        "outputId": "6117db44-98a8-4ba9-ab5f-389128989caf"
      },
      "execution_count": null,
      "outputs": [
        {
          "output_type": "execute_result",
          "data": {
            "text/plain": [
              "<matplotlib.legend.Legend at 0x7f4540038c40>"
            ]
          },
          "metadata": {},
          "execution_count": 78
        },
        {
          "output_type": "display_data",
          "data": {
            "text/plain": [
              "<Figure size 1000x800 with 1 Axes>"
            ],
            "image/png": "[encoded data removed]"
          },
          "metadata": {}
        }
      ]
    },
    {
      "cell_type": "code",
      "source": [
        "fig, ax = plt.subplots(figsize=(10,8))\n",
        "\n",
        "ax.errorbar('knn', knn_recall_mean_woa, knn_recall_std_woa, fmt='o', linewidth=2, capsize=6, color=\"blue\")\n",
        "ax.errorbar('knn', knn_recall_max_woa, fmt='o', linewidth=2, capsize=6, color=\"blue\")\n",
        "ax.errorbar('knn', knn_recall_min_woa, fmt='o', linewidth=2, capsize=6, color=\"blue\")\n",
        "\n",
        "ax.errorbar('randfrst', randfrst_recall_mean_woa, randfrst_recall_std_woa, fmt='o', linewidth=2, capsize=6, color=\"green\")\n",
        "ax.errorbar('randfrst', randfrst_recall_max_woa, fmt='o', linewidth=2, capsize=6, color=\"green\")\n",
        "ax.errorbar('randfrst', randfrst_recall_min_woa, fmt='o', linewidth=2, capsize=6, color=\"green\")\n",
        "\n",
        "ax.errorbar('dt', dt_recall_mean_woa, dt_recall_std_woa, fmt='o', linewidth=2, capsize=6, color=\"red\")\n",
        "ax.errorbar('dt', dt_recall_max_woa, fmt='o', linewidth=2, capsize=6, color=\"red\")\n",
        "ax.errorbar('dt', dt_recall_min_woa, fmt='o', linewidth=2, capsize=6, color=\"red\")\n",
        "\n",
        "ax.set_xlabel('Sınıflandırma Algoritması')\n",
        "ax.set_ylabel('Duyarlılık')\n",
        "ax.set_title('10 AP İçin WOA ile Hiper Parametre Seçilmiş Sınıflandırma Algoritması Duyarlılığı')\n",
        "# Custom legend labels and colors\n",
        "knn_patch = plt.Line2D([0], [0], marker='o', color='w', markerfacecolor='blue', markersize=8)\n",
        "rf_patch = plt.Line2D([0], [0], marker='o', color='w', markerfacecolor='green', markersize=8)\n",
        "dt_patch = plt.Line2D([0], [0], marker='o', color='w', markerfacecolor='red', markersize=8)\n",
        "\n",
        "# Create the legend\n",
        "ax.legend([knn_patch, rf_patch, dt_patch], ['KNN', 'Random Forest', 'Decision Tree'])\n",
        "\n",
        "plt.show()"
      ],
      "metadata": {
        "id": "EcWd922RfMP3",
        "colab": {
          "base_uri": "https://localhost:8080/",
          "height": 720
        },
        "outputId": "afc33708-d8ea-42ac-abf8-e4009bd03477"
      },
      "execution_count": null,
      "outputs": [
        {
          "output_type": "display_data",
          "data": {
            "text/plain": [
              "<Figure size 1000x800 with 1 Axes>"
            ],
            "image/png": "[encoded data removed]"
          },
          "metadata": {}
        }
      ]
    },
    {
      "cell_type": "code",
      "source": [],
      "metadata": {
        "id": "s_9OYheNI4sg"
      },
      "execution_count": null,
      "outputs": []
    }
  ]
}